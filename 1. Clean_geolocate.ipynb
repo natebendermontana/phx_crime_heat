{
 "cells": [
  {
   "cell_type": "code",
   "execution_count": 1,
   "id": "1063df08",
   "metadata": {},
   "outputs": [],
   "source": [
    "import pandas as pd\n",
    "import numpy as np\n",
    "import requests\n",
    "from io import StringIO\n",
    "import os\n",
    "import geopy\n",
    "import plotly\n",
    "#import plotly.express as px\n",
    "import plotly.graph_objects as go\n",
    "from geopy.extra.rate_limiter import RateLimiter\n",
    "from geopy.geocoders import Nominatim\n",
    "import time \n",
    "\n",
    "# Constants\n",
    "DATA_URL = \"https://www.phoenixopendata.com/dataset/cc08aace-9ca9-467f-b6c1-f0879ab1a358/resource/0ce3411a-2fc6-4302-a33f-167f68608a20/download/crime-data_crime-data_crimestat.csv\"\n",
    "LOCAL_DATA_PATH = \"/Users/natebender/Desktop/repo/phx_crime_heat/data/crime_data.csv\"\n",
    "CACHE_FILE_PATH = \"/Users/natebender/Desktop/repo/phx_crime_heat/data/geocode_cache.csv\"\n"
   ]
  },
  {
   "cell_type": "code",
   "execution_count": 2,
   "id": "dfb7496c",
   "metadata": {},
   "outputs": [],
   "source": [
    "# Try to load the geocode cache if it exists; otherwise, initialize an empty dictionary\n",
    "try:\n",
    "    cache_df = pd.read_csv(CACHE_FILE_PATH, index_col='address')\n",
    "    geocode_cache = cache_df.to_dict(orient='index')\n",
    "except FileNotFoundError:\n",
    "    geocode_cache = {}"
   ]
  },
  {
   "cell_type": "code",
   "execution_count": 3,
   "id": "2619dae2",
   "metadata": {},
   "outputs": [],
   "source": [
    "def download_data(url):\n",
    "    \"\"\"\n",
    "    Download CSV data from the provided URL and return it as a pandas DataFrame.\n",
    "    Adjust the dtype of 'INC NUMBER' to string to avoid mixed types warning.\n",
    "    \"\"\"\n",
    "    response = requests.get(url)\n",
    "    if response.status_code == 200:\n",
    "        data = StringIO(response.content.decode('utf-8'))\n",
    "        # Specify dtype for 'INC NUMBER' column to ensure it's read as a string\n",
    "        df = pd.read_csv(data, dtype={'INC NUMBER': str})\n",
    "        return df\n",
    "    else:\n",
    "        raise Exception(f\"Failed to download data: HTTP {response.status_code}\")\n",
    "\n",
    "def save_data(df, path):\n",
    "    \"\"\"\n",
    "    Save the DataFrame to the specified local path.\n",
    "    \"\"\"\n",
    "    df.to_csv(path, index=False)\n",
    "\n",
    "def update_data(url, local_path):\n",
    "    \"\"\"\n",
    "    Update the local dataset with new entries from the dataset at the provided URL.\n",
    "    Adjust the dtype of 'INC NUMBER' to string when loading existing data.\n",
    "    \"\"\"\n",
    "    # Download the latest data\n",
    "    new_data = download_data(url)\n",
    "    new_data = clean_addresses(new_data)\n",
    "    \n",
    "    if os.path.exists(local_path):\n",
    "        # Load the existing data, specifying dtype for 'INC NUMBER'\n",
    "        existing_data = pd.read_csv(local_path, dtype={'inc_number': str})\n",
    "        \n",
    "        # Combine the new data with the existing data, avoiding duplicates\n",
    "        updated_data = pd.concat([existing_data, new_data]).drop_duplicates(subset=['inc_number', 'occurred_on'])\n",
    "        \n",
    "        # Save the combined dataset back to the local path\n",
    "        save_data(updated_data, local_path)\n",
    "        print(\"Data has been updated.\")\n",
    "    else:\n",
    "        # If the local file does not exist, just save the new data\n",
    "        save_data(new_data, local_path)\n",
    "        print(\"Data saved.\")\n",
    "\n",
    "# Example usage\n",
    "# update_data(DATA_URL, LOCAL_DATA_PATH)"
   ]
  },
  {
   "cell_type": "code",
   "execution_count": 4,
   "id": "125a7785",
   "metadata": {},
   "outputs": [],
   "source": [
    "def clean_addresses(df):\n",
    "    \"\"\"\n",
    "    Clean the '100 BLOCK ADDR' column in the DataFrame.\n",
    "    \"\"\"\n",
    "    # Example cleaning step: Replace \"XX\" with \"00\" in addresses\n",
    "    df['100_block_addr'] = df['100_block_addr'].str.replace('XX', '00')\n",
    "    return df\n"
   ]
  },
  {
   "cell_type": "code",
   "execution_count": 5,
   "id": "70a446b8",
   "metadata": {},
   "outputs": [],
   "source": [
    "def robust_geocode(address, zip_code=None):\n",
    "    \"\"\"\n",
    "    Attempt to geocode an address using an external geocoding service.\n",
    "    Appends zip code information to the address to improve accuracy.\n",
    "    Caches results using a combination of address and zip code as the key.\n",
    "\n",
    "    Parameters:\n",
    "    - address: The street address to geocode.\n",
    "    - zip_code: Optional zip code to include in the geocoding request.\n",
    "    \"\"\"\n",
    "    # Formulate the query with the zip code, if provided\n",
    "    address_query = f\"{address}, Phoenix, AZ\"\n",
    "#     if zip_code:\n",
    "#         zip_code = str(zip_code)\n",
    "#         address_query += f\", {zip_code}\"\n",
    "    \n",
    "    # Use address_query as the cache key to uniquely identify each geocode request\n",
    "    cache_key = address_query\n",
    "    \n",
    "    # Check cache first to avoid redundant geocoding requests\n",
    "    if cache_key in geocode_cache:\n",
    "        return geocode_cache[cache_key]\n",
    "    \n",
    "    try:\n",
    "       # address_query = f\"{address}, {zip_code}\" if zip_code else address\n",
    "        location = geocode(address_query, timeout=10)\n",
    "        if location:\n",
    "            lat_lon = (location.latitude, location.longitude)\n",
    "            geocode_cache[cache_key] = lat_lon\n",
    "            return lat_lon\n",
    "        else:\n",
    "            geocode_cache[cache_key] = (None, None)\n",
    "            return (None, None)\n",
    "    except Exception as e:\n",
    "        print(f\"Error geocoding address '{address_query}': {e}\")\n",
    "        geocode_cache[cache_key] = (None, None)\n",
    "        return (None, None)"
   ]
  },
  {
   "cell_type": "code",
   "execution_count": 6,
   "id": "1dccac1f",
   "metadata": {},
   "outputs": [],
   "source": [
    "def save_cache_to_file(cache, file_path):\n",
    "    \"\"\"\n",
    "    Save the geocode cache to a CSV file, including handling cache entries\n",
    "    that are keyed with address and zip code combinations.\n",
    "\n",
    "    Parameters:\n",
    "    - cache: The geocode cache dictionary.\n",
    "    - file_path: Path to the CSV file where the cache is saved.\n",
    "    \"\"\"\n",
    "    cache_data = [{\n",
    "        'address_zip': key,  # The combined address and zip code key\n",
    "        'latitude': lat_lon[0] if lat_lon else None,\n",
    "        'longitude': lat_lon[1] if lat_lon else None\n",
    "    } for key, lat_lon in cache.items()]\n",
    "    \n",
    "    cache_df = pd.DataFrame(cache_data)\n",
    "    # Optionally split 'address_zip' into separate 'address' and 'zip' columns here\n",
    "    cache_df.to_csv(file_path, index=False)"
   ]
  },
  {
   "cell_type": "code",
   "execution_count": 7,
   "id": "0eb538b8",
   "metadata": {},
   "outputs": [],
   "source": [
    "def batch_addr_processing(df, address_column, cache_file_path, batch_size=2000):\n",
    "    \"\"\"\n",
    "    Processes addresses in batches, applying geocoding, providing progress updates,\n",
    "    and saving the cache periodically.\n",
    "\n",
    "    Parameters:\n",
    "    - df: DataFrame containing the addresses to be processed.\n",
    "    - address_column: The name of the column in df that contains the addresses.\n",
    "    - cache_file_path: The file path where the geocode cache will be saved.\n",
    "    - batch_size: The number of addresses to process in each batch.\n",
    "    \"\"\"\n",
    "    start_time = time.time()  # Start timer\n",
    "\n",
    "    geocoded_results = df.apply(lambda x: robust_geocode(x[address_column], x['zip']) if pd.notnull(x[address_column]) else (None, None), axis=1)\n",
    "\n",
    "    # Splitting the tuple results into two separate series for latitude and longitude\n",
    "    df['latitude'], df['longitude'] = zip(*geocoded_results)\n",
    "\n",
    "    #print(df)\n",
    "\n",
    "    # Save cache periodically after each batch\n",
    "    save_cache_to_file(geocode_cache, cache_file_path)\n",
    "        \n",
    "    end_time = time.time()  # End timer\n",
    "    elapsed_time = end_time - start_time  # Calculate elapsed time\n",
    "    print(f\"Batch address processing completed in {elapsed_time:.2f} seconds.\")\n",
    "     \n",
    "    return df"
   ]
  },
  {
   "cell_type": "code",
   "execution_count": 8,
   "id": "cabf8c71",
   "metadata": {},
   "outputs": [],
   "source": [
    "geolocator = Nominatim(user_agent=\"nb_phx_test_app\")\n",
    "geocode = RateLimiter(geolocator.geocode, min_delay_seconds=1, error_wait_seconds=10, max_retries=2, swallow_exceptions=False)"
   ]
  },
  {
   "cell_type": "code",
   "execution_count": 9,
   "id": "fb146a05",
   "metadata": {},
   "outputs": [
    {
     "name": "stdout",
     "output_type": "stream",
     "text": [
      "1300, East Almeria Road, Palms Trailer Park, Phoenix, Maricopa County, Arizona, 85006, United States\n",
      "(33.466771, -112.054083)\n"
     ]
    }
   ],
   "source": [
    "\n",
    "# Adjust the rate limiter to use a more conservative delay and a longer timeout\n",
    "# Increasing min_delay_seconds to avoid hitting rate limits\n",
    "# Setting a longer timeout for each geocode call\n",
    "\n",
    "#location = geolocator.geocode(\"175 5th Avenue NYC\")\n",
    "location = geolocator.geocode(\"1300 E ALMERIA RD, Phoenix, AZ, 85006\")\n",
    "\n",
    "print(location.address)\n",
    "print((location.latitude, location.longitude))"
   ]
  },
  {
   "cell_type": "code",
   "execution_count": 10,
   "id": "2ed9f994",
   "metadata": {},
   "outputs": [],
   "source": [
    "# df = download_data(DATA_URL)"
   ]
  },
  {
   "cell_type": "code",
   "execution_count": 11,
   "id": "d700203a",
   "metadata": {},
   "outputs": [],
   "source": [
    "# save_data(df, LOCAL_DATA_PATH)\n",
    "# df_clean = clean_addresses(df)"
   ]
  },
  {
   "cell_type": "code",
   "execution_count": 48,
   "id": "23dc2937",
   "metadata": {
    "scrolled": false
   },
   "outputs": [
    {
     "name": "stderr",
     "output_type": "stream",
     "text": [
      "/Users/natebender/.local/lib/python3.9/site-packages/IPython/core/interactiveshell.py:3433: DtypeWarning:\n",
      "\n",
      "Columns (0,1,2,3,4,6,7) have mixed types.Specify dtype option on import or set low_memory=False.\n",
      "\n"
     ]
    }
   ],
   "source": [
    "df_test = pd.read_csv(\"/Users/natebender/Desktop/crimestat_copy.csv\",dtype={'inc_number': str})"
   ]
  },
  {
   "cell_type": "code",
   "execution_count": 49,
   "id": "1dd58050",
   "metadata": {},
   "outputs": [
    {
     "data": {
      "text/plain": [
       "527233"
      ]
     },
     "execution_count": 49,
     "metadata": {},
     "output_type": "execute_result"
    }
   ],
   "source": [
    "len(df_test)"
   ]
  },
  {
   "cell_type": "code",
   "execution_count": 37,
   "id": "01e0ab53",
   "metadata": {
    "scrolled": true
   },
   "outputs": [],
   "source": [
    "df_test.columns = [col.lower().replace(' ', '_') for col in df_test.columns]\n",
    "df_test['zip'] = df_test['zip'].astype(str)\n",
    "df_test = df_test.dropna(subset=['inc_number'])\n",
    "# Ensure 'occurred_on' is datetime and create a string version for display\n",
    "df_test['occurred_on'] = pd.to_datetime(df_test['occurred_on'])\n",
    "df_test['occurred_on_str'] = df_test['occurred_on'].dt.strftime('%Y-%m-%d')"
   ]
  },
  {
   "cell_type": "code",
   "execution_count": 38,
   "id": "d1c78a73",
   "metadata": {},
   "outputs": [
    {
     "data": {
      "text/plain": [
       "1000"
      ]
     },
     "execution_count": 38,
     "metadata": {},
     "output_type": "execute_result"
    }
   ],
   "source": [
    "df_test = df_test.iloc[:10000]\n",
    "len(df_test)"
   ]
  },
  {
   "cell_type": "code",
   "execution_count": 39,
   "id": "00da9694",
   "metadata": {
    "scrolled": true
   },
   "outputs": [
    {
     "name": "stdout",
     "output_type": "stream",
     "text": [
      "inc_number              0\n",
      "occurred_on             3\n",
      "occurred_to           230\n",
      "ucr_crime_category      0\n",
      "100_block_addr          0\n",
      "zip                     0\n",
      "premise_type           12\n",
      "grid                    3\n",
      "occurred_on_str         3\n",
      "dtype: int64\n"
     ]
    }
   ],
   "source": [
    "df_test = clean_addresses(df_test)\n",
    "print(df_test.isnull().sum())"
   ]
  },
  {
   "cell_type": "code",
   "execution_count": 40,
   "id": "9c3ec5cd",
   "metadata": {},
   "outputs": [],
   "source": [
    "df_test.dropna(subset=['occurred_on'], inplace=True)"
   ]
  },
  {
   "cell_type": "code",
   "execution_count": 41,
   "id": "e528bac6",
   "metadata": {
    "scrolled": true
   },
   "outputs": [
    {
     "name": "stdout",
     "output_type": "stream",
     "text": [
      "Batch address processing completed in 794.05 seconds.\n"
     ]
    }
   ],
   "source": [
    "df_test = batch_addr_processing(df_test, '100_block_addr', CACHE_FILE_PATH)"
   ]
  },
  {
   "cell_type": "code",
   "execution_count": 42,
   "id": "5bd18bdb",
   "metadata": {
    "scrolled": false
   },
   "outputs": [
    {
     "data": {
      "text/plain": [
       "0     2015-11-01 00:00:00\n",
       "1     2015-11-01 00:00:00\n",
       "2     2015-11-01 00:00:00\n",
       "3     2015-11-01 00:00:00\n",
       "4     2015-11-01 00:00:00\n",
       "              ...        \n",
       "995   2015-11-07 00:21:00\n",
       "996   2015-11-07 00:25:00\n",
       "997   2015-11-07 00:56:00\n",
       "998   2015-11-07 01:00:00\n",
       "999   2015-11-07 01:00:00\n",
       "Name: occurred_on, Length: 997, dtype: datetime64[ns]"
      ]
     },
     "execution_count": 42,
     "metadata": {},
     "output_type": "execute_result"
    }
   ],
   "source": [
    "df_test[\"occurred_on\"]"
   ]
  },
  {
   "cell_type": "code",
   "execution_count": 43,
   "id": "2fad9648",
   "metadata": {
    "scrolled": false
   },
   "outputs": [
    {
     "data": {
      "text/html": [
       "<div>\n",
       "<style scoped>\n",
       "    .dataframe tbody tr th:only-of-type {\n",
       "        vertical-align: middle;\n",
       "    }\n",
       "\n",
       "    .dataframe tbody tr th {\n",
       "        vertical-align: top;\n",
       "    }\n",
       "\n",
       "    .dataframe thead th {\n",
       "        text-align: right;\n",
       "    }\n",
       "</style>\n",
       "<table border=\"1\" class=\"dataframe\">\n",
       "  <thead>\n",
       "    <tr style=\"text-align: right;\">\n",
       "      <th></th>\n",
       "      <th>inc_number</th>\n",
       "      <th>occurred_on</th>\n",
       "      <th>occurred_to</th>\n",
       "      <th>ucr_crime_category</th>\n",
       "      <th>100_block_addr</th>\n",
       "      <th>zip</th>\n",
       "      <th>premise_type</th>\n",
       "      <th>grid</th>\n",
       "      <th>occurred_on_str</th>\n",
       "      <th>latitude</th>\n",
       "      <th>longitude</th>\n",
       "    </tr>\n",
       "  </thead>\n",
       "  <tbody>\n",
       "    <tr>\n",
       "      <th>0</th>\n",
       "      <td>2.016E+14</td>\n",
       "      <td>2015-11-01</td>\n",
       "      <td>NaN</td>\n",
       "      <td>RAPE</td>\n",
       "      <td>1300 E ALMERIA RD</td>\n",
       "      <td>85006.0</td>\n",
       "      <td>SINGLE FAMILY HOUSE</td>\n",
       "      <td>BD30</td>\n",
       "      <td>2015-11-01</td>\n",
       "      <td>33.466771</td>\n",
       "      <td>-112.054083</td>\n",
       "    </tr>\n",
       "    <tr>\n",
       "      <th>1</th>\n",
       "      <td>2.015E+14</td>\n",
       "      <td>2015-11-01</td>\n",
       "      <td>11/1/15 9:00</td>\n",
       "      <td>LARCENY-THEFT</td>\n",
       "      <td>5100 N 15TH ST</td>\n",
       "      <td>85014.0</td>\n",
       "      <td>APARTMENT</td>\n",
       "      <td>BJ30</td>\n",
       "      <td>2015-11-01</td>\n",
       "      <td>33.512281</td>\n",
       "      <td>-112.050423</td>\n",
       "    </tr>\n",
       "    <tr>\n",
       "      <th>2</th>\n",
       "      <td>2.015E+14</td>\n",
       "      <td>2015-11-01</td>\n",
       "      <td>11/11/15 9:30</td>\n",
       "      <td>LARCENY-THEFT</td>\n",
       "      <td>1400 E HIGHLAND AVE</td>\n",
       "      <td>85014.0</td>\n",
       "      <td>PARKING LOT</td>\n",
       "      <td>BI30</td>\n",
       "      <td>2015-11-01</td>\n",
       "      <td>33.505666</td>\n",
       "      <td>-112.051749</td>\n",
       "    </tr>\n",
       "    <tr>\n",
       "      <th>3</th>\n",
       "      <td>2.015E+14</td>\n",
       "      <td>2015-11-01</td>\n",
       "      <td>11/1/15 11:50</td>\n",
       "      <td>MOTOR VEHICLE THEFT</td>\n",
       "      <td>6900 W WOOD ST</td>\n",
       "      <td>85043.0</td>\n",
       "      <td>SINGLE FAMILY HOUSE</td>\n",
       "      <td>AF12</td>\n",
       "      <td>2015-11-01</td>\n",
       "      <td>33.410824</td>\n",
       "      <td>-112.209052</td>\n",
       "    </tr>\n",
       "    <tr>\n",
       "      <th>4</th>\n",
       "      <td>2.016E+14</td>\n",
       "      <td>2015-11-01</td>\n",
       "      <td>1/9/16 0:00</td>\n",
       "      <td>MOTOR VEHICLE THEFT</td>\n",
       "      <td>N 43RD AVE &amp; W CACTUS RD</td>\n",
       "      <td>85029.0</td>\n",
       "      <td>SINGLE FAMILY HOUSE</td>\n",
       "      <td>DA19</td>\n",
       "      <td>2015-11-01</td>\n",
       "      <td>NaN</td>\n",
       "      <td>NaN</td>\n",
       "    </tr>\n",
       "  </tbody>\n",
       "</table>\n",
       "</div>"
      ],
      "text/plain": [
       "  inc_number occurred_on    occurred_to   ucr_crime_category  \\\n",
       "0  2.016E+14  2015-11-01            NaN                 RAPE   \n",
       "1  2.015E+14  2015-11-01   11/1/15 9:00        LARCENY-THEFT   \n",
       "2  2.015E+14  2015-11-01  11/11/15 9:30        LARCENY-THEFT   \n",
       "3  2.015E+14  2015-11-01  11/1/15 11:50  MOTOR VEHICLE THEFT   \n",
       "4  2.016E+14  2015-11-01    1/9/16 0:00  MOTOR VEHICLE THEFT   \n",
       "\n",
       "             100_block_addr      zip         premise_type  grid  \\\n",
       "0         1300 E ALMERIA RD  85006.0  SINGLE FAMILY HOUSE  BD30   \n",
       "1            5100 N 15TH ST  85014.0            APARTMENT  BJ30   \n",
       "2       1400 E HIGHLAND AVE  85014.0          PARKING LOT  BI30   \n",
       "3            6900 W WOOD ST  85043.0  SINGLE FAMILY HOUSE  AF12   \n",
       "4  N 43RD AVE & W CACTUS RD  85029.0  SINGLE FAMILY HOUSE  DA19   \n",
       "\n",
       "  occurred_on_str   latitude   longitude  \n",
       "0      2015-11-01  33.466771 -112.054083  \n",
       "1      2015-11-01  33.512281 -112.050423  \n",
       "2      2015-11-01  33.505666 -112.051749  \n",
       "3      2015-11-01  33.410824 -112.209052  \n",
       "4      2015-11-01        NaN         NaN  "
      ]
     },
     "execution_count": 43,
     "metadata": {},
     "output_type": "execute_result"
    }
   ],
   "source": [
    "df_test.head()"
   ]
  },
  {
   "cell_type": "code",
   "execution_count": 44,
   "id": "9f5d6027",
   "metadata": {
    "collapsed": true
   },
   "outputs": [
    {
     "data": {
      "application/vnd.plotly.v1+json": {
       "config": {
        "plotlyServerURL": "https://plot.ly"
       },
       "data": [
        {
         "hoverinfo": "text",
         "lat": [
          33.466771,
          33.512281,
          33.505666,
          33.410824,
          null,
          33.51083,
          33.509561,
          33.495116,
          33.738218,
          33.509521,
          33.381281,
          33.585802,
          33.592011,
          33.48239,
          33.585726,
          33.466097500000004,
          33.586374,
          33.670393,
          33.5650605,
          null,
          33.551212,
          33.664595,
          33.471022,
          33.63355614156423,
          33.509534,
          33.35168250929977,
          33.466038555486165,
          33.384189,
          33.540801,
          33.454812,
          33.418994,
          33.495102,
          33.299533,
          33.480156,
          33.494819,
          33.532669459955066,
          33.646595,
          33.490751921072835,
          33.5026053,
          33.321618375,
          33.406958743243244,
          33.585802,
          33.3750309,
          33.553177,
          33.476728,
          33.497371,
          33.694458,
          33.6402324277168,
          33.567621,
          33.487892,
          33.497635,
          33.465914,
          33.44235823232323,
          33.45353979185082,
          33.551212,
          33.464954,
          33.48701378880589,
          33.31237971218165,
          33.374347,
          33.439352,
          33.496482,
          33.669689325581395,
          33.4951347,
          null,
          33.4140901244532,
          33.63866181758633,
          33.5101893,
          33.5982102,
          33.446459,
          33.48409,
          null,
          null,
          33.592328958994685,
          33.587648,
          null,
          33.74022252884905,
          33.487837,
          33.411908,
          33.465841,
          33.651627,
          33.452183285714284,
          33.629572,
          33.508484,
          33.553218,
          33.389063,
          33.42487587028998,
          33.457851,
          33.480296,
          33.465974,
          33.391596818791946,
          33.469494,
          33.566094,
          33.466062,
          33.534338399999996,
          33.459044,
          33.639749,
          33.466055,
          33.477175,
          33.473305521739135,
          33.654774,
          33.652621,
          33.67238480729145,
          33.367737444444444,
          33.305291,
          33.409374,
          33.6402324277168,
          33.639401,
          33.387288,
          33.466037,
          33.476693505050505,
          33.449884,
          33.449302,
          33.490418,
          33.510049,
          33.363905628758324,
          33.640311,
          33.626989175879395,
          33.652501,
          33.625375,
          33.587125,
          33.409093,
          33.80203253583419,
          33.453298,
          33.43640710624165,
          33.458802,
          33.5392593559322,
          33.39016736981714,
          33.640238,
          33.516853,
          33.49645882828283,
          33.6402324277168,
          33.644184844827585,
          33.495071,
          33.378138,
          33.491409,
          33.51133110692751,
          33.409754,
          33.376098,
          33.55718141745305,
          33.31991431591687,
          33.471142,
          33.65277565991285,
          33.396297678420005,
          33.41904336363637,
          33.334886,
          33.495071,
          33.480532,
          33.481095,
          33.485844,
          33.451434,
          33.451367,
          33.578982,
          null,
          33.50583946063219,
          33.410753324324325,
          33.65951,
          33.617357,
          33.5250664,
          33.596505,
          33.441446,
          33.292984
         ],
         "lon": [
          -112.054083,
          -112.050423,
          -112.051749,
          -112.209052,
          null,
          -112.279628,
          -112.126082,
          -112.175245,
          -112.109682,
          -112.140849,
          -112.157992,
          -112.095671,
          -111.98807,
          -112.006219,
          -112.134178,
          -111.9948820439732,
          -111.977742,
          -112.082301,
          -112.0946482,
          null,
          -112.112897,
          -112.066351,
          -112.141509,
          -112.08158906437909,
          -112.119695,
          -111.99323762450298,
          -112.1580992954471,
          -112.105216,
          -112.130481,
          -112.076561,
          -112.244455,
          -112.168974,
          -112.005896,
          -111.97395,
          -112.062709,
          -112.0453190486569,
          -112.065661,
          -112.22243885258327,
          -112.203214,
          -111.988956475,
          -112.03347666216216,
          -112.095671,
          -112.1614824,
          -112.117121,
          -112.036597,
          -112.056409,
          -112.124782,
          -112.09774094306228,
          -112.133308,
          -112.108509,
          -112.201235,
          -112.093939,
          -112.12815390909091,
          -112.14539245085619,
          -112.112897,
          -112.023604,
          -112.14899310064341,
          -112.02727497846989,
          -112.161702,
          -112.095793,
          -112.215514,
          -112.02410095348837,
          -112.2060645,
          null,
          -112.0720764120297,
          -111.97786595880538,
          -112.2737572,
          -111.9261226,
          -112.069784,
          -112.0436161,
          null,
          null,
          -111.9788783336768,
          -112.099763,
          null,
          -112.13459570362824,
          -112.117151,
          -112.28215,
          -112.045355,
          -111.93159153934097,
          -112.11996804761905,
          -112.021499,
          -112.078261,
          -112.113006,
          -112.112664,
          -112.02332813153286,
          -112.136811,
          -111.98472,
          -112.197211,
          -112.07340298657718,
          -112.220772,
          -112.105793,
          -112.117231,
          -112.07187257239625,
          -112.029226,
          -112.130112,
          -112.169254,
          -112.2179,
          -112.14550660869564,
          -112.115198,
          -112.134569,
          -112.08500473062854,
          -112.05843863636363,
          -111.99572,
          -112.068397,
          -112.09774094306228,
          -112.151941,
          -111.978447,
          -112.149559,
          -112.21606071717171,
          -112.147586,
          -112.098344,
          -112.056435,
          -112.012876,
          -112.0732977239317,
          -112.078628,
          -112.03080877386935,
          -112.147717,
          -112.11367,
          -112.14513,
          -112.00296,
          -112.13058163116442,
          -112.130501,
          -112.01334159230677,
          -112.047485,
          -112.08253977966102,
          -112.09268383869319,
          -112.0959,
          -112.134326,
          -112.21386831313131,
          -112.09774094306228,
          -112.099814,
          -112.171183,
          -112.000678,
          -112.151809,
          -112.14556849251726,
          -112.279977,
          -112.113485,
          -112.08110214329068,
          -111.98231778495514,
          -112.14406,
          -112.09983710163824,
          -112.012825643148,
          -112.24769981818181,
          -112.008359,
          -112.171183,
          -112.193478,
          -112.161735,
          -112.103625,
          -112.030009,
          -112.003975,
          -112.124261,
          null,
          -112.08469189302826,
          -112.07483441216216,
          -112.10381,
          -111.959701,
          -112.10216138369839,
          -112.113163,
          -112.098186,
          -111.992565
         ],
         "marker": {
          "size": 9
         },
         "mode": "markers",
         "name": "2015-11-01",
         "text": [
          "Address: 1300 E ALMERIA RD<br>Latitude: 33.466771, Longitude: -112.054083<br>Date: 2015-11-01<br>Crime Category: RAPE",
          "Address: 5100 N 15TH ST<br>Latitude: 33.512281, Longitude: -112.050423<br>Date: 2015-11-01<br>Crime Category: LARCENY-THEFT",
          "Address: 1400 E HIGHLAND AVE<br>Latitude: 33.505666, Longitude: -112.051749<br>Date: 2015-11-01<br>Crime Category: LARCENY-THEFT",
          "Address: 6900 W WOOD ST<br>Latitude: 33.410824, Longitude: -112.209052<br>Date: 2015-11-01<br>Crime Category: MOTOR VEHICLE THEFT",
          "Address: N 43RD AVE & W CACTUS RD<br>Latitude: nan, Longitude: nan<br>Date: 2015-11-01<br>Crime Category: MOTOR VEHICLE THEFT",
          "Address: 10200 W MEDLOCK AVE<br>Latitude: 33.51083, Longitude: -112.279628<br>Date: 2015-11-01<br>Crime Category: MOTOR VEHICLE THEFT",
          "Address: 3300 W CAMELBACK RD<br>Latitude: 33.509561, Longitude: -112.126082<br>Date: 2015-11-01<br>Crime Category: LARCENY-THEFT",
          "Address: 5400 W INDIAN SCHOOL RD<br>Latitude: 33.495116, Longitude: -112.175245<br>Date: 2015-11-01<br>Crime Category: DRUG OFFENSE",
          "Address: 27900 N 23RD LN<br>Latitude: 33.738218, Longitude: -112.109682<br>Date: 2015-11-01<br>Crime Category: LARCENY-THEFT",
          "Address: 3800 W CAMELBACK RD<br>Latitude: 33.509521, Longitude: -112.140849<br>Date: 2015-11-01<br>Crime Category: RAPE",
          "Address: 4600 W FREMONT RD<br>Latitude: 33.381281, Longitude: -112.157992<br>Date: 2015-11-01<br>Crime Category: LARCENY-THEFT",
          "Address: 1700 W DESERT COVE AVE<br>Latitude: 33.585802, Longitude: -112.095671<br>Date: 2015-11-01<br>Crime Category: MOTOR VEHICLE THEFT",
          "Address: 4300 E CORTEZ ST<br>Latitude: 33.592011, Longitude: -111.98807<br>Date: 2015-11-01<br>Crime Category: LARCENY-THEFT",
          "Address: 3500 E PINCHOT AVE<br>Latitude: 33.48239, Longitude: -112.006219<br>Date: 2015-11-01<br>Crime Category: LARCENY-THEFT",
          "Address: 11000 N 35TH AVE<br>Latitude: 33.585726, Longitude: -112.134178<br>Date: 2015-11-01<br>Crime Category: LARCENY-THEFT",
          "Address: 4000 E MCDOWELL RD<br>Latitude: 33.466097500000004, Longitude: -111.9948820439732<br>Date: 2015-11-01<br>Crime Category: BURGLARY",
          "Address: 4800 E DESERT COVE AVE<br>Latitude: 33.586374, Longitude: -111.977742<br>Date: 2015-11-01<br>Crime Category: MOTOR VEHICLE THEFT",
          "Address: 20200 N 6TH DR<br>Latitude: 33.670393, Longitude: -112.082301<br>Date: 2015-11-01<br>Crime Category: LARCENY-THEFT",
          "Address: 6500 N 17TH AVE<br>Latitude: 33.5650605, Longitude: -112.0946482<br>Date: 2015-11-01<br>Crime Category: LARCENY-THEFT",
          "Address: 8800 N BLACK CANYON FWY<br>Latitude: nan, Longitude: nan<br>Date: 2015-11-01<br>Crime Category: LARCENY-THEFT",
          "Address: 2500 W AUGUSTA AVE<br>Latitude: 33.551212, Longitude: -112.112897<br>Date: 2015-11-01<br>Crime Category: LARCENY-THEFT",
          "Address: 19600 N 6TH PL<br>Latitude: 33.664595, Longitude: -112.066351<br>Date: 2015-11-01<br>Crime Category: LARCENY-THEFT",
          "Address: 3800 W HOLLY ST<br>Latitude: 33.471022, Longitude: -112.141509<br>Date: 2015-11-01<br>Crime Category: BURGLARY",
          "Address: 600 W BEVERLY LN<br>Latitude: 33.63355614156423, Longitude: -112.08158906437909<br>Date: 2015-11-01<br>Crime Category: BURGLARY",
          "Address: 2800 W CAMELBACK RD<br>Latitude: 33.509534, Longitude: -112.119695<br>Date: 2015-11-01<br>Crime Category: MOTOR VEHICLE THEFT",
          "Address: 4200 E WESTERN STAR BLVD<br>Latitude: 33.35168250929977, Longitude: -111.99323762450298<br>Date: 2015-11-01<br>Crime Category: LARCENY-THEFT",
          "Address: 4600 W MCDOWELL RD<br>Latitude: 33.466038555486165, Longitude: -112.1580992954471<br>Date: 2015-11-01<br>Crime Category: LARCENY-THEFT",
          "Address: 2100 W DARREL RD<br>Latitude: 33.384189, Longitude: -112.105216<br>Date: 2015-11-01<br>Crime Category: LARCENY-THEFT",
          "Address: 7100 N 33RD AVE<br>Latitude: 33.540801, Longitude: -112.130481<br>Date: 2015-11-01<br>Crime Category: LARCENY-THEFT",
          "Address: 200 W FILLMORE ST<br>Latitude: 33.454812, Longitude: -112.076561<br>Date: 2015-11-01<br>Crime Category: MOTOR VEHICLE THEFT",
          "Address: 8500 W MIAMI ST<br>Latitude: 33.418994, Longitude: -112.244455<br>Date: 2015-11-01<br>Crime Category: MOTOR VEHICLE THEFT",
          "Address: 4100 N 51ST AVE<br>Latitude: 33.495102, Longitude: -112.168974<br>Date: 2015-11-01<br>Crime Category: AGGRAVATED ASSAULT",
          "Address: 3500 E AMBERWOOD DR<br>Latitude: 33.299533, Longitude: -112.005896<br>Date: 2015-11-01<br>Crime Category: MOTOR VEHICLE THEFT",
          "Address: 5000 E THOMAS RD<br>Latitude: 33.480156, Longitude: -111.97395<br>Date: 2015-11-01<br>Crime Category: AGGRAVATED ASSAULT",
          "Address: 900 E INDIAN SCHOOL RD<br>Latitude: 33.494819, Longitude: -112.062709<br>Date: 2015-11-01<br>Crime Category: BURGLARY",
          "Address: 1700 E MCLELLAN BLVD<br>Latitude: 33.532669459955066, Longitude: -112.0453190486569<br>Date: 2015-11-01<br>Crime Category: MOTOR VEHICLE THEFT",
          "Address: 17600 N 7TH ST<br>Latitude: 33.646595, Longitude: -112.065661<br>Date: 2015-11-01<br>Crime Category: LARCENY-THEFT",
          "Address: 7600 W WHITTON AVE<br>Latitude: 33.490751921072835, Longitude: -112.22243885258327<br>Date: 2015-11-01<br>Crime Category: RAPE",
          "Address: 00 N 67TH AVE<br>Latitude: 33.5026053, Longitude: -112.203214<br>Date: 2015-11-01<br>Crime Category: MURDER AND NON-NEGLIGENT MANSLAUGHTER",
          "Address: 13800 S 44TH ST<br>Latitude: 33.321618375, Longitude: -111.988956475<br>Date: 2015-11-01<br>Crime Category: ROBBERY",
          "Address: 2200 E BROADWAY RD<br>Latitude: 33.406958743243244, Longitude: -112.03347666216216<br>Date: 2015-11-01<br>Crime Category: BURGLARY",
          "Address: 1700 W DESERT COVE AVE<br>Latitude: 33.585802, Longitude: -112.095671<br>Date: 2015-11-01<br>Crime Category: BURGLARY",
          "Address: 8700 S 47TH LN<br>Latitude: 33.3750309, Longitude: -112.1614824<br>Date: 2015-11-01<br>Crime Category: MOTOR VEHICLE THEFT",
          "Address: 2700 W NORTHERN AVE<br>Latitude: 33.553177, Longitude: -112.117121<br>Date: 2015-11-01<br>Crime Category: BURGLARY",
          "Address: 2100 E VIRGINIA AVE<br>Latitude: 33.476728, Longitude: -112.036597<br>Date: 2015-11-01<br>Crime Category: LARCENY-THEFT",
          "Address: 4200 N 12TH ST<br>Latitude: 33.497371, Longitude: -112.056409<br>Date: 2015-11-01<br>Crime Category: AGGRAVATED ASSAULT",
          "Address: 3000 W PARKSIDE LN<br>Latitude: 33.694458, Longitude: -112.124782<br>Date: 2015-11-01<br>Crime Category: BURGLARY",
          "Address: 1800 W BELL RD<br>Latitude: 33.6402324277168, Longitude: -112.09774094306228<br>Date: 2015-11-01<br>Crime Category: LARCENY-THEFT",
          "Address: 3400 W DUNLAP AVE<br>Latitude: 33.567621, Longitude: -112.133308<br>Date: 2015-11-01<br>Crime Category: LARCENY-THEFT",
          "Address: 3400 N 23RD AVE<br>Latitude: 33.487892, Longitude: -112.108509<br>Date: 2015-11-01<br>Crime Category: LARCENY-THEFT",
          "Address: 4300 N 66TH DR<br>Latitude: 33.497635, Longitude: -112.201235<br>Date: 2015-11-01<br>Crime Category: BURGLARY",
          "Address: 1600 W MCDOWELL RD<br>Latitude: 33.465914, Longitude: -112.093939<br>Date: 2015-11-01<br>Crime Category: MOTOR VEHICLE THEFT",
          "Address: 3200 W LINCOLN ST<br>Latitude: 33.44235823232323, Longitude: -112.12815390909091<br>Date: 2015-11-01<br>Crime Category: LARCENY-THEFT",
          "Address: 500 N 40TH AVE<br>Latitude: 33.45353979185082, Longitude: -112.14539245085619<br>Date: 2015-11-01<br>Crime Category: LARCENY-THEFT",
          "Address: 2500 W AUGUSTA AVE<br>Latitude: 33.551212, Longitude: -112.112897<br>Date: 2015-11-01<br>Crime Category: MOTOR VEHICLE THEFT",
          "Address: 2700 E BRILL ST<br>Latitude: 33.464954, Longitude: -112.023604<br>Date: 2015-11-01<br>Crime Category: BURGLARY",
          "Address: 4200 W MULBERRY DR<br>Latitude: 33.48701378880589, Longitude: -112.14899310064341<br>Date: 2015-11-01<br>Crime Category: RAPE",
          "Address: 14800 S 25TH PL<br>Latitude: 33.31237971218165, Longitude: -112.02727497846989<br>Date: 2015-11-01<br>Crime Category: BURGLARY",
          "Address: 4700 W HARWELL RD<br>Latitude: 33.374347, Longitude: -112.161702<br>Date: 2015-11-01<br>Crime Category: BURGLARY",
          "Address: 900 S 17TH AVE<br>Latitude: 33.439352, Longitude: -112.095793<br>Date: 2015-11-01<br>Crime Category: DRUG OFFENSE",
          "Address: 4200 N 72ND LN<br>Latitude: 33.496482, Longitude: -112.215514<br>Date: 2015-11-01<br>Crime Category: DRUG OFFENSE",
          "Address: 2700 E BEARDSLEY RD<br>Latitude: 33.669689325581395, Longitude: -112.02410095348837<br>Date: 2015-11-01<br>Crime Category: LARCENY-THEFT",
          "Address: 6800 W INDIAN SCHOOL RD<br>Latitude: 33.4951347, Longitude: -112.2060645<br>Date: 2015-11-01<br>Crime Category: RAPE",
          "Address: 9400 N BLACK CANYON AC<br>Latitude: nan, Longitude: nan<br>Date: 2015-11-01<br>Crime Category: LARCENY-THEFT",
          "Address: 100 E ELWOOD ST<br>Latitude: 33.4140901244532, Longitude: -112.0720764120297<br>Date: 2015-11-01<br>Crime Category: LARCENY-THEFT",
          "Address: 16800 N TATUM BLVD<br>Latitude: 33.63866181758633, Longitude: -111.97786595880538<br>Date: 2015-11-01<br>Crime Category: LARCENY-THEFT",
          "Address: 5100 N 99TH AVE<br>Latitude: 33.5101893, Longitude: -112.2737572<br>Date: 2015-11-01<br>Crime Category: BURGLARY",
          "Address: 13600 N SCOTTSDALE RD<br>Latitude: 33.5982102, Longitude: -111.9261226<br>Date: 2015-11-01<br>Crime Category: LARCENY-THEFT",
          "Address: 300 E JEFFERSON ST<br>Latitude: 33.446459, Longitude: -112.069784<br>Date: 2015-11-01<br>Crime Category: LARCENY-THEFT",
          "Address: 1800 E EARLL DR<br>Latitude: 33.48409, Longitude: -112.0436161<br>Date: 2015-11-01<br>Crime Category: BURGLARY",
          "Address: 4700 N BLACK CANYON AC<br>Latitude: nan, Longitude: nan<br>Date: 2015-11-01<br>Crime Category: MOTOR VEHICLE THEFT",
          "Address: 2300 W GRAND AVE<br>Latitude: nan, Longitude: nan<br>Date: 2015-11-01<br>Crime Category: RAPE",
          "Address: 11600 N TATUM BLVD<br>Latitude: 33.592328958994685, Longitude: -111.9788783336768<br>Date: 2015-11-01<br>Crime Category: BURGLARY",
          "Address: 11200 N 19TH AVE<br>Latitude: 33.587648, Longitude: -112.099763<br>Date: 2015-11-01<br>Crime Category: BURGLARY",
          "Address: 5400 E DEER VALLEY DR<br>Latitude: nan, Longitude: nan<br>Date: 2015-11-01<br>Crime Category: LARCENY-THEFT",
          "Address: 3600 N 35TH AVE<br>Latitude: 33.74022252884905, Longitude: -112.13459570362824<br>Date: 2015-11-01<br>Crime Category: MOTOR VEHICLE THEFT",
          "Address: 3400 N 27TH AVE<br>Latitude: 33.487837, Longitude: -112.117151<br>Date: 2015-11-01<br>Crime Category: MOTOR VEHICLE THEFT",
          "Address: 3800 S 103RD LN<br>Latitude: 33.411908, Longitude: -112.28215<br>Date: 2015-11-01<br>Crime Category: LARCENY-THEFT",
          "Address: 1700 E MCDOWELL RD<br>Latitude: 33.465841, Longitude: -112.045355<br>Date: 2015-11-01<br>Crime Category: LARCENY-THEFT",
          "Address: 6900 E CHAUNCEY LN<br>Latitude: 33.651627, Longitude: -111.93159153934097<br>Date: 2015-11-01<br>Crime Category: AGGRAVATED ASSAULT",
          "Address: 2800 W MELVIN ST<br>Latitude: 33.452183285714284, Longitude: -112.11996804761905<br>Date: 2015-11-01<br>Crime Category: LARCENY-THEFT",
          "Address: 2800 E TRACY LN<br>Latitude: 33.629572, Longitude: -112.021499<br>Date: 2015-11-01<br>Crime Category: MOTOR VEHICLE THEFT",
          "Address: 300 W MARIPOSA ST<br>Latitude: 33.508484, Longitude: -112.078261<br>Date: 2015-11-01<br>Crime Category: LARCENY-THEFT",
          "Address: 2500 W NORTHERN AVE<br>Latitude: 33.553218, Longitude: -112.113006<br>Date: 2015-11-01<br>Crime Category: LARCENY-THEFT",
          "Address: 2500 W NOVAK WAY<br>Latitude: 33.389063, Longitude: -112.112664<br>Date: 2015-11-01<br>Crime Category: LARCENY-THEFT",
          "Address: 2700 E OLD TOWER RD<br>Latitude: 33.42487587028998, Longitude: -112.02332813153286<br>Date: 2015-11-01<br>Crime Category: MOTOR VEHICLE THEFT",
          "Address: 3600 W GARFIELD ST<br>Latitude: 33.457851, Longitude: -112.136811<br>Date: 2015-11-01<br>Crime Category: AGGRAVATED ASSAULT",
          "Address: 4500 E THOMAS RD<br>Latitude: 33.480296, Longitude: -111.98472<br>Date: 2015-11-01<br>Crime Category: LARCENY-THEFT",
          "Address: 6400 W MCDOWELL RD<br>Latitude: 33.465974, Longitude: -112.197211<br>Date: 2015-11-01<br>Crime Category: BURGLARY",
          "Address: 6000 S CENTRAL AVE<br>Latitude: 33.391596818791946, Longitude: -112.07340298657718<br>Date: 2015-11-01<br>Crime Category: ROBBERY",
          "Address: 2000 N 75TH AVE<br>Latitude: 33.469494, Longitude: -112.220772<br>Date: 2015-11-01<br>Crime Category: LARCENY-THEFT",
          "Address: 8900 N 22ND AVE<br>Latitude: 33.566094, Longitude: -112.105793<br>Date: 2015-11-01<br>Crime Category: LARCENY-THEFT",
          "Address: 1600 N 27TH AVE<br>Latitude: 33.466062, Longitude: -112.117231<br>Date: 2015-11-01<br>Crime Category: AGGRAVATED ASSAULT",
          "Address: 100 E OCOTILLO RD<br>Latitude: 33.534338399999996, Longitude: -112.07187257239625<br>Date: 2015-11-01<br>Crime Category: LARCENY-THEFT",
          "Address: 1000 N 24TH PL<br>Latitude: 33.459044, Longitude: -112.029226<br>Date: 2015-11-01<br>Crime Category: MOTOR VEHICLE THEFT",
          "Address: 3400 W BELL RD<br>Latitude: 33.639749, Longitude: -112.130112<br>Date: 2015-11-01<br>Crime Category: LARCENY-THEFT",
          "Address: 5100 W MCDOWELL RD<br>Latitude: 33.466055, Longitude: -112.169254<br>Date: 2015-11-01<br>Crime Category: LARCENY-THEFT",
          "Address: 2600 N 73RD GLN<br>Latitude: 33.477175, Longitude: -112.2179<br>Date: 2015-11-01<br>Crime Category: AGGRAVATED ASSAULT",
          "Address: 4000 W ENCANTO BLVD<br>Latitude: 33.473305521739135, Longitude: -112.14550660869564<br>Date: 2015-11-01<br>Crime Category: AGGRAVATED ASSAULT",
          "Address: 2600 W UNION HILLS DR<br>Latitude: 33.654774, Longitude: -112.115198<br>Date: 2015-11-01<br>Crime Category: LARCENY-THEFT",
          "Address: 18400 N 35TH AVE<br>Latitude: 33.652621, Longitude: -112.134569<br>Date: 2015-11-01<br>Crime Category: BURGLARY",
          "Address: 1000 W TONOPAH DR<br>Latitude: 33.67238480729145, Longitude: -112.08500473062854<br>Date: 2015-11-01<br>Crime Category: MOTOR VEHICLE THEFT",
          "Address: 1100 E DESERT DR<br>Latitude: 33.367737444444444, Longitude: -112.05843863636363<br>Date: 2015-11-01<br>Crime Category: LARCENY-THEFT",
          "Address: 4000 E CHANDLER BLVD<br>Latitude: 33.305291, Longitude: -111.99572<br>Date: 2015-11-01<br>Crime Category: LARCENY-THEFT",
          "Address: 4100 S 4TH ST<br>Latitude: 33.409374, Longitude: -112.068397<br>Date: 2015-11-01<br>Crime Category: MOTOR VEHICLE THEFT",
          "Address: 1800 W BELL RD<br>Latitude: 33.6402324277168, Longitude: -112.09774094306228<br>Date: 2015-11-01<br>Crime Category: LARCENY-THEFT",
          "Address: 4300 W BELL RD<br>Latitude: 33.639401, Longitude: -112.151941<br>Date: 2015-11-01<br>Crime Category: AGGRAVATED ASSAULT",
          "Address: 4200 S 48TH ST<br>Latitude: 33.387288, Longitude: -111.978447<br>Date: 2015-11-01<br>Crime Category: LARCENY-THEFT",
          "Address: 4200 W MCDOWELL RD<br>Latitude: 33.466037, Longitude: -112.149559<br>Date: 2015-11-01<br>Crime Category: LARCENY-THEFT",
          "Address: 7400 W VIRGINIA AVE<br>Latitude: 33.476693505050505, Longitude: -112.21606071717171<br>Date: 2015-11-01<br>Crime Category: LARCENY-THEFT",
          "Address: 4100 W ADAMS ST<br>Latitude: 33.449884, Longitude: -112.147586<br>Date: 2015-11-01<br>Crime Category: LARCENY-THEFT",
          "Address: 1800 W ADAMS ST<br>Latitude: 33.449302, Longitude: -112.098344<br>Date: 2015-11-01<br>Crime Category: DRUG OFFENSE",
          "Address: 3700 N 12TH ST<br>Latitude: 33.490418, Longitude: -112.056435<br>Date: 2015-11-01<br>Crime Category: MOTOR VEHICLE THEFT",
          "Address: 3200 E CAMELBACK RD<br>Latitude: 33.510049, Longitude: -112.012876<br>Date: 2015-11-01<br>Crime Category: LARCENY-THEFT",
          "Address: 9000 S CENTRAL AVE<br>Latitude: 33.363905628758324, Longitude: -112.0732977239317<br>Date: 2015-11-01<br>Crime Category: LARCENY-THEFT",
          "Address: 300 W BELL RD<br>Latitude: 33.640311, Longitude: -112.078628<br>Date: 2015-11-01<br>Crime Category: DRUG OFFENSE",
          "Address: 15400 N CAVE CREEK RD<br>Latitude: 33.626989175879395, Longitude: -112.03080877386935<br>Date: 2015-11-01<br>Crime Category: LARCENY-THEFT",
          "Address: 4100 W BLUEFIELD AVE<br>Latitude: 33.652501, Longitude: -112.147717<br>Date: 2015-11-01<br>Crime Category: LARCENY-THEFT",
          "Address: 2500 W GREENWAY RD<br>Latitude: 33.625375, Longitude: -112.11367<br>Date: 2015-11-01<br>Crime Category: LARCENY-THEFT",
          "Address: 4000 W SHANGRI LA RD<br>Latitude: 33.587125, Longitude: -112.14513<br>Date: 2015-11-01<br>Crime Category: BURGLARY",
          "Address: 4200 S 36TH PL<br>Latitude: 33.409093, Longitude: -112.00296<br>Date: 2015-11-01<br>Crime Category: LARCENY-THEFT",
          "Address: 35000 N NORTH VALLEY PKWY<br>Latitude: 33.80203253583419, Longitude: -112.13058163116442<br>Date: 2015-11-01<br>Crime Category: ROBBERY",
          "Address: 3300 W POLK ST<br>Latitude: 33.453298, Longitude: -112.130501<br>Date: 2015-11-01<br>Crime Category: AGGRAVATED ASSAULT",
          "Address: 3800 E SKY HARBOR BLVD<br>Latitude: 33.43640710624165, Longitude: -112.01334159230677<br>Date: 2015-11-01<br>Crime Category: LARCENY-THEFT",
          "Address: 1600 E ROOSEVELT ST<br>Latitude: 33.458802, Longitude: -112.047485<br>Date: 2015-11-01<br>Crime Category: LARCENY-THEFT",
          "Address: 7000 N 7TH AVE<br>Latitude: 33.5392593559322, Longitude: -112.08253977966102<br>Date: 2015-11-01<br>Crime Category: BURGLARY",
          "Address: 1600 W BURGESS LN<br>Latitude: 33.39016736981714, Longitude: -112.09268383869319<br>Date: 2015-11-01<br>Crime Category: LARCENY-THEFT",
          "Address: 1700 W BELL RD<br>Latitude: 33.640238, Longitude: -112.0959<br>Date: 2015-11-01<br>Crime Category: LARCENY-THEFT",
          "Address: 5500 N 35TH AVE<br>Latitude: 33.516853, Longitude: -112.134326<br>Date: 2015-11-01<br>Crime Category: LARCENY-THEFT",
          "Address: 7200 W DEVONSHIRE AVE<br>Latitude: 33.49645882828283, Longitude: -112.21386831313131<br>Date: 2015-11-01<br>Crime Category: LARCENY-THEFT",
          "Address: 1800 W BELL RD<br>Latitude: 33.6402324277168, Longitude: -112.09774094306228<br>Date: 2015-11-01<br>Crime Category: LARCENY-THEFT",
          "Address: 17400 N 19TH AVE<br>Latitude: 33.644184844827585, Longitude: -112.099814<br>Date: 2015-11-01<br>Crime Category: LARCENY-THEFT",
          "Address: 5200 W INDIAN SCHOOL RD<br>Latitude: 33.495071, Longitude: -112.171183<br>Date: 2015-11-01<br>Crime Category: LARCENY-THEFT",
          "Address: 3800 E BASELINE RD<br>Latitude: 33.378138, Longitude: -112.000678<br>Date: 2015-11-01<br>Crime Category: LARCENY-THEFT",
          "Address: 4300 W CLARENDON AVE<br>Latitude: 33.491409, Longitude: -112.151809<br>Date: 2015-11-01<br>Crime Category: AGGRAVATED ASSAULT",
          "Address: 4000 W WONDERVIEW RD<br>Latitude: 33.51133110692751, Longitude: -112.14556849251726<br>Date: 2015-11-01<br>Crime Category: LARCENY-THEFT",
          "Address: 10300 W ATLANTIS WAY<br>Latitude: 33.409754, Longitude: -112.279977<br>Date: 2015-11-01<br>Crime Category: LARCENY-THEFT",
          "Address: 2500 W BEAUTIFUL LN<br>Latitude: 33.376098, Longitude: -112.113485<br>Date: 2015-11-01<br>Crime Category: MOTOR VEHICLE THEFT",
          "Address: 500 W EL CAMINO DR<br>Latitude: 33.55718141745305, Longitude: -112.08110214329068<br>Date: 2015-11-01<br>Crime Category: LARCENY-THEFT",
          "Address: 4700 E RAY RD<br>Latitude: 33.31991431591687, Longitude: -111.98231778495514<br>Date: 2015-11-01<br>Crime Category: LARCENY-THEFT",
          "Address: 2100 N 39TH DR<br>Latitude: 33.471142, Longitude: -112.14406<br>Date: 2015-11-01<br>Crime Category: LARCENY-THEFT",
          "Address: 18400 N 19TH AVE<br>Latitude: 33.65277565991285, Longitude: -112.09983710163824<br>Date: 2015-11-01<br>Crime Category: LARCENY-THEFT",
          "Address: 5600 S 32ND ST<br>Latitude: 33.396297678420005, Longitude: -112.012825643148<br>Date: 2015-11-01<br>Crime Category: LARCENY-THEFT",
          "Address: 3100 S 87TH DR<br>Latitude: 33.41904336363637, Longitude: -112.24769981818181<br>Date: 2015-11-01<br>Crime Category: AGGRAVATED ASSAULT",
          "Address: 12200 S 35TH ST<br>Latitude: 33.334886, Longitude: -112.008359<br>Date: 2015-11-01<br>Crime Category: BURGLARY",
          "Address: 5200 W INDIAN SCHOOL RD<br>Latitude: 33.495071, Longitude: -112.171183<br>Date: 2015-11-01<br>Crime Category: LARCENY-THEFT",
          "Address: 6200 W THOMAS RD<br>Latitude: 33.480532, Longitude: -112.193478<br>Date: 2015-11-01<br>Crime Category: MOTOR VEHICLE THEFT",
          "Address: 4800 W VERDE LN<br>Latitude: 33.481095, Longitude: -112.161735<br>Date: 2015-11-01<br>Crime Category: AGGRAVATED ASSAULT",
          "Address: 2100 W FLOWER ST<br>Latitude: 33.485844, Longitude: -112.103625<br>Date: 2015-11-01<br>Crime Category: MOTOR VEHICLE THEFT",
          "Address: 2400 E VAN BUREN ST<br>Latitude: 33.451434, Longitude: -112.030009<br>Date: 2015-11-01<br>Crime Category: ROBBERY",
          "Address: 3600 E VAN BUREN ST<br>Latitude: 33.451367, Longitude: -112.003975<br>Date: 2015-11-01<br>Crime Category: AGGRAVATED ASSAULT",
          "Address: 10200 N METRO PKWY W<br>Latitude: 33.578982, Longitude: -112.124261<br>Date: 2015-11-01<br>Crime Category: DRUG OFFENSE",
          "Address: N 47TH AVE & W GLENROSA AVE<br>Latitude: nan, Longitude: nan<br>Date: 2015-11-01<br>Crime Category: ROBBERY",
          "Address: 900 W HIGHLAND AVE<br>Latitude: 33.50583946063219, Longitude: -112.08469189302826<br>Date: 2015-11-01<br>Crime Category: MOTOR VEHICLE THEFT",
          "Address: 100 W JONES AVE<br>Latitude: 33.410753324324325, Longitude: -112.07483441216216<br>Date: 2015-11-01<br>Crime Category: BURGLARY",
          "Address: 19200 N 20TH DR<br>Latitude: 33.65951, Longitude: -112.10381<br>Date: 2015-11-01<br>Crime Category: LARCENY-THEFT",
          "Address: 5600 E GELDING DR<br>Latitude: 33.617357, Longitude: -111.959701<br>Date: 2015-11-01<br>Crime Category: LARCENY-THEFT",
          "Address: 2000 W BETHANY HOME RD<br>Latitude: 33.5250664, Longitude: -112.10216138369839<br>Date: 2015-11-01<br>Crime Category: RAPE",
          "Address: 2500 W CACTUS RD<br>Latitude: 33.596505, Longitude: -112.113163<br>Date: 2015-11-01<br>Crime Category: MOTOR VEHICLE THEFT",
          "Address: 1800 W GRANT ST<br>Latitude: 33.441446, Longitude: -112.098186<br>Date: 2015-11-01<br>Crime Category: LARCENY-THEFT",
          "Address: 4200 E CEDARWOOD LN<br>Latitude: 33.292984, Longitude: -111.992565<br>Date: 2015-11-01<br>Crime Category: BURGLARY"
         ],
         "type": "scattermapbox",
         "visible": true
        }
       ],
       "layout": {
        "mapbox": {
         "style": "open-street-map",
         "zoom": 4
        },
        "sliders": [
         {
          "active": 0,
          "steps": [
           {
            "args": [
             {
              "visible": [
               true
              ]
             },
             {
              "title": "Date: 2015-11-01"
             }
            ],
            "method": "update"
           }
          ]
         }
        ],
        "template": {
         "data": {
          "bar": [
           {
            "error_x": {
             "color": "#2a3f5f"
            },
            "error_y": {
             "color": "#2a3f5f"
            },
            "marker": {
             "line": {
              "color": "#E5ECF6",
              "width": 0.5
             },
             "pattern": {
              "fillmode": "overlay",
              "size": 10,
              "solidity": 0.2
             }
            },
            "type": "bar"
           }
          ],
          "barpolar": [
           {
            "marker": {
             "line": {
              "color": "#E5ECF6",
              "width": 0.5
             },
             "pattern": {
              "fillmode": "overlay",
              "size": 10,
              "solidity": 0.2
             }
            },
            "type": "barpolar"
           }
          ],
          "carpet": [
           {
            "aaxis": {
             "endlinecolor": "#2a3f5f",
             "gridcolor": "white",
             "linecolor": "white",
             "minorgridcolor": "white",
             "startlinecolor": "#2a3f5f"
            },
            "baxis": {
             "endlinecolor": "#2a3f5f",
             "gridcolor": "white",
             "linecolor": "white",
             "minorgridcolor": "white",
             "startlinecolor": "#2a3f5f"
            },
            "type": "carpet"
           }
          ],
          "choropleth": [
           {
            "colorbar": {
             "outlinewidth": 0,
             "ticks": ""
            },
            "type": "choropleth"
           }
          ],
          "contour": [
           {
            "colorbar": {
             "outlinewidth": 0,
             "ticks": ""
            },
            "colorscale": [
             [
              0,
              "#0d0887"
             ],
             [
              0.1111111111111111,
              "#46039f"
             ],
             [
              0.2222222222222222,
              "#7201a8"
             ],
             [
              0.3333333333333333,
              "#9c179e"
             ],
             [
              0.4444444444444444,
              "#bd3786"
             ],
             [
              0.5555555555555556,
              "#d8576b"
             ],
             [
              0.6666666666666666,
              "#ed7953"
             ],
             [
              0.7777777777777778,
              "#fb9f3a"
             ],
             [
              0.8888888888888888,
              "#fdca26"
             ],
             [
              1,
              "#f0f921"
             ]
            ],
            "type": "contour"
           }
          ],
          "contourcarpet": [
           {
            "colorbar": {
             "outlinewidth": 0,
             "ticks": ""
            },
            "type": "contourcarpet"
           }
          ],
          "heatmap": [
           {
            "colorbar": {
             "outlinewidth": 0,
             "ticks": ""
            },
            "colorscale": [
             [
              0,
              "#0d0887"
             ],
             [
              0.1111111111111111,
              "#46039f"
             ],
             [
              0.2222222222222222,
              "#7201a8"
             ],
             [
              0.3333333333333333,
              "#9c179e"
             ],
             [
              0.4444444444444444,
              "#bd3786"
             ],
             [
              0.5555555555555556,
              "#d8576b"
             ],
             [
              0.6666666666666666,
              "#ed7953"
             ],
             [
              0.7777777777777778,
              "#fb9f3a"
             ],
             [
              0.8888888888888888,
              "#fdca26"
             ],
             [
              1,
              "#f0f921"
             ]
            ],
            "type": "heatmap"
           }
          ],
          "heatmapgl": [
           {
            "colorbar": {
             "outlinewidth": 0,
             "ticks": ""
            },
            "colorscale": [
             [
              0,
              "#0d0887"
             ],
             [
              0.1111111111111111,
              "#46039f"
             ],
             [
              0.2222222222222222,
              "#7201a8"
             ],
             [
              0.3333333333333333,
              "#9c179e"
             ],
             [
              0.4444444444444444,
              "#bd3786"
             ],
             [
              0.5555555555555556,
              "#d8576b"
             ],
             [
              0.6666666666666666,
              "#ed7953"
             ],
             [
              0.7777777777777778,
              "#fb9f3a"
             ],
             [
              0.8888888888888888,
              "#fdca26"
             ],
             [
              1,
              "#f0f921"
             ]
            ],
            "type": "heatmapgl"
           }
          ],
          "histogram": [
           {
            "marker": {
             "pattern": {
              "fillmode": "overlay",
              "size": 10,
              "solidity": 0.2
             }
            },
            "type": "histogram"
           }
          ],
          "histogram2d": [
           {
            "colorbar": {
             "outlinewidth": 0,
             "ticks": ""
            },
            "colorscale": [
             [
              0,
              "#0d0887"
             ],
             [
              0.1111111111111111,
              "#46039f"
             ],
             [
              0.2222222222222222,
              "#7201a8"
             ],
             [
              0.3333333333333333,
              "#9c179e"
             ],
             [
              0.4444444444444444,
              "#bd3786"
             ],
             [
              0.5555555555555556,
              "#d8576b"
             ],
             [
              0.6666666666666666,
              "#ed7953"
             ],
             [
              0.7777777777777778,
              "#fb9f3a"
             ],
             [
              0.8888888888888888,
              "#fdca26"
             ],
             [
              1,
              "#f0f921"
             ]
            ],
            "type": "histogram2d"
           }
          ],
          "histogram2dcontour": [
           {
            "colorbar": {
             "outlinewidth": 0,
             "ticks": ""
            },
            "colorscale": [
             [
              0,
              "#0d0887"
             ],
             [
              0.1111111111111111,
              "#46039f"
             ],
             [
              0.2222222222222222,
              "#7201a8"
             ],
             [
              0.3333333333333333,
              "#9c179e"
             ],
             [
              0.4444444444444444,
              "#bd3786"
             ],
             [
              0.5555555555555556,
              "#d8576b"
             ],
             [
              0.6666666666666666,
              "#ed7953"
             ],
             [
              0.7777777777777778,
              "#fb9f3a"
             ],
             [
              0.8888888888888888,
              "#fdca26"
             ],
             [
              1,
              "#f0f921"
             ]
            ],
            "type": "histogram2dcontour"
           }
          ],
          "mesh3d": [
           {
            "colorbar": {
             "outlinewidth": 0,
             "ticks": ""
            },
            "type": "mesh3d"
           }
          ],
          "parcoords": [
           {
            "line": {
             "colorbar": {
              "outlinewidth": 0,
              "ticks": ""
             }
            },
            "type": "parcoords"
           }
          ],
          "pie": [
           {
            "automargin": true,
            "type": "pie"
           }
          ],
          "scatter": [
           {
            "fillpattern": {
             "fillmode": "overlay",
             "size": 10,
             "solidity": 0.2
            },
            "type": "scatter"
           }
          ],
          "scatter3d": [
           {
            "line": {
             "colorbar": {
              "outlinewidth": 0,
              "ticks": ""
             }
            },
            "marker": {
             "colorbar": {
              "outlinewidth": 0,
              "ticks": ""
             }
            },
            "type": "scatter3d"
           }
          ],
          "scattercarpet": [
           {
            "marker": {
             "colorbar": {
              "outlinewidth": 0,
              "ticks": ""
             }
            },
            "type": "scattercarpet"
           }
          ],
          "scattergeo": [
           {
            "marker": {
             "colorbar": {
              "outlinewidth": 0,
              "ticks": ""
             }
            },
            "type": "scattergeo"
           }
          ],
          "scattergl": [
           {
            "marker": {
             "colorbar": {
              "outlinewidth": 0,
              "ticks": ""
             }
            },
            "type": "scattergl"
           }
          ],
          "scattermapbox": [
           {
            "marker": {
             "colorbar": {
              "outlinewidth": 0,
              "ticks": ""
             }
            },
            "type": "scattermapbox"
           }
          ],
          "scatterpolar": [
           {
            "marker": {
             "colorbar": {
              "outlinewidth": 0,
              "ticks": ""
             }
            },
            "type": "scatterpolar"
           }
          ],
          "scatterpolargl": [
           {
            "marker": {
             "colorbar": {
              "outlinewidth": 0,
              "ticks": ""
             }
            },
            "type": "scatterpolargl"
           }
          ],
          "scatterternary": [
           {
            "marker": {
             "colorbar": {
              "outlinewidth": 0,
              "ticks": ""
             }
            },
            "type": "scatterternary"
           }
          ],
          "surface": [
           {
            "colorbar": {
             "outlinewidth": 0,
             "ticks": ""
            },
            "colorscale": [
             [
              0,
              "#0d0887"
             ],
             [
              0.1111111111111111,
              "#46039f"
             ],
             [
              0.2222222222222222,
              "#7201a8"
             ],
             [
              0.3333333333333333,
              "#9c179e"
             ],
             [
              0.4444444444444444,
              "#bd3786"
             ],
             [
              0.5555555555555556,
              "#d8576b"
             ],
             [
              0.6666666666666666,
              "#ed7953"
             ],
             [
              0.7777777777777778,
              "#fb9f3a"
             ],
             [
              0.8888888888888888,
              "#fdca26"
             ],
             [
              1,
              "#f0f921"
             ]
            ],
            "type": "surface"
           }
          ],
          "table": [
           {
            "cells": {
             "fill": {
              "color": "#EBF0F8"
             },
             "line": {
              "color": "white"
             }
            },
            "header": {
             "fill": {
              "color": "#C8D4E3"
             },
             "line": {
              "color": "white"
             }
            },
            "type": "table"
           }
          ]
         },
         "layout": {
          "annotationdefaults": {
           "arrowcolor": "#2a3f5f",
           "arrowhead": 0,
           "arrowwidth": 1
          },
          "autotypenumbers": "strict",
          "coloraxis": {
           "colorbar": {
            "outlinewidth": 0,
            "ticks": ""
           }
          },
          "colorscale": {
           "diverging": [
            [
             0,
             "#8e0152"
            ],
            [
             0.1,
             "#c51b7d"
            ],
            [
             0.2,
             "#de77ae"
            ],
            [
             0.3,
             "#f1b6da"
            ],
            [
             0.4,
             "#fde0ef"
            ],
            [
             0.5,
             "#f7f7f7"
            ],
            [
             0.6,
             "#e6f5d0"
            ],
            [
             0.7,
             "#b8e186"
            ],
            [
             0.8,
             "#7fbc41"
            ],
            [
             0.9,
             "#4d9221"
            ],
            [
             1,
             "#276419"
            ]
           ],
           "sequential": [
            [
             0,
             "#0d0887"
            ],
            [
             0.1111111111111111,
             "#46039f"
            ],
            [
             0.2222222222222222,
             "#7201a8"
            ],
            [
             0.3333333333333333,
             "#9c179e"
            ],
            [
             0.4444444444444444,
             "#bd3786"
            ],
            [
             0.5555555555555556,
             "#d8576b"
            ],
            [
             0.6666666666666666,
             "#ed7953"
            ],
            [
             0.7777777777777778,
             "#fb9f3a"
            ],
            [
             0.8888888888888888,
             "#fdca26"
            ],
            [
             1,
             "#f0f921"
            ]
           ],
           "sequentialminus": [
            [
             0,
             "#0d0887"
            ],
            [
             0.1111111111111111,
             "#46039f"
            ],
            [
             0.2222222222222222,
             "#7201a8"
            ],
            [
             0.3333333333333333,
             "#9c179e"
            ],
            [
             0.4444444444444444,
             "#bd3786"
            ],
            [
             0.5555555555555556,
             "#d8576b"
            ],
            [
             0.6666666666666666,
             "#ed7953"
            ],
            [
             0.7777777777777778,
             "#fb9f3a"
            ],
            [
             0.8888888888888888,
             "#fdca26"
            ],
            [
             1,
             "#f0f921"
            ]
           ]
          },
          "colorway": [
           "#636efa",
           "#EF553B",
           "#00cc96",
           "#ab63fa",
           "#FFA15A",
           "#19d3f3",
           "#FF6692",
           "#B6E880",
           "#FF97FF",
           "#FECB52"
          ],
          "font": {
           "color": "#2a3f5f"
          },
          "geo": {
           "bgcolor": "white",
           "lakecolor": "white",
           "landcolor": "#E5ECF6",
           "showlakes": true,
           "showland": true,
           "subunitcolor": "white"
          },
          "hoverlabel": {
           "align": "left"
          },
          "hovermode": "closest",
          "mapbox": {
           "style": "light"
          },
          "paper_bgcolor": "white",
          "plot_bgcolor": "#E5ECF6",
          "polar": {
           "angularaxis": {
            "gridcolor": "white",
            "linecolor": "white",
            "ticks": ""
           },
           "bgcolor": "#E5ECF6",
           "radialaxis": {
            "gridcolor": "white",
            "linecolor": "white",
            "ticks": ""
           }
          },
          "scene": {
           "xaxis": {
            "backgroundcolor": "#E5ECF6",
            "gridcolor": "white",
            "gridwidth": 2,
            "linecolor": "white",
            "showbackground": true,
            "ticks": "",
            "zerolinecolor": "white"
           },
           "yaxis": {
            "backgroundcolor": "#E5ECF6",
            "gridcolor": "white",
            "gridwidth": 2,
            "linecolor": "white",
            "showbackground": true,
            "ticks": "",
            "zerolinecolor": "white"
           },
           "zaxis": {
            "backgroundcolor": "#E5ECF6",
            "gridcolor": "white",
            "gridwidth": 2,
            "linecolor": "white",
            "showbackground": true,
            "ticks": "",
            "zerolinecolor": "white"
           }
          },
          "shapedefaults": {
           "line": {
            "color": "#2a3f5f"
           }
          },
          "ternary": {
           "aaxis": {
            "gridcolor": "white",
            "linecolor": "white",
            "ticks": ""
           },
           "baxis": {
            "gridcolor": "white",
            "linecolor": "white",
            "ticks": ""
           },
           "bgcolor": "#E5ECF6",
           "caxis": {
            "gridcolor": "white",
            "linecolor": "white",
            "ticks": ""
           }
          },
          "title": {
           "x": 0.05
          },
          "xaxis": {
           "automargin": true,
           "gridcolor": "white",
           "linecolor": "white",
           "ticks": "",
           "title": {
            "standoff": 15
           },
           "zerolinecolor": "white",
           "zerolinewidth": 2
          },
          "yaxis": {
           "automargin": true,
           "gridcolor": "white",
           "linecolor": "white",
           "ticks": "",
           "title": {
            "standoff": 15
           },
           "zerolinecolor": "white",
           "zerolinewidth": 2
          }
         }
        }
       }
      },
      "text/html": [
       "<div>                            <div id=\"ff6f6079-73ed-4d3f-b8ad-0860aba185d5\" class=\"plotly-graph-div\" style=\"height:525px; width:100%;\"></div>            <script type=\"text/javascript\">                require([\"plotly\"], function(Plotly) {                    window.PLOTLYENV=window.PLOTLYENV || {};                                    if (document.getElementById(\"ff6f6079-73ed-4d3f-b8ad-0860aba185d5\")) {                    Plotly.newPlot(                        \"ff6f6079-73ed-4d3f-b8ad-0860aba185d5\",                        [{\"hoverinfo\":\"text\",\"lat\":[33.466771,33.512281,33.505666,33.410824,null,33.51083,33.509561,33.495116,33.738218,33.509521,33.381281,33.585802,33.592011,33.48239,33.585726,33.466097500000004,33.586374,33.670393,33.5650605,null,33.551212,33.664595,33.471022,33.63355614156423,33.509534,33.35168250929977,33.466038555486165,33.384189,33.540801,33.454812,33.418994,33.495102,33.299533,33.480156,33.494819,33.532669459955066,33.646595,33.490751921072835,33.5026053,33.321618375,33.406958743243244,33.585802,33.3750309,33.553177,33.476728,33.497371,33.694458,33.6402324277168,33.567621,33.487892,33.497635,33.465914,33.44235823232323,33.45353979185082,33.551212,33.464954,33.48701378880589,33.31237971218165,33.374347,33.439352,33.496482,33.669689325581395,33.4951347,null,33.4140901244532,33.63866181758633,33.5101893,33.5982102,33.446459,33.48409,null,null,33.592328958994685,33.587648,null,33.74022252884905,33.487837,33.411908,33.465841,33.651627,33.452183285714284,33.629572,33.508484,33.553218,33.389063,33.42487587028998,33.457851,33.480296,33.465974,33.391596818791946,33.469494,33.566094,33.466062,33.534338399999996,33.459044,33.639749,33.466055,33.477175,33.473305521739135,33.654774,33.652621,33.67238480729145,33.367737444444444,33.305291,33.409374,33.6402324277168,33.639401,33.387288,33.466037,33.476693505050505,33.449884,33.449302,33.490418,33.510049,33.363905628758324,33.640311,33.626989175879395,33.652501,33.625375,33.587125,33.409093,33.80203253583419,33.453298,33.43640710624165,33.458802,33.5392593559322,33.39016736981714,33.640238,33.516853,33.49645882828283,33.6402324277168,33.644184844827585,33.495071,33.378138,33.491409,33.51133110692751,33.409754,33.376098,33.55718141745305,33.31991431591687,33.471142,33.65277565991285,33.396297678420005,33.41904336363637,33.334886,33.495071,33.480532,33.481095,33.485844,33.451434,33.451367,33.578982,null,33.50583946063219,33.410753324324325,33.65951,33.617357,33.5250664,33.596505,33.441446,33.292984],\"lon\":[-112.054083,-112.050423,-112.051749,-112.209052,null,-112.279628,-112.126082,-112.175245,-112.109682,-112.140849,-112.157992,-112.095671,-111.98807,-112.006219,-112.134178,-111.9948820439732,-111.977742,-112.082301,-112.0946482,null,-112.112897,-112.066351,-112.141509,-112.08158906437909,-112.119695,-111.99323762450298,-112.1580992954471,-112.105216,-112.130481,-112.076561,-112.244455,-112.168974,-112.005896,-111.97395,-112.062709,-112.0453190486569,-112.065661,-112.22243885258327,-112.203214,-111.988956475,-112.03347666216216,-112.095671,-112.1614824,-112.117121,-112.036597,-112.056409,-112.124782,-112.09774094306228,-112.133308,-112.108509,-112.201235,-112.093939,-112.12815390909091,-112.14539245085619,-112.112897,-112.023604,-112.14899310064341,-112.02727497846989,-112.161702,-112.095793,-112.215514,-112.02410095348837,-112.2060645,null,-112.0720764120297,-111.97786595880538,-112.2737572,-111.9261226,-112.069784,-112.0436161,null,null,-111.9788783336768,-112.099763,null,-112.13459570362824,-112.117151,-112.28215,-112.045355,-111.93159153934097,-112.11996804761905,-112.021499,-112.078261,-112.113006,-112.112664,-112.02332813153286,-112.136811,-111.98472,-112.197211,-112.07340298657718,-112.220772,-112.105793,-112.117231,-112.07187257239625,-112.029226,-112.130112,-112.169254,-112.2179,-112.14550660869564,-112.115198,-112.134569,-112.08500473062854,-112.05843863636363,-111.99572,-112.068397,-112.09774094306228,-112.151941,-111.978447,-112.149559,-112.21606071717171,-112.147586,-112.098344,-112.056435,-112.012876,-112.0732977239317,-112.078628,-112.03080877386935,-112.147717,-112.11367,-112.14513,-112.00296,-112.13058163116442,-112.130501,-112.01334159230677,-112.047485,-112.08253977966102,-112.09268383869319,-112.0959,-112.134326,-112.21386831313131,-112.09774094306228,-112.099814,-112.171183,-112.000678,-112.151809,-112.14556849251726,-112.279977,-112.113485,-112.08110214329068,-111.98231778495514,-112.14406,-112.09983710163824,-112.012825643148,-112.24769981818181,-112.008359,-112.171183,-112.193478,-112.161735,-112.103625,-112.030009,-112.003975,-112.124261,null,-112.08469189302826,-112.07483441216216,-112.10381,-111.959701,-112.10216138369839,-112.113163,-112.098186,-111.992565],\"marker\":{\"size\":9},\"mode\":\"markers\",\"name\":\"2015-11-01\",\"text\":[\"Address: 1300 E ALMERIA RD\\u003cbr\\u003eLatitude: 33.466771, Longitude: -112.054083\\u003cbr\\u003eDate: 2015-11-01\\u003cbr\\u003eCrime Category: RAPE\",\"Address: 5100 N 15TH ST\\u003cbr\\u003eLatitude: 33.512281, Longitude: -112.050423\\u003cbr\\u003eDate: 2015-11-01\\u003cbr\\u003eCrime Category: LARCENY-THEFT\",\"Address: 1400 E HIGHLAND AVE\\u003cbr\\u003eLatitude: 33.505666, Longitude: -112.051749\\u003cbr\\u003eDate: 2015-11-01\\u003cbr\\u003eCrime Category: LARCENY-THEFT\",\"Address: 6900 W WOOD ST\\u003cbr\\u003eLatitude: 33.410824, Longitude: -112.209052\\u003cbr\\u003eDate: 2015-11-01\\u003cbr\\u003eCrime Category: MOTOR VEHICLE THEFT\",\"Address: N 43RD AVE & W CACTUS RD\\u003cbr\\u003eLatitude: nan, Longitude: nan\\u003cbr\\u003eDate: 2015-11-01\\u003cbr\\u003eCrime Category: MOTOR VEHICLE THEFT\",\"Address: 10200 W MEDLOCK AVE\\u003cbr\\u003eLatitude: 33.51083, Longitude: -112.279628\\u003cbr\\u003eDate: 2015-11-01\\u003cbr\\u003eCrime Category: MOTOR VEHICLE THEFT\",\"Address: 3300 W CAMELBACK RD\\u003cbr\\u003eLatitude: 33.509561, Longitude: -112.126082\\u003cbr\\u003eDate: 2015-11-01\\u003cbr\\u003eCrime Category: LARCENY-THEFT\",\"Address: 5400 W INDIAN SCHOOL RD\\u003cbr\\u003eLatitude: 33.495116, Longitude: -112.175245\\u003cbr\\u003eDate: 2015-11-01\\u003cbr\\u003eCrime Category: DRUG OFFENSE\",\"Address: 27900 N 23RD LN\\u003cbr\\u003eLatitude: 33.738218, Longitude: -112.109682\\u003cbr\\u003eDate: 2015-11-01\\u003cbr\\u003eCrime Category: LARCENY-THEFT\",\"Address: 3800 W CAMELBACK RD\\u003cbr\\u003eLatitude: 33.509521, Longitude: -112.140849\\u003cbr\\u003eDate: 2015-11-01\\u003cbr\\u003eCrime Category: RAPE\",\"Address: 4600 W FREMONT RD\\u003cbr\\u003eLatitude: 33.381281, Longitude: -112.157992\\u003cbr\\u003eDate: 2015-11-01\\u003cbr\\u003eCrime Category: LARCENY-THEFT\",\"Address: 1700 W DESERT COVE AVE\\u003cbr\\u003eLatitude: 33.585802, Longitude: -112.095671\\u003cbr\\u003eDate: 2015-11-01\\u003cbr\\u003eCrime Category: MOTOR VEHICLE THEFT\",\"Address: 4300 E CORTEZ ST\\u003cbr\\u003eLatitude: 33.592011, Longitude: -111.98807\\u003cbr\\u003eDate: 2015-11-01\\u003cbr\\u003eCrime Category: LARCENY-THEFT\",\"Address: 3500 E PINCHOT AVE\\u003cbr\\u003eLatitude: 33.48239, Longitude: -112.006219\\u003cbr\\u003eDate: 2015-11-01\\u003cbr\\u003eCrime Category: LARCENY-THEFT\",\"Address: 11000 N 35TH AVE\\u003cbr\\u003eLatitude: 33.585726, Longitude: -112.134178\\u003cbr\\u003eDate: 2015-11-01\\u003cbr\\u003eCrime Category: LARCENY-THEFT\",\"Address: 4000 E MCDOWELL RD\\u003cbr\\u003eLatitude: 33.466097500000004, Longitude: -111.9948820439732\\u003cbr\\u003eDate: 2015-11-01\\u003cbr\\u003eCrime Category: BURGLARY\",\"Address: 4800 E DESERT COVE AVE\\u003cbr\\u003eLatitude: 33.586374, Longitude: -111.977742\\u003cbr\\u003eDate: 2015-11-01\\u003cbr\\u003eCrime Category: MOTOR VEHICLE THEFT\",\"Address: 20200 N 6TH DR\\u003cbr\\u003eLatitude: 33.670393, Longitude: -112.082301\\u003cbr\\u003eDate: 2015-11-01\\u003cbr\\u003eCrime Category: LARCENY-THEFT\",\"Address: 6500 N 17TH AVE\\u003cbr\\u003eLatitude: 33.5650605, Longitude: -112.0946482\\u003cbr\\u003eDate: 2015-11-01\\u003cbr\\u003eCrime Category: LARCENY-THEFT\",\"Address: 8800 N BLACK CANYON FWY\\u003cbr\\u003eLatitude: nan, Longitude: nan\\u003cbr\\u003eDate: 2015-11-01\\u003cbr\\u003eCrime Category: LARCENY-THEFT\",\"Address: 2500 W AUGUSTA AVE\\u003cbr\\u003eLatitude: 33.551212, Longitude: -112.112897\\u003cbr\\u003eDate: 2015-11-01\\u003cbr\\u003eCrime Category: LARCENY-THEFT\",\"Address: 19600 N 6TH PL\\u003cbr\\u003eLatitude: 33.664595, Longitude: -112.066351\\u003cbr\\u003eDate: 2015-11-01\\u003cbr\\u003eCrime Category: LARCENY-THEFT\",\"Address: 3800 W HOLLY ST\\u003cbr\\u003eLatitude: 33.471022, Longitude: -112.141509\\u003cbr\\u003eDate: 2015-11-01\\u003cbr\\u003eCrime Category: BURGLARY\",\"Address: 600 W BEVERLY LN\\u003cbr\\u003eLatitude: 33.63355614156423, Longitude: -112.08158906437909\\u003cbr\\u003eDate: 2015-11-01\\u003cbr\\u003eCrime Category: BURGLARY\",\"Address: 2800 W CAMELBACK RD\\u003cbr\\u003eLatitude: 33.509534, Longitude: -112.119695\\u003cbr\\u003eDate: 2015-11-01\\u003cbr\\u003eCrime Category: MOTOR VEHICLE THEFT\",\"Address: 4200 E WESTERN STAR BLVD\\u003cbr\\u003eLatitude: 33.35168250929977, Longitude: -111.99323762450298\\u003cbr\\u003eDate: 2015-11-01\\u003cbr\\u003eCrime Category: LARCENY-THEFT\",\"Address: 4600 W MCDOWELL RD\\u003cbr\\u003eLatitude: 33.466038555486165, Longitude: -112.1580992954471\\u003cbr\\u003eDate: 2015-11-01\\u003cbr\\u003eCrime Category: LARCENY-THEFT\",\"Address: 2100 W DARREL RD\\u003cbr\\u003eLatitude: 33.384189, Longitude: -112.105216\\u003cbr\\u003eDate: 2015-11-01\\u003cbr\\u003eCrime Category: LARCENY-THEFT\",\"Address: 7100 N 33RD AVE\\u003cbr\\u003eLatitude: 33.540801, Longitude: -112.130481\\u003cbr\\u003eDate: 2015-11-01\\u003cbr\\u003eCrime Category: LARCENY-THEFT\",\"Address: 200 W FILLMORE ST\\u003cbr\\u003eLatitude: 33.454812, Longitude: -112.076561\\u003cbr\\u003eDate: 2015-11-01\\u003cbr\\u003eCrime Category: MOTOR VEHICLE THEFT\",\"Address: 8500 W MIAMI ST\\u003cbr\\u003eLatitude: 33.418994, Longitude: -112.244455\\u003cbr\\u003eDate: 2015-11-01\\u003cbr\\u003eCrime Category: MOTOR VEHICLE THEFT\",\"Address: 4100 N 51ST AVE\\u003cbr\\u003eLatitude: 33.495102, Longitude: -112.168974\\u003cbr\\u003eDate: 2015-11-01\\u003cbr\\u003eCrime Category: AGGRAVATED ASSAULT\",\"Address: 3500 E AMBERWOOD DR\\u003cbr\\u003eLatitude: 33.299533, Longitude: -112.005896\\u003cbr\\u003eDate: 2015-11-01\\u003cbr\\u003eCrime Category: MOTOR VEHICLE THEFT\",\"Address: 5000 E THOMAS RD\\u003cbr\\u003eLatitude: 33.480156, Longitude: -111.97395\\u003cbr\\u003eDate: 2015-11-01\\u003cbr\\u003eCrime Category: AGGRAVATED ASSAULT\",\"Address: 900 E INDIAN SCHOOL RD\\u003cbr\\u003eLatitude: 33.494819, Longitude: -112.062709\\u003cbr\\u003eDate: 2015-11-01\\u003cbr\\u003eCrime Category: BURGLARY\",\"Address: 1700 E MCLELLAN BLVD\\u003cbr\\u003eLatitude: 33.532669459955066, Longitude: -112.0453190486569\\u003cbr\\u003eDate: 2015-11-01\\u003cbr\\u003eCrime Category: MOTOR VEHICLE THEFT\",\"Address: 17600 N 7TH ST\\u003cbr\\u003eLatitude: 33.646595, Longitude: -112.065661\\u003cbr\\u003eDate: 2015-11-01\\u003cbr\\u003eCrime Category: LARCENY-THEFT\",\"Address: 7600 W WHITTON AVE\\u003cbr\\u003eLatitude: 33.490751921072835, Longitude: -112.22243885258327\\u003cbr\\u003eDate: 2015-11-01\\u003cbr\\u003eCrime Category: RAPE\",\"Address: 00 N 67TH AVE\\u003cbr\\u003eLatitude: 33.5026053, Longitude: -112.203214\\u003cbr\\u003eDate: 2015-11-01\\u003cbr\\u003eCrime Category: MURDER AND NON-NEGLIGENT MANSLAUGHTER\",\"Address: 13800 S 44TH ST\\u003cbr\\u003eLatitude: 33.321618375, Longitude: -111.988956475\\u003cbr\\u003eDate: 2015-11-01\\u003cbr\\u003eCrime Category: ROBBERY\",\"Address: 2200 E BROADWAY RD\\u003cbr\\u003eLatitude: 33.406958743243244, Longitude: -112.03347666216216\\u003cbr\\u003eDate: 2015-11-01\\u003cbr\\u003eCrime Category: BURGLARY\",\"Address: 1700 W DESERT COVE AVE\\u003cbr\\u003eLatitude: 33.585802, Longitude: -112.095671\\u003cbr\\u003eDate: 2015-11-01\\u003cbr\\u003eCrime Category: BURGLARY\",\"Address: 8700 S 47TH LN\\u003cbr\\u003eLatitude: 33.3750309, Longitude: -112.1614824\\u003cbr\\u003eDate: 2015-11-01\\u003cbr\\u003eCrime Category: MOTOR VEHICLE THEFT\",\"Address: 2700 W NORTHERN AVE\\u003cbr\\u003eLatitude: 33.553177, Longitude: -112.117121\\u003cbr\\u003eDate: 2015-11-01\\u003cbr\\u003eCrime Category: BURGLARY\",\"Address: 2100 E VIRGINIA AVE\\u003cbr\\u003eLatitude: 33.476728, Longitude: -112.036597\\u003cbr\\u003eDate: 2015-11-01\\u003cbr\\u003eCrime Category: LARCENY-THEFT\",\"Address: 4200 N 12TH ST\\u003cbr\\u003eLatitude: 33.497371, Longitude: -112.056409\\u003cbr\\u003eDate: 2015-11-01\\u003cbr\\u003eCrime Category: AGGRAVATED ASSAULT\",\"Address: 3000 W PARKSIDE LN\\u003cbr\\u003eLatitude: 33.694458, Longitude: -112.124782\\u003cbr\\u003eDate: 2015-11-01\\u003cbr\\u003eCrime Category: BURGLARY\",\"Address: 1800 W BELL RD\\u003cbr\\u003eLatitude: 33.6402324277168, Longitude: -112.09774094306228\\u003cbr\\u003eDate: 2015-11-01\\u003cbr\\u003eCrime Category: LARCENY-THEFT\",\"Address: 3400 W DUNLAP AVE\\u003cbr\\u003eLatitude: 33.567621, Longitude: -112.133308\\u003cbr\\u003eDate: 2015-11-01\\u003cbr\\u003eCrime Category: LARCENY-THEFT\",\"Address: 3400 N 23RD AVE\\u003cbr\\u003eLatitude: 33.487892, Longitude: -112.108509\\u003cbr\\u003eDate: 2015-11-01\\u003cbr\\u003eCrime Category: LARCENY-THEFT\",\"Address: 4300 N 66TH DR\\u003cbr\\u003eLatitude: 33.497635, Longitude: -112.201235\\u003cbr\\u003eDate: 2015-11-01\\u003cbr\\u003eCrime Category: BURGLARY\",\"Address: 1600 W MCDOWELL RD\\u003cbr\\u003eLatitude: 33.465914, Longitude: -112.093939\\u003cbr\\u003eDate: 2015-11-01\\u003cbr\\u003eCrime Category: MOTOR VEHICLE THEFT\",\"Address: 3200 W LINCOLN ST\\u003cbr\\u003eLatitude: 33.44235823232323, Longitude: -112.12815390909091\\u003cbr\\u003eDate: 2015-11-01\\u003cbr\\u003eCrime Category: LARCENY-THEFT\",\"Address: 500 N 40TH AVE\\u003cbr\\u003eLatitude: 33.45353979185082, Longitude: -112.14539245085619\\u003cbr\\u003eDate: 2015-11-01\\u003cbr\\u003eCrime Category: LARCENY-THEFT\",\"Address: 2500 W AUGUSTA AVE\\u003cbr\\u003eLatitude: 33.551212, Longitude: -112.112897\\u003cbr\\u003eDate: 2015-11-01\\u003cbr\\u003eCrime Category: MOTOR VEHICLE THEFT\",\"Address: 2700 E BRILL ST\\u003cbr\\u003eLatitude: 33.464954, Longitude: -112.023604\\u003cbr\\u003eDate: 2015-11-01\\u003cbr\\u003eCrime Category: BURGLARY\",\"Address: 4200 W MULBERRY DR\\u003cbr\\u003eLatitude: 33.48701378880589, Longitude: -112.14899310064341\\u003cbr\\u003eDate: 2015-11-01\\u003cbr\\u003eCrime Category: RAPE\",\"Address: 14800 S 25TH PL\\u003cbr\\u003eLatitude: 33.31237971218165, Longitude: -112.02727497846989\\u003cbr\\u003eDate: 2015-11-01\\u003cbr\\u003eCrime Category: BURGLARY\",\"Address: 4700 W HARWELL RD\\u003cbr\\u003eLatitude: 33.374347, Longitude: -112.161702\\u003cbr\\u003eDate: 2015-11-01\\u003cbr\\u003eCrime Category: BURGLARY\",\"Address: 900 S 17TH AVE\\u003cbr\\u003eLatitude: 33.439352, Longitude: -112.095793\\u003cbr\\u003eDate: 2015-11-01\\u003cbr\\u003eCrime Category: DRUG OFFENSE\",\"Address: 4200 N 72ND LN\\u003cbr\\u003eLatitude: 33.496482, Longitude: -112.215514\\u003cbr\\u003eDate: 2015-11-01\\u003cbr\\u003eCrime Category: DRUG OFFENSE\",\"Address: 2700 E BEARDSLEY RD\\u003cbr\\u003eLatitude: 33.669689325581395, Longitude: -112.02410095348837\\u003cbr\\u003eDate: 2015-11-01\\u003cbr\\u003eCrime Category: LARCENY-THEFT\",\"Address: 6800 W INDIAN SCHOOL RD\\u003cbr\\u003eLatitude: 33.4951347, Longitude: -112.2060645\\u003cbr\\u003eDate: 2015-11-01\\u003cbr\\u003eCrime Category: RAPE\",\"Address: 9400 N BLACK CANYON AC\\u003cbr\\u003eLatitude: nan, Longitude: nan\\u003cbr\\u003eDate: 2015-11-01\\u003cbr\\u003eCrime Category: LARCENY-THEFT\",\"Address: 100 E ELWOOD ST\\u003cbr\\u003eLatitude: 33.4140901244532, Longitude: -112.0720764120297\\u003cbr\\u003eDate: 2015-11-01\\u003cbr\\u003eCrime Category: LARCENY-THEFT\",\"Address: 16800 N TATUM BLVD\\u003cbr\\u003eLatitude: 33.63866181758633, Longitude: -111.97786595880538\\u003cbr\\u003eDate: 2015-11-01\\u003cbr\\u003eCrime Category: LARCENY-THEFT\",\"Address: 5100 N 99TH AVE\\u003cbr\\u003eLatitude: 33.5101893, Longitude: -112.2737572\\u003cbr\\u003eDate: 2015-11-01\\u003cbr\\u003eCrime Category: BURGLARY\",\"Address: 13600 N SCOTTSDALE RD\\u003cbr\\u003eLatitude: 33.5982102, Longitude: -111.9261226\\u003cbr\\u003eDate: 2015-11-01\\u003cbr\\u003eCrime Category: LARCENY-THEFT\",\"Address: 300 E JEFFERSON ST\\u003cbr\\u003eLatitude: 33.446459, Longitude: -112.069784\\u003cbr\\u003eDate: 2015-11-01\\u003cbr\\u003eCrime Category: LARCENY-THEFT\",\"Address: 1800 E EARLL DR\\u003cbr\\u003eLatitude: 33.48409, Longitude: -112.0436161\\u003cbr\\u003eDate: 2015-11-01\\u003cbr\\u003eCrime Category: BURGLARY\",\"Address: 4700 N BLACK CANYON AC\\u003cbr\\u003eLatitude: nan, Longitude: nan\\u003cbr\\u003eDate: 2015-11-01\\u003cbr\\u003eCrime Category: MOTOR VEHICLE THEFT\",\"Address: 2300 W GRAND AVE\\u003cbr\\u003eLatitude: nan, Longitude: nan\\u003cbr\\u003eDate: 2015-11-01\\u003cbr\\u003eCrime Category: RAPE\",\"Address: 11600 N TATUM BLVD\\u003cbr\\u003eLatitude: 33.592328958994685, Longitude: -111.9788783336768\\u003cbr\\u003eDate: 2015-11-01\\u003cbr\\u003eCrime Category: BURGLARY\",\"Address: 11200 N 19TH AVE\\u003cbr\\u003eLatitude: 33.587648, Longitude: -112.099763\\u003cbr\\u003eDate: 2015-11-01\\u003cbr\\u003eCrime Category: BURGLARY\",\"Address: 5400 E DEER VALLEY DR\\u003cbr\\u003eLatitude: nan, Longitude: nan\\u003cbr\\u003eDate: 2015-11-01\\u003cbr\\u003eCrime Category: LARCENY-THEFT\",\"Address: 3600 N 35TH AVE\\u003cbr\\u003eLatitude: 33.74022252884905, Longitude: -112.13459570362824\\u003cbr\\u003eDate: 2015-11-01\\u003cbr\\u003eCrime Category: MOTOR VEHICLE THEFT\",\"Address: 3400 N 27TH AVE\\u003cbr\\u003eLatitude: 33.487837, Longitude: -112.117151\\u003cbr\\u003eDate: 2015-11-01\\u003cbr\\u003eCrime Category: MOTOR VEHICLE THEFT\",\"Address: 3800 S 103RD LN\\u003cbr\\u003eLatitude: 33.411908, Longitude: -112.28215\\u003cbr\\u003eDate: 2015-11-01\\u003cbr\\u003eCrime Category: LARCENY-THEFT\",\"Address: 1700 E MCDOWELL RD\\u003cbr\\u003eLatitude: 33.465841, Longitude: -112.045355\\u003cbr\\u003eDate: 2015-11-01\\u003cbr\\u003eCrime Category: LARCENY-THEFT\",\"Address: 6900 E CHAUNCEY LN\\u003cbr\\u003eLatitude: 33.651627, Longitude: -111.93159153934097\\u003cbr\\u003eDate: 2015-11-01\\u003cbr\\u003eCrime Category: AGGRAVATED ASSAULT\",\"Address: 2800 W MELVIN ST\\u003cbr\\u003eLatitude: 33.452183285714284, Longitude: -112.11996804761905\\u003cbr\\u003eDate: 2015-11-01\\u003cbr\\u003eCrime Category: LARCENY-THEFT\",\"Address: 2800 E TRACY LN\\u003cbr\\u003eLatitude: 33.629572, Longitude: -112.021499\\u003cbr\\u003eDate: 2015-11-01\\u003cbr\\u003eCrime Category: MOTOR VEHICLE THEFT\",\"Address: 300 W MARIPOSA ST\\u003cbr\\u003eLatitude: 33.508484, Longitude: -112.078261\\u003cbr\\u003eDate: 2015-11-01\\u003cbr\\u003eCrime Category: LARCENY-THEFT\",\"Address: 2500 W NORTHERN AVE\\u003cbr\\u003eLatitude: 33.553218, Longitude: -112.113006\\u003cbr\\u003eDate: 2015-11-01\\u003cbr\\u003eCrime Category: LARCENY-THEFT\",\"Address: 2500 W NOVAK WAY\\u003cbr\\u003eLatitude: 33.389063, Longitude: -112.112664\\u003cbr\\u003eDate: 2015-11-01\\u003cbr\\u003eCrime Category: LARCENY-THEFT\",\"Address: 2700 E OLD TOWER RD\\u003cbr\\u003eLatitude: 33.42487587028998, Longitude: -112.02332813153286\\u003cbr\\u003eDate: 2015-11-01\\u003cbr\\u003eCrime Category: MOTOR VEHICLE THEFT\",\"Address: 3600 W GARFIELD ST\\u003cbr\\u003eLatitude: 33.457851, Longitude: -112.136811\\u003cbr\\u003eDate: 2015-11-01\\u003cbr\\u003eCrime Category: AGGRAVATED ASSAULT\",\"Address: 4500 E THOMAS RD\\u003cbr\\u003eLatitude: 33.480296, Longitude: -111.98472\\u003cbr\\u003eDate: 2015-11-01\\u003cbr\\u003eCrime Category: LARCENY-THEFT\",\"Address: 6400 W MCDOWELL RD\\u003cbr\\u003eLatitude: 33.465974, Longitude: -112.197211\\u003cbr\\u003eDate: 2015-11-01\\u003cbr\\u003eCrime Category: BURGLARY\",\"Address: 6000 S CENTRAL AVE\\u003cbr\\u003eLatitude: 33.391596818791946, Longitude: -112.07340298657718\\u003cbr\\u003eDate: 2015-11-01\\u003cbr\\u003eCrime Category: ROBBERY\",\"Address: 2000 N 75TH AVE\\u003cbr\\u003eLatitude: 33.469494, Longitude: -112.220772\\u003cbr\\u003eDate: 2015-11-01\\u003cbr\\u003eCrime Category: LARCENY-THEFT\",\"Address: 8900 N 22ND AVE\\u003cbr\\u003eLatitude: 33.566094, Longitude: -112.105793\\u003cbr\\u003eDate: 2015-11-01\\u003cbr\\u003eCrime Category: LARCENY-THEFT\",\"Address: 1600 N 27TH AVE\\u003cbr\\u003eLatitude: 33.466062, Longitude: -112.117231\\u003cbr\\u003eDate: 2015-11-01\\u003cbr\\u003eCrime Category: AGGRAVATED ASSAULT\",\"Address: 100 E OCOTILLO RD\\u003cbr\\u003eLatitude: 33.534338399999996, Longitude: -112.07187257239625\\u003cbr\\u003eDate: 2015-11-01\\u003cbr\\u003eCrime Category: LARCENY-THEFT\",\"Address: 1000 N 24TH PL\\u003cbr\\u003eLatitude: 33.459044, Longitude: -112.029226\\u003cbr\\u003eDate: 2015-11-01\\u003cbr\\u003eCrime Category: MOTOR VEHICLE THEFT\",\"Address: 3400 W BELL RD\\u003cbr\\u003eLatitude: 33.639749, Longitude: -112.130112\\u003cbr\\u003eDate: 2015-11-01\\u003cbr\\u003eCrime Category: LARCENY-THEFT\",\"Address: 5100 W MCDOWELL RD\\u003cbr\\u003eLatitude: 33.466055, Longitude: -112.169254\\u003cbr\\u003eDate: 2015-11-01\\u003cbr\\u003eCrime Category: LARCENY-THEFT\",\"Address: 2600 N 73RD GLN\\u003cbr\\u003eLatitude: 33.477175, Longitude: -112.2179\\u003cbr\\u003eDate: 2015-11-01\\u003cbr\\u003eCrime Category: AGGRAVATED ASSAULT\",\"Address: 4000 W ENCANTO BLVD\\u003cbr\\u003eLatitude: 33.473305521739135, Longitude: -112.14550660869564\\u003cbr\\u003eDate: 2015-11-01\\u003cbr\\u003eCrime Category: AGGRAVATED ASSAULT\",\"Address: 2600 W UNION HILLS DR\\u003cbr\\u003eLatitude: 33.654774, Longitude: -112.115198\\u003cbr\\u003eDate: 2015-11-01\\u003cbr\\u003eCrime Category: LARCENY-THEFT\",\"Address: 18400 N 35TH AVE\\u003cbr\\u003eLatitude: 33.652621, Longitude: -112.134569\\u003cbr\\u003eDate: 2015-11-01\\u003cbr\\u003eCrime Category: BURGLARY\",\"Address: 1000 W TONOPAH DR\\u003cbr\\u003eLatitude: 33.67238480729145, Longitude: -112.08500473062854\\u003cbr\\u003eDate: 2015-11-01\\u003cbr\\u003eCrime Category: MOTOR VEHICLE THEFT\",\"Address: 1100 E DESERT DR\\u003cbr\\u003eLatitude: 33.367737444444444, Longitude: -112.05843863636363\\u003cbr\\u003eDate: 2015-11-01\\u003cbr\\u003eCrime Category: LARCENY-THEFT\",\"Address: 4000 E CHANDLER BLVD\\u003cbr\\u003eLatitude: 33.305291, Longitude: -111.99572\\u003cbr\\u003eDate: 2015-11-01\\u003cbr\\u003eCrime Category: LARCENY-THEFT\",\"Address: 4100 S 4TH ST\\u003cbr\\u003eLatitude: 33.409374, Longitude: -112.068397\\u003cbr\\u003eDate: 2015-11-01\\u003cbr\\u003eCrime Category: MOTOR VEHICLE THEFT\",\"Address: 1800 W BELL RD\\u003cbr\\u003eLatitude: 33.6402324277168, Longitude: -112.09774094306228\\u003cbr\\u003eDate: 2015-11-01\\u003cbr\\u003eCrime Category: LARCENY-THEFT\",\"Address: 4300 W BELL RD\\u003cbr\\u003eLatitude: 33.639401, Longitude: -112.151941\\u003cbr\\u003eDate: 2015-11-01\\u003cbr\\u003eCrime Category: AGGRAVATED ASSAULT\",\"Address: 4200 S 48TH ST\\u003cbr\\u003eLatitude: 33.387288, Longitude: -111.978447\\u003cbr\\u003eDate: 2015-11-01\\u003cbr\\u003eCrime Category: LARCENY-THEFT\",\"Address: 4200 W MCDOWELL RD\\u003cbr\\u003eLatitude: 33.466037, Longitude: -112.149559\\u003cbr\\u003eDate: 2015-11-01\\u003cbr\\u003eCrime Category: LARCENY-THEFT\",\"Address: 7400 W VIRGINIA AVE\\u003cbr\\u003eLatitude: 33.476693505050505, Longitude: -112.21606071717171\\u003cbr\\u003eDate: 2015-11-01\\u003cbr\\u003eCrime Category: LARCENY-THEFT\",\"Address: 4100 W ADAMS ST\\u003cbr\\u003eLatitude: 33.449884, Longitude: -112.147586\\u003cbr\\u003eDate: 2015-11-01\\u003cbr\\u003eCrime Category: LARCENY-THEFT\",\"Address: 1800 W ADAMS ST\\u003cbr\\u003eLatitude: 33.449302, Longitude: -112.098344\\u003cbr\\u003eDate: 2015-11-01\\u003cbr\\u003eCrime Category: DRUG OFFENSE\",\"Address: 3700 N 12TH ST\\u003cbr\\u003eLatitude: 33.490418, Longitude: -112.056435\\u003cbr\\u003eDate: 2015-11-01\\u003cbr\\u003eCrime Category: MOTOR VEHICLE THEFT\",\"Address: 3200 E CAMELBACK RD\\u003cbr\\u003eLatitude: 33.510049, Longitude: -112.012876\\u003cbr\\u003eDate: 2015-11-01\\u003cbr\\u003eCrime Category: LARCENY-THEFT\",\"Address: 9000 S CENTRAL AVE\\u003cbr\\u003eLatitude: 33.363905628758324, Longitude: -112.0732977239317\\u003cbr\\u003eDate: 2015-11-01\\u003cbr\\u003eCrime Category: LARCENY-THEFT\",\"Address: 300 W BELL RD\\u003cbr\\u003eLatitude: 33.640311, Longitude: -112.078628\\u003cbr\\u003eDate: 2015-11-01\\u003cbr\\u003eCrime Category: DRUG OFFENSE\",\"Address: 15400 N CAVE CREEK RD\\u003cbr\\u003eLatitude: 33.626989175879395, Longitude: -112.03080877386935\\u003cbr\\u003eDate: 2015-11-01\\u003cbr\\u003eCrime Category: LARCENY-THEFT\",\"Address: 4100 W BLUEFIELD AVE\\u003cbr\\u003eLatitude: 33.652501, Longitude: -112.147717\\u003cbr\\u003eDate: 2015-11-01\\u003cbr\\u003eCrime Category: LARCENY-THEFT\",\"Address: 2500 W GREENWAY RD\\u003cbr\\u003eLatitude: 33.625375, Longitude: -112.11367\\u003cbr\\u003eDate: 2015-11-01\\u003cbr\\u003eCrime Category: LARCENY-THEFT\",\"Address: 4000 W SHANGRI LA RD\\u003cbr\\u003eLatitude: 33.587125, Longitude: -112.14513\\u003cbr\\u003eDate: 2015-11-01\\u003cbr\\u003eCrime Category: BURGLARY\",\"Address: 4200 S 36TH PL\\u003cbr\\u003eLatitude: 33.409093, Longitude: -112.00296\\u003cbr\\u003eDate: 2015-11-01\\u003cbr\\u003eCrime Category: LARCENY-THEFT\",\"Address: 35000 N NORTH VALLEY PKWY\\u003cbr\\u003eLatitude: 33.80203253583419, Longitude: -112.13058163116442\\u003cbr\\u003eDate: 2015-11-01\\u003cbr\\u003eCrime Category: ROBBERY\",\"Address: 3300 W POLK ST\\u003cbr\\u003eLatitude: 33.453298, Longitude: -112.130501\\u003cbr\\u003eDate: 2015-11-01\\u003cbr\\u003eCrime Category: AGGRAVATED ASSAULT\",\"Address: 3800 E SKY HARBOR BLVD\\u003cbr\\u003eLatitude: 33.43640710624165, Longitude: -112.01334159230677\\u003cbr\\u003eDate: 2015-11-01\\u003cbr\\u003eCrime Category: LARCENY-THEFT\",\"Address: 1600 E ROOSEVELT ST\\u003cbr\\u003eLatitude: 33.458802, Longitude: -112.047485\\u003cbr\\u003eDate: 2015-11-01\\u003cbr\\u003eCrime Category: LARCENY-THEFT\",\"Address: 7000 N 7TH AVE\\u003cbr\\u003eLatitude: 33.5392593559322, Longitude: -112.08253977966102\\u003cbr\\u003eDate: 2015-11-01\\u003cbr\\u003eCrime Category: BURGLARY\",\"Address: 1600 W BURGESS LN\\u003cbr\\u003eLatitude: 33.39016736981714, Longitude: -112.09268383869319\\u003cbr\\u003eDate: 2015-11-01\\u003cbr\\u003eCrime Category: LARCENY-THEFT\",\"Address: 1700 W BELL RD\\u003cbr\\u003eLatitude: 33.640238, Longitude: -112.0959\\u003cbr\\u003eDate: 2015-11-01\\u003cbr\\u003eCrime Category: LARCENY-THEFT\",\"Address: 5500 N 35TH AVE\\u003cbr\\u003eLatitude: 33.516853, Longitude: -112.134326\\u003cbr\\u003eDate: 2015-11-01\\u003cbr\\u003eCrime Category: LARCENY-THEFT\",\"Address: 7200 W DEVONSHIRE AVE\\u003cbr\\u003eLatitude: 33.49645882828283, Longitude: -112.21386831313131\\u003cbr\\u003eDate: 2015-11-01\\u003cbr\\u003eCrime Category: LARCENY-THEFT\",\"Address: 1800 W BELL RD\\u003cbr\\u003eLatitude: 33.6402324277168, Longitude: -112.09774094306228\\u003cbr\\u003eDate: 2015-11-01\\u003cbr\\u003eCrime Category: LARCENY-THEFT\",\"Address: 17400 N 19TH AVE\\u003cbr\\u003eLatitude: 33.644184844827585, Longitude: -112.099814\\u003cbr\\u003eDate: 2015-11-01\\u003cbr\\u003eCrime Category: LARCENY-THEFT\",\"Address: 5200 W INDIAN SCHOOL RD\\u003cbr\\u003eLatitude: 33.495071, Longitude: -112.171183\\u003cbr\\u003eDate: 2015-11-01\\u003cbr\\u003eCrime Category: LARCENY-THEFT\",\"Address: 3800 E BASELINE RD\\u003cbr\\u003eLatitude: 33.378138, Longitude: -112.000678\\u003cbr\\u003eDate: 2015-11-01\\u003cbr\\u003eCrime Category: LARCENY-THEFT\",\"Address: 4300 W CLARENDON AVE\\u003cbr\\u003eLatitude: 33.491409, Longitude: -112.151809\\u003cbr\\u003eDate: 2015-11-01\\u003cbr\\u003eCrime Category: AGGRAVATED ASSAULT\",\"Address: 4000 W WONDERVIEW RD\\u003cbr\\u003eLatitude: 33.51133110692751, Longitude: -112.14556849251726\\u003cbr\\u003eDate: 2015-11-01\\u003cbr\\u003eCrime Category: LARCENY-THEFT\",\"Address: 10300 W ATLANTIS WAY\\u003cbr\\u003eLatitude: 33.409754, Longitude: -112.279977\\u003cbr\\u003eDate: 2015-11-01\\u003cbr\\u003eCrime Category: LARCENY-THEFT\",\"Address: 2500 W BEAUTIFUL LN\\u003cbr\\u003eLatitude: 33.376098, Longitude: -112.113485\\u003cbr\\u003eDate: 2015-11-01\\u003cbr\\u003eCrime Category: MOTOR VEHICLE THEFT\",\"Address: 500 W EL CAMINO DR\\u003cbr\\u003eLatitude: 33.55718141745305, Longitude: -112.08110214329068\\u003cbr\\u003eDate: 2015-11-01\\u003cbr\\u003eCrime Category: LARCENY-THEFT\",\"Address: 4700 E RAY RD\\u003cbr\\u003eLatitude: 33.31991431591687, Longitude: -111.98231778495514\\u003cbr\\u003eDate: 2015-11-01\\u003cbr\\u003eCrime Category: LARCENY-THEFT\",\"Address: 2100 N 39TH DR\\u003cbr\\u003eLatitude: 33.471142, Longitude: -112.14406\\u003cbr\\u003eDate: 2015-11-01\\u003cbr\\u003eCrime Category: LARCENY-THEFT\",\"Address: 18400 N 19TH AVE\\u003cbr\\u003eLatitude: 33.65277565991285, Longitude: -112.09983710163824\\u003cbr\\u003eDate: 2015-11-01\\u003cbr\\u003eCrime Category: LARCENY-THEFT\",\"Address: 5600 S 32ND ST\\u003cbr\\u003eLatitude: 33.396297678420005, Longitude: -112.012825643148\\u003cbr\\u003eDate: 2015-11-01\\u003cbr\\u003eCrime Category: LARCENY-THEFT\",\"Address: 3100 S 87TH DR\\u003cbr\\u003eLatitude: 33.41904336363637, Longitude: -112.24769981818181\\u003cbr\\u003eDate: 2015-11-01\\u003cbr\\u003eCrime Category: AGGRAVATED ASSAULT\",\"Address: 12200 S 35TH ST\\u003cbr\\u003eLatitude: 33.334886, Longitude: -112.008359\\u003cbr\\u003eDate: 2015-11-01\\u003cbr\\u003eCrime Category: BURGLARY\",\"Address: 5200 W INDIAN SCHOOL RD\\u003cbr\\u003eLatitude: 33.495071, Longitude: -112.171183\\u003cbr\\u003eDate: 2015-11-01\\u003cbr\\u003eCrime Category: LARCENY-THEFT\",\"Address: 6200 W THOMAS RD\\u003cbr\\u003eLatitude: 33.480532, Longitude: -112.193478\\u003cbr\\u003eDate: 2015-11-01\\u003cbr\\u003eCrime Category: MOTOR VEHICLE THEFT\",\"Address: 4800 W VERDE LN\\u003cbr\\u003eLatitude: 33.481095, Longitude: -112.161735\\u003cbr\\u003eDate: 2015-11-01\\u003cbr\\u003eCrime Category: AGGRAVATED ASSAULT\",\"Address: 2100 W FLOWER ST\\u003cbr\\u003eLatitude: 33.485844, Longitude: -112.103625\\u003cbr\\u003eDate: 2015-11-01\\u003cbr\\u003eCrime Category: MOTOR VEHICLE THEFT\",\"Address: 2400 E VAN BUREN ST\\u003cbr\\u003eLatitude: 33.451434, Longitude: -112.030009\\u003cbr\\u003eDate: 2015-11-01\\u003cbr\\u003eCrime Category: ROBBERY\",\"Address: 3600 E VAN BUREN ST\\u003cbr\\u003eLatitude: 33.451367, Longitude: -112.003975\\u003cbr\\u003eDate: 2015-11-01\\u003cbr\\u003eCrime Category: AGGRAVATED ASSAULT\",\"Address: 10200 N METRO PKWY W\\u003cbr\\u003eLatitude: 33.578982, Longitude: -112.124261\\u003cbr\\u003eDate: 2015-11-01\\u003cbr\\u003eCrime Category: DRUG OFFENSE\",\"Address: N 47TH AVE & W GLENROSA AVE\\u003cbr\\u003eLatitude: nan, Longitude: nan\\u003cbr\\u003eDate: 2015-11-01\\u003cbr\\u003eCrime Category: ROBBERY\",\"Address: 900 W HIGHLAND AVE\\u003cbr\\u003eLatitude: 33.50583946063219, Longitude: -112.08469189302826\\u003cbr\\u003eDate: 2015-11-01\\u003cbr\\u003eCrime Category: MOTOR VEHICLE THEFT\",\"Address: 100 W JONES AVE\\u003cbr\\u003eLatitude: 33.410753324324325, Longitude: -112.07483441216216\\u003cbr\\u003eDate: 2015-11-01\\u003cbr\\u003eCrime Category: BURGLARY\",\"Address: 19200 N 20TH DR\\u003cbr\\u003eLatitude: 33.65951, Longitude: -112.10381\\u003cbr\\u003eDate: 2015-11-01\\u003cbr\\u003eCrime Category: LARCENY-THEFT\",\"Address: 5600 E GELDING DR\\u003cbr\\u003eLatitude: 33.617357, Longitude: -111.959701\\u003cbr\\u003eDate: 2015-11-01\\u003cbr\\u003eCrime Category: LARCENY-THEFT\",\"Address: 2000 W BETHANY HOME RD\\u003cbr\\u003eLatitude: 33.5250664, Longitude: -112.10216138369839\\u003cbr\\u003eDate: 2015-11-01\\u003cbr\\u003eCrime Category: RAPE\",\"Address: 2500 W CACTUS RD\\u003cbr\\u003eLatitude: 33.596505, Longitude: -112.113163\\u003cbr\\u003eDate: 2015-11-01\\u003cbr\\u003eCrime Category: MOTOR VEHICLE THEFT\",\"Address: 1800 W GRANT ST\\u003cbr\\u003eLatitude: 33.441446, Longitude: -112.098186\\u003cbr\\u003eDate: 2015-11-01\\u003cbr\\u003eCrime Category: LARCENY-THEFT\",\"Address: 4200 E CEDARWOOD LN\\u003cbr\\u003eLatitude: 33.292984, Longitude: -111.992565\\u003cbr\\u003eDate: 2015-11-01\\u003cbr\\u003eCrime Category: BURGLARY\"],\"visible\":true,\"type\":\"scattermapbox\"}],                        {\"template\":{\"data\":{\"histogram2dcontour\":[{\"type\":\"histogram2dcontour\",\"colorbar\":{\"outlinewidth\":0,\"ticks\":\"\"},\"colorscale\":[[0.0,\"#0d0887\"],[0.1111111111111111,\"#46039f\"],[0.2222222222222222,\"#7201a8\"],[0.3333333333333333,\"#9c179e\"],[0.4444444444444444,\"#bd3786\"],[0.5555555555555556,\"#d8576b\"],[0.6666666666666666,\"#ed7953\"],[0.7777777777777778,\"#fb9f3a\"],[0.8888888888888888,\"#fdca26\"],[1.0,\"#f0f921\"]]}],\"choropleth\":[{\"type\":\"choropleth\",\"colorbar\":{\"outlinewidth\":0,\"ticks\":\"\"}}],\"histogram2d\":[{\"type\":\"histogram2d\",\"colorbar\":{\"outlinewidth\":0,\"ticks\":\"\"},\"colorscale\":[[0.0,\"#0d0887\"],[0.1111111111111111,\"#46039f\"],[0.2222222222222222,\"#7201a8\"],[0.3333333333333333,\"#9c179e\"],[0.4444444444444444,\"#bd3786\"],[0.5555555555555556,\"#d8576b\"],[0.6666666666666666,\"#ed7953\"],[0.7777777777777778,\"#fb9f3a\"],[0.8888888888888888,\"#fdca26\"],[1.0,\"#f0f921\"]]}],\"heatmap\":[{\"type\":\"heatmap\",\"colorbar\":{\"outlinewidth\":0,\"ticks\":\"\"},\"colorscale\":[[0.0,\"#0d0887\"],[0.1111111111111111,\"#46039f\"],[0.2222222222222222,\"#7201a8\"],[0.3333333333333333,\"#9c179e\"],[0.4444444444444444,\"#bd3786\"],[0.5555555555555556,\"#d8576b\"],[0.6666666666666666,\"#ed7953\"],[0.7777777777777778,\"#fb9f3a\"],[0.8888888888888888,\"#fdca26\"],[1.0,\"#f0f921\"]]}],\"heatmapgl\":[{\"type\":\"heatmapgl\",\"colorbar\":{\"outlinewidth\":0,\"ticks\":\"\"},\"colorscale\":[[0.0,\"#0d0887\"],[0.1111111111111111,\"#46039f\"],[0.2222222222222222,\"#7201a8\"],[0.3333333333333333,\"#9c179e\"],[0.4444444444444444,\"#bd3786\"],[0.5555555555555556,\"#d8576b\"],[0.6666666666666666,\"#ed7953\"],[0.7777777777777778,\"#fb9f3a\"],[0.8888888888888888,\"#fdca26\"],[1.0,\"#f0f921\"]]}],\"contourcarpet\":[{\"type\":\"contourcarpet\",\"colorbar\":{\"outlinewidth\":0,\"ticks\":\"\"}}],\"contour\":[{\"type\":\"contour\",\"colorbar\":{\"outlinewidth\":0,\"ticks\":\"\"},\"colorscale\":[[0.0,\"#0d0887\"],[0.1111111111111111,\"#46039f\"],[0.2222222222222222,\"#7201a8\"],[0.3333333333333333,\"#9c179e\"],[0.4444444444444444,\"#bd3786\"],[0.5555555555555556,\"#d8576b\"],[0.6666666666666666,\"#ed7953\"],[0.7777777777777778,\"#fb9f3a\"],[0.8888888888888888,\"#fdca26\"],[1.0,\"#f0f921\"]]}],\"surface\":[{\"type\":\"surface\",\"colorbar\":{\"outlinewidth\":0,\"ticks\":\"\"},\"colorscale\":[[0.0,\"#0d0887\"],[0.1111111111111111,\"#46039f\"],[0.2222222222222222,\"#7201a8\"],[0.3333333333333333,\"#9c179e\"],[0.4444444444444444,\"#bd3786\"],[0.5555555555555556,\"#d8576b\"],[0.6666666666666666,\"#ed7953\"],[0.7777777777777778,\"#fb9f3a\"],[0.8888888888888888,\"#fdca26\"],[1.0,\"#f0f921\"]]}],\"mesh3d\":[{\"type\":\"mesh3d\",\"colorbar\":{\"outlinewidth\":0,\"ticks\":\"\"}}],\"scatter\":[{\"fillpattern\":{\"fillmode\":\"overlay\",\"size\":10,\"solidity\":0.2},\"type\":\"scatter\"}],\"parcoords\":[{\"type\":\"parcoords\",\"line\":{\"colorbar\":{\"outlinewidth\":0,\"ticks\":\"\"}}}],\"scatterpolargl\":[{\"type\":\"scatterpolargl\",\"marker\":{\"colorbar\":{\"outlinewidth\":0,\"ticks\":\"\"}}}],\"bar\":[{\"error_x\":{\"color\":\"#2a3f5f\"},\"error_y\":{\"color\":\"#2a3f5f\"},\"marker\":{\"line\":{\"color\":\"#E5ECF6\",\"width\":0.5},\"pattern\":{\"fillmode\":\"overlay\",\"size\":10,\"solidity\":0.2}},\"type\":\"bar\"}],\"scattergeo\":[{\"type\":\"scattergeo\",\"marker\":{\"colorbar\":{\"outlinewidth\":0,\"ticks\":\"\"}}}],\"scatterpolar\":[{\"type\":\"scatterpolar\",\"marker\":{\"colorbar\":{\"outlinewidth\":0,\"ticks\":\"\"}}}],\"histogram\":[{\"marker\":{\"pattern\":{\"fillmode\":\"overlay\",\"size\":10,\"solidity\":0.2}},\"type\":\"histogram\"}],\"scattergl\":[{\"type\":\"scattergl\",\"marker\":{\"colorbar\":{\"outlinewidth\":0,\"ticks\":\"\"}}}],\"scatter3d\":[{\"type\":\"scatter3d\",\"line\":{\"colorbar\":{\"outlinewidth\":0,\"ticks\":\"\"}},\"marker\":{\"colorbar\":{\"outlinewidth\":0,\"ticks\":\"\"}}}],\"scattermapbox\":[{\"type\":\"scattermapbox\",\"marker\":{\"colorbar\":{\"outlinewidth\":0,\"ticks\":\"\"}}}],\"scatterternary\":[{\"type\":\"scatterternary\",\"marker\":{\"colorbar\":{\"outlinewidth\":0,\"ticks\":\"\"}}}],\"scattercarpet\":[{\"type\":\"scattercarpet\",\"marker\":{\"colorbar\":{\"outlinewidth\":0,\"ticks\":\"\"}}}],\"carpet\":[{\"aaxis\":{\"endlinecolor\":\"#2a3f5f\",\"gridcolor\":\"white\",\"linecolor\":\"white\",\"minorgridcolor\":\"white\",\"startlinecolor\":\"#2a3f5f\"},\"baxis\":{\"endlinecolor\":\"#2a3f5f\",\"gridcolor\":\"white\",\"linecolor\":\"white\",\"minorgridcolor\":\"white\",\"startlinecolor\":\"#2a3f5f\"},\"type\":\"carpet\"}],\"table\":[{\"cells\":{\"fill\":{\"color\":\"#EBF0F8\"},\"line\":{\"color\":\"white\"}},\"header\":{\"fill\":{\"color\":\"#C8D4E3\"},\"line\":{\"color\":\"white\"}},\"type\":\"table\"}],\"barpolar\":[{\"marker\":{\"line\":{\"color\":\"#E5ECF6\",\"width\":0.5},\"pattern\":{\"fillmode\":\"overlay\",\"size\":10,\"solidity\":0.2}},\"type\":\"barpolar\"}],\"pie\":[{\"automargin\":true,\"type\":\"pie\"}]},\"layout\":{\"autotypenumbers\":\"strict\",\"colorway\":[\"#636efa\",\"#EF553B\",\"#00cc96\",\"#ab63fa\",\"#FFA15A\",\"#19d3f3\",\"#FF6692\",\"#B6E880\",\"#FF97FF\",\"#FECB52\"],\"font\":{\"color\":\"#2a3f5f\"},\"hovermode\":\"closest\",\"hoverlabel\":{\"align\":\"left\"},\"paper_bgcolor\":\"white\",\"plot_bgcolor\":\"#E5ECF6\",\"polar\":{\"bgcolor\":\"#E5ECF6\",\"angularaxis\":{\"gridcolor\":\"white\",\"linecolor\":\"white\",\"ticks\":\"\"},\"radialaxis\":{\"gridcolor\":\"white\",\"linecolor\":\"white\",\"ticks\":\"\"}},\"ternary\":{\"bgcolor\":\"#E5ECF6\",\"aaxis\":{\"gridcolor\":\"white\",\"linecolor\":\"white\",\"ticks\":\"\"},\"baxis\":{\"gridcolor\":\"white\",\"linecolor\":\"white\",\"ticks\":\"\"},\"caxis\":{\"gridcolor\":\"white\",\"linecolor\":\"white\",\"ticks\":\"\"}},\"coloraxis\":{\"colorbar\":{\"outlinewidth\":0,\"ticks\":\"\"}},\"colorscale\":{\"sequential\":[[0.0,\"#0d0887\"],[0.1111111111111111,\"#46039f\"],[0.2222222222222222,\"#7201a8\"],[0.3333333333333333,\"#9c179e\"],[0.4444444444444444,\"#bd3786\"],[0.5555555555555556,\"#d8576b\"],[0.6666666666666666,\"#ed7953\"],[0.7777777777777778,\"#fb9f3a\"],[0.8888888888888888,\"#fdca26\"],[1.0,\"#f0f921\"]],\"sequentialminus\":[[0.0,\"#0d0887\"],[0.1111111111111111,\"#46039f\"],[0.2222222222222222,\"#7201a8\"],[0.3333333333333333,\"#9c179e\"],[0.4444444444444444,\"#bd3786\"],[0.5555555555555556,\"#d8576b\"],[0.6666666666666666,\"#ed7953\"],[0.7777777777777778,\"#fb9f3a\"],[0.8888888888888888,\"#fdca26\"],[1.0,\"#f0f921\"]],\"diverging\":[[0,\"#8e0152\"],[0.1,\"#c51b7d\"],[0.2,\"#de77ae\"],[0.3,\"#f1b6da\"],[0.4,\"#fde0ef\"],[0.5,\"#f7f7f7\"],[0.6,\"#e6f5d0\"],[0.7,\"#b8e186\"],[0.8,\"#7fbc41\"],[0.9,\"#4d9221\"],[1,\"#276419\"]]},\"xaxis\":{\"gridcolor\":\"white\",\"linecolor\":\"white\",\"ticks\":\"\",\"title\":{\"standoff\":15},\"zerolinecolor\":\"white\",\"automargin\":true,\"zerolinewidth\":2},\"yaxis\":{\"gridcolor\":\"white\",\"linecolor\":\"white\",\"ticks\":\"\",\"title\":{\"standoff\":15},\"zerolinecolor\":\"white\",\"automargin\":true,\"zerolinewidth\":2},\"scene\":{\"xaxis\":{\"backgroundcolor\":\"#E5ECF6\",\"gridcolor\":\"white\",\"linecolor\":\"white\",\"showbackground\":true,\"ticks\":\"\",\"zerolinecolor\":\"white\",\"gridwidth\":2},\"yaxis\":{\"backgroundcolor\":\"#E5ECF6\",\"gridcolor\":\"white\",\"linecolor\":\"white\",\"showbackground\":true,\"ticks\":\"\",\"zerolinecolor\":\"white\",\"gridwidth\":2},\"zaxis\":{\"backgroundcolor\":\"#E5ECF6\",\"gridcolor\":\"white\",\"linecolor\":\"white\",\"showbackground\":true,\"ticks\":\"\",\"zerolinecolor\":\"white\",\"gridwidth\":2}},\"shapedefaults\":{\"line\":{\"color\":\"#2a3f5f\"}},\"annotationdefaults\":{\"arrowcolor\":\"#2a3f5f\",\"arrowhead\":0,\"arrowwidth\":1},\"geo\":{\"bgcolor\":\"white\",\"landcolor\":\"#E5ECF6\",\"subunitcolor\":\"white\",\"showland\":true,\"showlakes\":true,\"lakecolor\":\"white\"},\"title\":{\"x\":0.05},\"mapbox\":{\"style\":\"light\"}}},\"mapbox\":{\"style\":\"open-street-map\",\"zoom\":4},\"sliders\":[{\"active\":0,\"steps\":[{\"args\":[{\"visible\":[true]},{\"title\":\"Date: 2015-11-01\"}],\"method\":\"update\"}]}]},                        {\"responsive\": true}                    ).then(function(){\n",
       "                            \n",
       "var gd = document.getElementById('ff6f6079-73ed-4d3f-b8ad-0860aba185d5');\n",
       "var x = new MutationObserver(function (mutations, observer) {{\n",
       "        var display = window.getComputedStyle(gd).display;\n",
       "        if (!display || display === 'none') {{\n",
       "            console.log([gd, 'removed!']);\n",
       "            Plotly.purge(gd);\n",
       "            observer.disconnect();\n",
       "        }}\n",
       "}});\n",
       "\n",
       "// Listen for the removal of the full notebook cells\n",
       "var notebookContainer = gd.closest('#notebook-container');\n",
       "if (notebookContainer) {{\n",
       "    x.observe(notebookContainer, {childList: true});\n",
       "}}\n",
       "\n",
       "// Listen for the clearing of the current output cell\n",
       "var outputEl = gd.closest('.output');\n",
       "if (outputEl) {{\n",
       "    x.observe(outputEl, {childList: true});\n",
       "}}\n",
       "\n",
       "                        })                };                });            </script>        </div>"
      ]
     },
     "metadata": {},
     "output_type": "display_data"
    }
   ],
   "source": [
    "# Create figure\n",
    "fig = go.Figure()\n",
    "\n",
    "# Add a trace for each unique date\n",
    "for date in unique_dates:\n",
    "    df_filtered = df_test[df_test['occurred_on_str'] == date]\n",
    "    if not df_filtered.empty:  # Check if filtered DataFrame is not empty\n",
    "        # Create the text for the hover tooltip\n",
    "        hover_text = df_filtered.apply(lambda row: f\"Address: {row['100_block_addr']}<br>Latitude: {row['latitude']}, Longitude: {row['longitude']}<br>Date: {date}<br>Crime Category: {row['ucr_crime_category']}\", axis=1)\n",
    "        \n",
    "        fig.add_trace(\n",
    "            go.Scattermapbox(\n",
    "                lat=df_filtered['latitude'],\n",
    "                lon=df_filtered['longitude'],\n",
    "                mode='markers',\n",
    "                marker=go.scattermapbox.Marker(size=9),\n",
    "                name=date,\n",
    "                text=hover_text,  # Use the custom hover text\n",
    "                hoverinfo='text',  # Ensure only the custom text is displayed on hover\n",
    "                visible=False\n",
    "            )\n",
    "        )\n",
    "\n",
    "# Debug: Ensure at least one trace is set to visible\n",
    "if fig.data:\n",
    "    fig.data[0].visible = True  # Making the first trace visible\n",
    "\n",
    "# Add and configure the slider\n",
    "steps = []\n",
    "for i, date in enumerate(unique_dates):\n",
    "    date_str = str(date)  # Explicitly convert `date` to string to avoid TypeError\n",
    "    step = dict(\n",
    "        method=\"update\",\n",
    "        args=[{\"visible\": [False] * len(fig.data)}, {\"title\": \"Date: \" + date_str}],\n",
    "    )\n",
    "    step[\"args\"][0][\"visible\"][i] = True  # Toggle visibility\n",
    "    steps.append(step)\n",
    "\n",
    "fig.update_layout(\n",
    "    sliders=[{\"active\": 0, \"steps\": steps}],\n",
    "    mapbox_style=\"open-street-map\",\n",
    "    mapbox_zoom=4\n",
    ")"
   ]
  },
  {
   "cell_type": "code",
   "execution_count": 45,
   "id": "a05972df",
   "metadata": {
    "scrolled": false
   },
   "outputs": [
    {
     "data": {
      "application/vnd.plotly.v1+json": {
       "config": {
        "plotlyServerURL": "https://plot.ly"
       },
       "data": [
        {
         "hoverinfo": "text",
         "lat": [
          33.466771,
          33.512281,
          33.505666,
          33.410824,
          null,
          33.51083,
          33.509561,
          33.495116,
          33.738218,
          33.509521,
          33.381281,
          33.585802,
          33.592011,
          33.48239,
          33.585726,
          33.466097500000004,
          33.586374,
          33.670393,
          33.5650605,
          null,
          33.551212,
          33.664595,
          33.471022,
          33.63355614156423,
          33.509534,
          33.35168250929977,
          33.466038555486165,
          33.384189,
          33.540801,
          33.454812,
          33.418994,
          33.495102,
          33.299533,
          33.480156,
          33.494819,
          33.532669459955066,
          33.646595,
          33.490751921072835,
          33.5026053,
          33.321618375,
          33.406958743243244,
          33.585802,
          33.3750309,
          33.553177,
          33.476728,
          33.497371,
          33.694458,
          33.6402324277168,
          33.567621,
          33.487892,
          33.497635,
          33.465914,
          33.44235823232323,
          33.45353979185082,
          33.551212,
          33.464954,
          33.48701378880589,
          33.31237971218165,
          33.374347,
          33.439352,
          33.496482,
          33.669689325581395,
          33.4951347,
          null,
          33.4140901244532,
          33.63866181758633,
          33.5101893,
          33.5982102,
          33.446459,
          33.48409,
          null,
          null,
          33.592328958994685,
          33.587648,
          null,
          33.74022252884905,
          33.487837,
          33.411908,
          33.465841,
          33.651627,
          33.452183285714284,
          33.629572,
          33.508484,
          33.553218,
          33.389063,
          33.42487587028998,
          33.457851,
          33.480296,
          33.465974,
          33.391596818791946,
          33.469494,
          33.566094,
          33.466062,
          33.534338399999996,
          33.459044,
          33.639749,
          33.466055,
          33.477175,
          33.473305521739135,
          33.654774,
          33.652621,
          33.67238480729145,
          33.367737444444444,
          33.305291,
          33.409374,
          33.6402324277168,
          33.639401,
          33.387288,
          33.466037,
          33.476693505050505,
          33.449884,
          33.449302,
          33.490418,
          33.510049,
          33.363905628758324,
          33.640311,
          33.626989175879395,
          33.652501,
          33.625375,
          33.587125,
          33.409093,
          33.80203253583419,
          33.453298,
          33.43640710624165,
          33.458802,
          33.5392593559322,
          33.39016736981714,
          33.640238,
          33.516853,
          33.49645882828283,
          33.6402324277168,
          33.644184844827585,
          33.495071,
          33.378138,
          33.491409,
          33.51133110692751,
          33.409754,
          33.376098,
          33.55718141745305,
          33.31991431591687,
          33.471142,
          33.65277565991285,
          33.396297678420005,
          33.41904336363637,
          33.334886,
          33.495071,
          33.480532,
          33.481095,
          33.485844,
          33.451434,
          33.451367,
          33.578982,
          null,
          33.50583946063219,
          33.410753324324325,
          33.65951,
          33.617357,
          33.5250664,
          33.596505,
          33.441446,
          33.292984
         ],
         "lon": [
          -112.054083,
          -112.050423,
          -112.051749,
          -112.209052,
          null,
          -112.279628,
          -112.126082,
          -112.175245,
          -112.109682,
          -112.140849,
          -112.157992,
          -112.095671,
          -111.98807,
          -112.006219,
          -112.134178,
          -111.9948820439732,
          -111.977742,
          -112.082301,
          -112.0946482,
          null,
          -112.112897,
          -112.066351,
          -112.141509,
          -112.08158906437909,
          -112.119695,
          -111.99323762450298,
          -112.1580992954471,
          -112.105216,
          -112.130481,
          -112.076561,
          -112.244455,
          -112.168974,
          -112.005896,
          -111.97395,
          -112.062709,
          -112.0453190486569,
          -112.065661,
          -112.22243885258327,
          -112.203214,
          -111.988956475,
          -112.03347666216216,
          -112.095671,
          -112.1614824,
          -112.117121,
          -112.036597,
          -112.056409,
          -112.124782,
          -112.09774094306228,
          -112.133308,
          -112.108509,
          -112.201235,
          -112.093939,
          -112.12815390909091,
          -112.14539245085619,
          -112.112897,
          -112.023604,
          -112.14899310064341,
          -112.02727497846989,
          -112.161702,
          -112.095793,
          -112.215514,
          -112.02410095348837,
          -112.2060645,
          null,
          -112.0720764120297,
          -111.97786595880538,
          -112.2737572,
          -111.9261226,
          -112.069784,
          -112.0436161,
          null,
          null,
          -111.9788783336768,
          -112.099763,
          null,
          -112.13459570362824,
          -112.117151,
          -112.28215,
          -112.045355,
          -111.93159153934097,
          -112.11996804761905,
          -112.021499,
          -112.078261,
          -112.113006,
          -112.112664,
          -112.02332813153286,
          -112.136811,
          -111.98472,
          -112.197211,
          -112.07340298657718,
          -112.220772,
          -112.105793,
          -112.117231,
          -112.07187257239625,
          -112.029226,
          -112.130112,
          -112.169254,
          -112.2179,
          -112.14550660869564,
          -112.115198,
          -112.134569,
          -112.08500473062854,
          -112.05843863636363,
          -111.99572,
          -112.068397,
          -112.09774094306228,
          -112.151941,
          -111.978447,
          -112.149559,
          -112.21606071717171,
          -112.147586,
          -112.098344,
          -112.056435,
          -112.012876,
          -112.0732977239317,
          -112.078628,
          -112.03080877386935,
          -112.147717,
          -112.11367,
          -112.14513,
          -112.00296,
          -112.13058163116442,
          -112.130501,
          -112.01334159230677,
          -112.047485,
          -112.08253977966102,
          -112.09268383869319,
          -112.0959,
          -112.134326,
          -112.21386831313131,
          -112.09774094306228,
          -112.099814,
          -112.171183,
          -112.000678,
          -112.151809,
          -112.14556849251726,
          -112.279977,
          -112.113485,
          -112.08110214329068,
          -111.98231778495514,
          -112.14406,
          -112.09983710163824,
          -112.012825643148,
          -112.24769981818181,
          -112.008359,
          -112.171183,
          -112.193478,
          -112.161735,
          -112.103625,
          -112.030009,
          -112.003975,
          -112.124261,
          null,
          -112.08469189302826,
          -112.07483441216216,
          -112.10381,
          -111.959701,
          -112.10216138369839,
          -112.113163,
          -112.098186,
          -111.992565
         ],
         "marker": {
          "size": 9
         },
         "mode": "markers",
         "name": "2015-11-01",
         "text": [
          "Address: 1300 E ALMERIA RD<br>Latitude: 33.466771, Longitude: -112.054083<br>Date: 2015-11-01<br>Crime Category: RAPE",
          "Address: 5100 N 15TH ST<br>Latitude: 33.512281, Longitude: -112.050423<br>Date: 2015-11-01<br>Crime Category: LARCENY-THEFT",
          "Address: 1400 E HIGHLAND AVE<br>Latitude: 33.505666, Longitude: -112.051749<br>Date: 2015-11-01<br>Crime Category: LARCENY-THEFT",
          "Address: 6900 W WOOD ST<br>Latitude: 33.410824, Longitude: -112.209052<br>Date: 2015-11-01<br>Crime Category: MOTOR VEHICLE THEFT",
          "Address: N 43RD AVE & W CACTUS RD<br>Latitude: nan, Longitude: nan<br>Date: 2015-11-01<br>Crime Category: MOTOR VEHICLE THEFT",
          "Address: 10200 W MEDLOCK AVE<br>Latitude: 33.51083, Longitude: -112.279628<br>Date: 2015-11-01<br>Crime Category: MOTOR VEHICLE THEFT",
          "Address: 3300 W CAMELBACK RD<br>Latitude: 33.509561, Longitude: -112.126082<br>Date: 2015-11-01<br>Crime Category: LARCENY-THEFT",
          "Address: 5400 W INDIAN SCHOOL RD<br>Latitude: 33.495116, Longitude: -112.175245<br>Date: 2015-11-01<br>Crime Category: DRUG OFFENSE",
          "Address: 27900 N 23RD LN<br>Latitude: 33.738218, Longitude: -112.109682<br>Date: 2015-11-01<br>Crime Category: LARCENY-THEFT",
          "Address: 3800 W CAMELBACK RD<br>Latitude: 33.509521, Longitude: -112.140849<br>Date: 2015-11-01<br>Crime Category: RAPE",
          "Address: 4600 W FREMONT RD<br>Latitude: 33.381281, Longitude: -112.157992<br>Date: 2015-11-01<br>Crime Category: LARCENY-THEFT",
          "Address: 1700 W DESERT COVE AVE<br>Latitude: 33.585802, Longitude: -112.095671<br>Date: 2015-11-01<br>Crime Category: MOTOR VEHICLE THEFT",
          "Address: 4300 E CORTEZ ST<br>Latitude: 33.592011, Longitude: -111.98807<br>Date: 2015-11-01<br>Crime Category: LARCENY-THEFT",
          "Address: 3500 E PINCHOT AVE<br>Latitude: 33.48239, Longitude: -112.006219<br>Date: 2015-11-01<br>Crime Category: LARCENY-THEFT",
          "Address: 11000 N 35TH AVE<br>Latitude: 33.585726, Longitude: -112.134178<br>Date: 2015-11-01<br>Crime Category: LARCENY-THEFT",
          "Address: 4000 E MCDOWELL RD<br>Latitude: 33.466097500000004, Longitude: -111.9948820439732<br>Date: 2015-11-01<br>Crime Category: BURGLARY",
          "Address: 4800 E DESERT COVE AVE<br>Latitude: 33.586374, Longitude: -111.977742<br>Date: 2015-11-01<br>Crime Category: MOTOR VEHICLE THEFT",
          "Address: 20200 N 6TH DR<br>Latitude: 33.670393, Longitude: -112.082301<br>Date: 2015-11-01<br>Crime Category: LARCENY-THEFT",
          "Address: 6500 N 17TH AVE<br>Latitude: 33.5650605, Longitude: -112.0946482<br>Date: 2015-11-01<br>Crime Category: LARCENY-THEFT",
          "Address: 8800 N BLACK CANYON FWY<br>Latitude: nan, Longitude: nan<br>Date: 2015-11-01<br>Crime Category: LARCENY-THEFT",
          "Address: 2500 W AUGUSTA AVE<br>Latitude: 33.551212, Longitude: -112.112897<br>Date: 2015-11-01<br>Crime Category: LARCENY-THEFT",
          "Address: 19600 N 6TH PL<br>Latitude: 33.664595, Longitude: -112.066351<br>Date: 2015-11-01<br>Crime Category: LARCENY-THEFT",
          "Address: 3800 W HOLLY ST<br>Latitude: 33.471022, Longitude: -112.141509<br>Date: 2015-11-01<br>Crime Category: BURGLARY",
          "Address: 600 W BEVERLY LN<br>Latitude: 33.63355614156423, Longitude: -112.08158906437909<br>Date: 2015-11-01<br>Crime Category: BURGLARY",
          "Address: 2800 W CAMELBACK RD<br>Latitude: 33.509534, Longitude: -112.119695<br>Date: 2015-11-01<br>Crime Category: MOTOR VEHICLE THEFT",
          "Address: 4200 E WESTERN STAR BLVD<br>Latitude: 33.35168250929977, Longitude: -111.99323762450298<br>Date: 2015-11-01<br>Crime Category: LARCENY-THEFT",
          "Address: 4600 W MCDOWELL RD<br>Latitude: 33.466038555486165, Longitude: -112.1580992954471<br>Date: 2015-11-01<br>Crime Category: LARCENY-THEFT",
          "Address: 2100 W DARREL RD<br>Latitude: 33.384189, Longitude: -112.105216<br>Date: 2015-11-01<br>Crime Category: LARCENY-THEFT",
          "Address: 7100 N 33RD AVE<br>Latitude: 33.540801, Longitude: -112.130481<br>Date: 2015-11-01<br>Crime Category: LARCENY-THEFT",
          "Address: 200 W FILLMORE ST<br>Latitude: 33.454812, Longitude: -112.076561<br>Date: 2015-11-01<br>Crime Category: MOTOR VEHICLE THEFT",
          "Address: 8500 W MIAMI ST<br>Latitude: 33.418994, Longitude: -112.244455<br>Date: 2015-11-01<br>Crime Category: MOTOR VEHICLE THEFT",
          "Address: 4100 N 51ST AVE<br>Latitude: 33.495102, Longitude: -112.168974<br>Date: 2015-11-01<br>Crime Category: AGGRAVATED ASSAULT",
          "Address: 3500 E AMBERWOOD DR<br>Latitude: 33.299533, Longitude: -112.005896<br>Date: 2015-11-01<br>Crime Category: MOTOR VEHICLE THEFT",
          "Address: 5000 E THOMAS RD<br>Latitude: 33.480156, Longitude: -111.97395<br>Date: 2015-11-01<br>Crime Category: AGGRAVATED ASSAULT",
          "Address: 900 E INDIAN SCHOOL RD<br>Latitude: 33.494819, Longitude: -112.062709<br>Date: 2015-11-01<br>Crime Category: BURGLARY",
          "Address: 1700 E MCLELLAN BLVD<br>Latitude: 33.532669459955066, Longitude: -112.0453190486569<br>Date: 2015-11-01<br>Crime Category: MOTOR VEHICLE THEFT",
          "Address: 17600 N 7TH ST<br>Latitude: 33.646595, Longitude: -112.065661<br>Date: 2015-11-01<br>Crime Category: LARCENY-THEFT",
          "Address: 7600 W WHITTON AVE<br>Latitude: 33.490751921072835, Longitude: -112.22243885258327<br>Date: 2015-11-01<br>Crime Category: RAPE",
          "Address: 00 N 67TH AVE<br>Latitude: 33.5026053, Longitude: -112.203214<br>Date: 2015-11-01<br>Crime Category: MURDER AND NON-NEGLIGENT MANSLAUGHTER",
          "Address: 13800 S 44TH ST<br>Latitude: 33.321618375, Longitude: -111.988956475<br>Date: 2015-11-01<br>Crime Category: ROBBERY",
          "Address: 2200 E BROADWAY RD<br>Latitude: 33.406958743243244, Longitude: -112.03347666216216<br>Date: 2015-11-01<br>Crime Category: BURGLARY",
          "Address: 1700 W DESERT COVE AVE<br>Latitude: 33.585802, Longitude: -112.095671<br>Date: 2015-11-01<br>Crime Category: BURGLARY",
          "Address: 8700 S 47TH LN<br>Latitude: 33.3750309, Longitude: -112.1614824<br>Date: 2015-11-01<br>Crime Category: MOTOR VEHICLE THEFT",
          "Address: 2700 W NORTHERN AVE<br>Latitude: 33.553177, Longitude: -112.117121<br>Date: 2015-11-01<br>Crime Category: BURGLARY",
          "Address: 2100 E VIRGINIA AVE<br>Latitude: 33.476728, Longitude: -112.036597<br>Date: 2015-11-01<br>Crime Category: LARCENY-THEFT",
          "Address: 4200 N 12TH ST<br>Latitude: 33.497371, Longitude: -112.056409<br>Date: 2015-11-01<br>Crime Category: AGGRAVATED ASSAULT",
          "Address: 3000 W PARKSIDE LN<br>Latitude: 33.694458, Longitude: -112.124782<br>Date: 2015-11-01<br>Crime Category: BURGLARY",
          "Address: 1800 W BELL RD<br>Latitude: 33.6402324277168, Longitude: -112.09774094306228<br>Date: 2015-11-01<br>Crime Category: LARCENY-THEFT",
          "Address: 3400 W DUNLAP AVE<br>Latitude: 33.567621, Longitude: -112.133308<br>Date: 2015-11-01<br>Crime Category: LARCENY-THEFT",
          "Address: 3400 N 23RD AVE<br>Latitude: 33.487892, Longitude: -112.108509<br>Date: 2015-11-01<br>Crime Category: LARCENY-THEFT",
          "Address: 4300 N 66TH DR<br>Latitude: 33.497635, Longitude: -112.201235<br>Date: 2015-11-01<br>Crime Category: BURGLARY",
          "Address: 1600 W MCDOWELL RD<br>Latitude: 33.465914, Longitude: -112.093939<br>Date: 2015-11-01<br>Crime Category: MOTOR VEHICLE THEFT",
          "Address: 3200 W LINCOLN ST<br>Latitude: 33.44235823232323, Longitude: -112.12815390909091<br>Date: 2015-11-01<br>Crime Category: LARCENY-THEFT",
          "Address: 500 N 40TH AVE<br>Latitude: 33.45353979185082, Longitude: -112.14539245085619<br>Date: 2015-11-01<br>Crime Category: LARCENY-THEFT",
          "Address: 2500 W AUGUSTA AVE<br>Latitude: 33.551212, Longitude: -112.112897<br>Date: 2015-11-01<br>Crime Category: MOTOR VEHICLE THEFT",
          "Address: 2700 E BRILL ST<br>Latitude: 33.464954, Longitude: -112.023604<br>Date: 2015-11-01<br>Crime Category: BURGLARY",
          "Address: 4200 W MULBERRY DR<br>Latitude: 33.48701378880589, Longitude: -112.14899310064341<br>Date: 2015-11-01<br>Crime Category: RAPE",
          "Address: 14800 S 25TH PL<br>Latitude: 33.31237971218165, Longitude: -112.02727497846989<br>Date: 2015-11-01<br>Crime Category: BURGLARY",
          "Address: 4700 W HARWELL RD<br>Latitude: 33.374347, Longitude: -112.161702<br>Date: 2015-11-01<br>Crime Category: BURGLARY",
          "Address: 900 S 17TH AVE<br>Latitude: 33.439352, Longitude: -112.095793<br>Date: 2015-11-01<br>Crime Category: DRUG OFFENSE",
          "Address: 4200 N 72ND LN<br>Latitude: 33.496482, Longitude: -112.215514<br>Date: 2015-11-01<br>Crime Category: DRUG OFFENSE",
          "Address: 2700 E BEARDSLEY RD<br>Latitude: 33.669689325581395, Longitude: -112.02410095348837<br>Date: 2015-11-01<br>Crime Category: LARCENY-THEFT",
          "Address: 6800 W INDIAN SCHOOL RD<br>Latitude: 33.4951347, Longitude: -112.2060645<br>Date: 2015-11-01<br>Crime Category: RAPE",
          "Address: 9400 N BLACK CANYON AC<br>Latitude: nan, Longitude: nan<br>Date: 2015-11-01<br>Crime Category: LARCENY-THEFT",
          "Address: 100 E ELWOOD ST<br>Latitude: 33.4140901244532, Longitude: -112.0720764120297<br>Date: 2015-11-01<br>Crime Category: LARCENY-THEFT",
          "Address: 16800 N TATUM BLVD<br>Latitude: 33.63866181758633, Longitude: -111.97786595880538<br>Date: 2015-11-01<br>Crime Category: LARCENY-THEFT",
          "Address: 5100 N 99TH AVE<br>Latitude: 33.5101893, Longitude: -112.2737572<br>Date: 2015-11-01<br>Crime Category: BURGLARY",
          "Address: 13600 N SCOTTSDALE RD<br>Latitude: 33.5982102, Longitude: -111.9261226<br>Date: 2015-11-01<br>Crime Category: LARCENY-THEFT",
          "Address: 300 E JEFFERSON ST<br>Latitude: 33.446459, Longitude: -112.069784<br>Date: 2015-11-01<br>Crime Category: LARCENY-THEFT",
          "Address: 1800 E EARLL DR<br>Latitude: 33.48409, Longitude: -112.0436161<br>Date: 2015-11-01<br>Crime Category: BURGLARY",
          "Address: 4700 N BLACK CANYON AC<br>Latitude: nan, Longitude: nan<br>Date: 2015-11-01<br>Crime Category: MOTOR VEHICLE THEFT",
          "Address: 2300 W GRAND AVE<br>Latitude: nan, Longitude: nan<br>Date: 2015-11-01<br>Crime Category: RAPE",
          "Address: 11600 N TATUM BLVD<br>Latitude: 33.592328958994685, Longitude: -111.9788783336768<br>Date: 2015-11-01<br>Crime Category: BURGLARY",
          "Address: 11200 N 19TH AVE<br>Latitude: 33.587648, Longitude: -112.099763<br>Date: 2015-11-01<br>Crime Category: BURGLARY",
          "Address: 5400 E DEER VALLEY DR<br>Latitude: nan, Longitude: nan<br>Date: 2015-11-01<br>Crime Category: LARCENY-THEFT",
          "Address: 3600 N 35TH AVE<br>Latitude: 33.74022252884905, Longitude: -112.13459570362824<br>Date: 2015-11-01<br>Crime Category: MOTOR VEHICLE THEFT",
          "Address: 3400 N 27TH AVE<br>Latitude: 33.487837, Longitude: -112.117151<br>Date: 2015-11-01<br>Crime Category: MOTOR VEHICLE THEFT",
          "Address: 3800 S 103RD LN<br>Latitude: 33.411908, Longitude: -112.28215<br>Date: 2015-11-01<br>Crime Category: LARCENY-THEFT",
          "Address: 1700 E MCDOWELL RD<br>Latitude: 33.465841, Longitude: -112.045355<br>Date: 2015-11-01<br>Crime Category: LARCENY-THEFT",
          "Address: 6900 E CHAUNCEY LN<br>Latitude: 33.651627, Longitude: -111.93159153934097<br>Date: 2015-11-01<br>Crime Category: AGGRAVATED ASSAULT",
          "Address: 2800 W MELVIN ST<br>Latitude: 33.452183285714284, Longitude: -112.11996804761905<br>Date: 2015-11-01<br>Crime Category: LARCENY-THEFT",
          "Address: 2800 E TRACY LN<br>Latitude: 33.629572, Longitude: -112.021499<br>Date: 2015-11-01<br>Crime Category: MOTOR VEHICLE THEFT",
          "Address: 300 W MARIPOSA ST<br>Latitude: 33.508484, Longitude: -112.078261<br>Date: 2015-11-01<br>Crime Category: LARCENY-THEFT",
          "Address: 2500 W NORTHERN AVE<br>Latitude: 33.553218, Longitude: -112.113006<br>Date: 2015-11-01<br>Crime Category: LARCENY-THEFT",
          "Address: 2500 W NOVAK WAY<br>Latitude: 33.389063, Longitude: -112.112664<br>Date: 2015-11-01<br>Crime Category: LARCENY-THEFT",
          "Address: 2700 E OLD TOWER RD<br>Latitude: 33.42487587028998, Longitude: -112.02332813153286<br>Date: 2015-11-01<br>Crime Category: MOTOR VEHICLE THEFT",
          "Address: 3600 W GARFIELD ST<br>Latitude: 33.457851, Longitude: -112.136811<br>Date: 2015-11-01<br>Crime Category: AGGRAVATED ASSAULT",
          "Address: 4500 E THOMAS RD<br>Latitude: 33.480296, Longitude: -111.98472<br>Date: 2015-11-01<br>Crime Category: LARCENY-THEFT",
          "Address: 6400 W MCDOWELL RD<br>Latitude: 33.465974, Longitude: -112.197211<br>Date: 2015-11-01<br>Crime Category: BURGLARY",
          "Address: 6000 S CENTRAL AVE<br>Latitude: 33.391596818791946, Longitude: -112.07340298657718<br>Date: 2015-11-01<br>Crime Category: ROBBERY",
          "Address: 2000 N 75TH AVE<br>Latitude: 33.469494, Longitude: -112.220772<br>Date: 2015-11-01<br>Crime Category: LARCENY-THEFT",
          "Address: 8900 N 22ND AVE<br>Latitude: 33.566094, Longitude: -112.105793<br>Date: 2015-11-01<br>Crime Category: LARCENY-THEFT",
          "Address: 1600 N 27TH AVE<br>Latitude: 33.466062, Longitude: -112.117231<br>Date: 2015-11-01<br>Crime Category: AGGRAVATED ASSAULT",
          "Address: 100 E OCOTILLO RD<br>Latitude: 33.534338399999996, Longitude: -112.07187257239625<br>Date: 2015-11-01<br>Crime Category: LARCENY-THEFT",
          "Address: 1000 N 24TH PL<br>Latitude: 33.459044, Longitude: -112.029226<br>Date: 2015-11-01<br>Crime Category: MOTOR VEHICLE THEFT",
          "Address: 3400 W BELL RD<br>Latitude: 33.639749, Longitude: -112.130112<br>Date: 2015-11-01<br>Crime Category: LARCENY-THEFT",
          "Address: 5100 W MCDOWELL RD<br>Latitude: 33.466055, Longitude: -112.169254<br>Date: 2015-11-01<br>Crime Category: LARCENY-THEFT",
          "Address: 2600 N 73RD GLN<br>Latitude: 33.477175, Longitude: -112.2179<br>Date: 2015-11-01<br>Crime Category: AGGRAVATED ASSAULT",
          "Address: 4000 W ENCANTO BLVD<br>Latitude: 33.473305521739135, Longitude: -112.14550660869564<br>Date: 2015-11-01<br>Crime Category: AGGRAVATED ASSAULT",
          "Address: 2600 W UNION HILLS DR<br>Latitude: 33.654774, Longitude: -112.115198<br>Date: 2015-11-01<br>Crime Category: LARCENY-THEFT",
          "Address: 18400 N 35TH AVE<br>Latitude: 33.652621, Longitude: -112.134569<br>Date: 2015-11-01<br>Crime Category: BURGLARY",
          "Address: 1000 W TONOPAH DR<br>Latitude: 33.67238480729145, Longitude: -112.08500473062854<br>Date: 2015-11-01<br>Crime Category: MOTOR VEHICLE THEFT",
          "Address: 1100 E DESERT DR<br>Latitude: 33.367737444444444, Longitude: -112.05843863636363<br>Date: 2015-11-01<br>Crime Category: LARCENY-THEFT",
          "Address: 4000 E CHANDLER BLVD<br>Latitude: 33.305291, Longitude: -111.99572<br>Date: 2015-11-01<br>Crime Category: LARCENY-THEFT",
          "Address: 4100 S 4TH ST<br>Latitude: 33.409374, Longitude: -112.068397<br>Date: 2015-11-01<br>Crime Category: MOTOR VEHICLE THEFT",
          "Address: 1800 W BELL RD<br>Latitude: 33.6402324277168, Longitude: -112.09774094306228<br>Date: 2015-11-01<br>Crime Category: LARCENY-THEFT",
          "Address: 4300 W BELL RD<br>Latitude: 33.639401, Longitude: -112.151941<br>Date: 2015-11-01<br>Crime Category: AGGRAVATED ASSAULT",
          "Address: 4200 S 48TH ST<br>Latitude: 33.387288, Longitude: -111.978447<br>Date: 2015-11-01<br>Crime Category: LARCENY-THEFT",
          "Address: 4200 W MCDOWELL RD<br>Latitude: 33.466037, Longitude: -112.149559<br>Date: 2015-11-01<br>Crime Category: LARCENY-THEFT",
          "Address: 7400 W VIRGINIA AVE<br>Latitude: 33.476693505050505, Longitude: -112.21606071717171<br>Date: 2015-11-01<br>Crime Category: LARCENY-THEFT",
          "Address: 4100 W ADAMS ST<br>Latitude: 33.449884, Longitude: -112.147586<br>Date: 2015-11-01<br>Crime Category: LARCENY-THEFT",
          "Address: 1800 W ADAMS ST<br>Latitude: 33.449302, Longitude: -112.098344<br>Date: 2015-11-01<br>Crime Category: DRUG OFFENSE",
          "Address: 3700 N 12TH ST<br>Latitude: 33.490418, Longitude: -112.056435<br>Date: 2015-11-01<br>Crime Category: MOTOR VEHICLE THEFT",
          "Address: 3200 E CAMELBACK RD<br>Latitude: 33.510049, Longitude: -112.012876<br>Date: 2015-11-01<br>Crime Category: LARCENY-THEFT",
          "Address: 9000 S CENTRAL AVE<br>Latitude: 33.363905628758324, Longitude: -112.0732977239317<br>Date: 2015-11-01<br>Crime Category: LARCENY-THEFT",
          "Address: 300 W BELL RD<br>Latitude: 33.640311, Longitude: -112.078628<br>Date: 2015-11-01<br>Crime Category: DRUG OFFENSE",
          "Address: 15400 N CAVE CREEK RD<br>Latitude: 33.626989175879395, Longitude: -112.03080877386935<br>Date: 2015-11-01<br>Crime Category: LARCENY-THEFT",
          "Address: 4100 W BLUEFIELD AVE<br>Latitude: 33.652501, Longitude: -112.147717<br>Date: 2015-11-01<br>Crime Category: LARCENY-THEFT",
          "Address: 2500 W GREENWAY RD<br>Latitude: 33.625375, Longitude: -112.11367<br>Date: 2015-11-01<br>Crime Category: LARCENY-THEFT",
          "Address: 4000 W SHANGRI LA RD<br>Latitude: 33.587125, Longitude: -112.14513<br>Date: 2015-11-01<br>Crime Category: BURGLARY",
          "Address: 4200 S 36TH PL<br>Latitude: 33.409093, Longitude: -112.00296<br>Date: 2015-11-01<br>Crime Category: LARCENY-THEFT",
          "Address: 35000 N NORTH VALLEY PKWY<br>Latitude: 33.80203253583419, Longitude: -112.13058163116442<br>Date: 2015-11-01<br>Crime Category: ROBBERY",
          "Address: 3300 W POLK ST<br>Latitude: 33.453298, Longitude: -112.130501<br>Date: 2015-11-01<br>Crime Category: AGGRAVATED ASSAULT",
          "Address: 3800 E SKY HARBOR BLVD<br>Latitude: 33.43640710624165, Longitude: -112.01334159230677<br>Date: 2015-11-01<br>Crime Category: LARCENY-THEFT",
          "Address: 1600 E ROOSEVELT ST<br>Latitude: 33.458802, Longitude: -112.047485<br>Date: 2015-11-01<br>Crime Category: LARCENY-THEFT",
          "Address: 7000 N 7TH AVE<br>Latitude: 33.5392593559322, Longitude: -112.08253977966102<br>Date: 2015-11-01<br>Crime Category: BURGLARY",
          "Address: 1600 W BURGESS LN<br>Latitude: 33.39016736981714, Longitude: -112.09268383869319<br>Date: 2015-11-01<br>Crime Category: LARCENY-THEFT",
          "Address: 1700 W BELL RD<br>Latitude: 33.640238, Longitude: -112.0959<br>Date: 2015-11-01<br>Crime Category: LARCENY-THEFT",
          "Address: 5500 N 35TH AVE<br>Latitude: 33.516853, Longitude: -112.134326<br>Date: 2015-11-01<br>Crime Category: LARCENY-THEFT",
          "Address: 7200 W DEVONSHIRE AVE<br>Latitude: 33.49645882828283, Longitude: -112.21386831313131<br>Date: 2015-11-01<br>Crime Category: LARCENY-THEFT",
          "Address: 1800 W BELL RD<br>Latitude: 33.6402324277168, Longitude: -112.09774094306228<br>Date: 2015-11-01<br>Crime Category: LARCENY-THEFT",
          "Address: 17400 N 19TH AVE<br>Latitude: 33.644184844827585, Longitude: -112.099814<br>Date: 2015-11-01<br>Crime Category: LARCENY-THEFT",
          "Address: 5200 W INDIAN SCHOOL RD<br>Latitude: 33.495071, Longitude: -112.171183<br>Date: 2015-11-01<br>Crime Category: LARCENY-THEFT",
          "Address: 3800 E BASELINE RD<br>Latitude: 33.378138, Longitude: -112.000678<br>Date: 2015-11-01<br>Crime Category: LARCENY-THEFT",
          "Address: 4300 W CLARENDON AVE<br>Latitude: 33.491409, Longitude: -112.151809<br>Date: 2015-11-01<br>Crime Category: AGGRAVATED ASSAULT",
          "Address: 4000 W WONDERVIEW RD<br>Latitude: 33.51133110692751, Longitude: -112.14556849251726<br>Date: 2015-11-01<br>Crime Category: LARCENY-THEFT",
          "Address: 10300 W ATLANTIS WAY<br>Latitude: 33.409754, Longitude: -112.279977<br>Date: 2015-11-01<br>Crime Category: LARCENY-THEFT",
          "Address: 2500 W BEAUTIFUL LN<br>Latitude: 33.376098, Longitude: -112.113485<br>Date: 2015-11-01<br>Crime Category: MOTOR VEHICLE THEFT",
          "Address: 500 W EL CAMINO DR<br>Latitude: 33.55718141745305, Longitude: -112.08110214329068<br>Date: 2015-11-01<br>Crime Category: LARCENY-THEFT",
          "Address: 4700 E RAY RD<br>Latitude: 33.31991431591687, Longitude: -111.98231778495514<br>Date: 2015-11-01<br>Crime Category: LARCENY-THEFT",
          "Address: 2100 N 39TH DR<br>Latitude: 33.471142, Longitude: -112.14406<br>Date: 2015-11-01<br>Crime Category: LARCENY-THEFT",
          "Address: 18400 N 19TH AVE<br>Latitude: 33.65277565991285, Longitude: -112.09983710163824<br>Date: 2015-11-01<br>Crime Category: LARCENY-THEFT",
          "Address: 5600 S 32ND ST<br>Latitude: 33.396297678420005, Longitude: -112.012825643148<br>Date: 2015-11-01<br>Crime Category: LARCENY-THEFT",
          "Address: 3100 S 87TH DR<br>Latitude: 33.41904336363637, Longitude: -112.24769981818181<br>Date: 2015-11-01<br>Crime Category: AGGRAVATED ASSAULT",
          "Address: 12200 S 35TH ST<br>Latitude: 33.334886, Longitude: -112.008359<br>Date: 2015-11-01<br>Crime Category: BURGLARY",
          "Address: 5200 W INDIAN SCHOOL RD<br>Latitude: 33.495071, Longitude: -112.171183<br>Date: 2015-11-01<br>Crime Category: LARCENY-THEFT",
          "Address: 6200 W THOMAS RD<br>Latitude: 33.480532, Longitude: -112.193478<br>Date: 2015-11-01<br>Crime Category: MOTOR VEHICLE THEFT",
          "Address: 4800 W VERDE LN<br>Latitude: 33.481095, Longitude: -112.161735<br>Date: 2015-11-01<br>Crime Category: AGGRAVATED ASSAULT",
          "Address: 2100 W FLOWER ST<br>Latitude: 33.485844, Longitude: -112.103625<br>Date: 2015-11-01<br>Crime Category: MOTOR VEHICLE THEFT",
          "Address: 2400 E VAN BUREN ST<br>Latitude: 33.451434, Longitude: -112.030009<br>Date: 2015-11-01<br>Crime Category: ROBBERY",
          "Address: 3600 E VAN BUREN ST<br>Latitude: 33.451367, Longitude: -112.003975<br>Date: 2015-11-01<br>Crime Category: AGGRAVATED ASSAULT",
          "Address: 10200 N METRO PKWY W<br>Latitude: 33.578982, Longitude: -112.124261<br>Date: 2015-11-01<br>Crime Category: DRUG OFFENSE",
          "Address: N 47TH AVE & W GLENROSA AVE<br>Latitude: nan, Longitude: nan<br>Date: 2015-11-01<br>Crime Category: ROBBERY",
          "Address: 900 W HIGHLAND AVE<br>Latitude: 33.50583946063219, Longitude: -112.08469189302826<br>Date: 2015-11-01<br>Crime Category: MOTOR VEHICLE THEFT",
          "Address: 100 W JONES AVE<br>Latitude: 33.410753324324325, Longitude: -112.07483441216216<br>Date: 2015-11-01<br>Crime Category: BURGLARY",
          "Address: 19200 N 20TH DR<br>Latitude: 33.65951, Longitude: -112.10381<br>Date: 2015-11-01<br>Crime Category: LARCENY-THEFT",
          "Address: 5600 E GELDING DR<br>Latitude: 33.617357, Longitude: -111.959701<br>Date: 2015-11-01<br>Crime Category: LARCENY-THEFT",
          "Address: 2000 W BETHANY HOME RD<br>Latitude: 33.5250664, Longitude: -112.10216138369839<br>Date: 2015-11-01<br>Crime Category: RAPE",
          "Address: 2500 W CACTUS RD<br>Latitude: 33.596505, Longitude: -112.113163<br>Date: 2015-11-01<br>Crime Category: MOTOR VEHICLE THEFT",
          "Address: 1800 W GRANT ST<br>Latitude: 33.441446, Longitude: -112.098186<br>Date: 2015-11-01<br>Crime Category: LARCENY-THEFT",
          "Address: 4200 E CEDARWOOD LN<br>Latitude: 33.292984, Longitude: -111.992565<br>Date: 2015-11-01<br>Crime Category: BURGLARY"
         ],
         "type": "scattermapbox",
         "visible": true
        }
       ],
       "layout": {
        "mapbox": {
         "style": "open-street-map",
         "zoom": 4
        },
        "sliders": [
         {
          "active": 0,
          "steps": [
           {
            "args": [
             {
              "visible": [
               true
              ]
             },
             {
              "title": "Date: 2015-11-01"
             }
            ],
            "method": "update"
           }
          ]
         }
        ],
        "template": {
         "data": {
          "bar": [
           {
            "error_x": {
             "color": "#2a3f5f"
            },
            "error_y": {
             "color": "#2a3f5f"
            },
            "marker": {
             "line": {
              "color": "#E5ECF6",
              "width": 0.5
             },
             "pattern": {
              "fillmode": "overlay",
              "size": 10,
              "solidity": 0.2
             }
            },
            "type": "bar"
           }
          ],
          "barpolar": [
           {
            "marker": {
             "line": {
              "color": "#E5ECF6",
              "width": 0.5
             },
             "pattern": {
              "fillmode": "overlay",
              "size": 10,
              "solidity": 0.2
             }
            },
            "type": "barpolar"
           }
          ],
          "carpet": [
           {
            "aaxis": {
             "endlinecolor": "#2a3f5f",
             "gridcolor": "white",
             "linecolor": "white",
             "minorgridcolor": "white",
             "startlinecolor": "#2a3f5f"
            },
            "baxis": {
             "endlinecolor": "#2a3f5f",
             "gridcolor": "white",
             "linecolor": "white",
             "minorgridcolor": "white",
             "startlinecolor": "#2a3f5f"
            },
            "type": "carpet"
           }
          ],
          "choropleth": [
           {
            "colorbar": {
             "outlinewidth": 0,
             "ticks": ""
            },
            "type": "choropleth"
           }
          ],
          "contour": [
           {
            "colorbar": {
             "outlinewidth": 0,
             "ticks": ""
            },
            "colorscale": [
             [
              0,
              "#0d0887"
             ],
             [
              0.1111111111111111,
              "#46039f"
             ],
             [
              0.2222222222222222,
              "#7201a8"
             ],
             [
              0.3333333333333333,
              "#9c179e"
             ],
             [
              0.4444444444444444,
              "#bd3786"
             ],
             [
              0.5555555555555556,
              "#d8576b"
             ],
             [
              0.6666666666666666,
              "#ed7953"
             ],
             [
              0.7777777777777778,
              "#fb9f3a"
             ],
             [
              0.8888888888888888,
              "#fdca26"
             ],
             [
              1,
              "#f0f921"
             ]
            ],
            "type": "contour"
           }
          ],
          "contourcarpet": [
           {
            "colorbar": {
             "outlinewidth": 0,
             "ticks": ""
            },
            "type": "contourcarpet"
           }
          ],
          "heatmap": [
           {
            "colorbar": {
             "outlinewidth": 0,
             "ticks": ""
            },
            "colorscale": [
             [
              0,
              "#0d0887"
             ],
             [
              0.1111111111111111,
              "#46039f"
             ],
             [
              0.2222222222222222,
              "#7201a8"
             ],
             [
              0.3333333333333333,
              "#9c179e"
             ],
             [
              0.4444444444444444,
              "#bd3786"
             ],
             [
              0.5555555555555556,
              "#d8576b"
             ],
             [
              0.6666666666666666,
              "#ed7953"
             ],
             [
              0.7777777777777778,
              "#fb9f3a"
             ],
             [
              0.8888888888888888,
              "#fdca26"
             ],
             [
              1,
              "#f0f921"
             ]
            ],
            "type": "heatmap"
           }
          ],
          "heatmapgl": [
           {
            "colorbar": {
             "outlinewidth": 0,
             "ticks": ""
            },
            "colorscale": [
             [
              0,
              "#0d0887"
             ],
             [
              0.1111111111111111,
              "#46039f"
             ],
             [
              0.2222222222222222,
              "#7201a8"
             ],
             [
              0.3333333333333333,
              "#9c179e"
             ],
             [
              0.4444444444444444,
              "#bd3786"
             ],
             [
              0.5555555555555556,
              "#d8576b"
             ],
             [
              0.6666666666666666,
              "#ed7953"
             ],
             [
              0.7777777777777778,
              "#fb9f3a"
             ],
             [
              0.8888888888888888,
              "#fdca26"
             ],
             [
              1,
              "#f0f921"
             ]
            ],
            "type": "heatmapgl"
           }
          ],
          "histogram": [
           {
            "marker": {
             "pattern": {
              "fillmode": "overlay",
              "size": 10,
              "solidity": 0.2
             }
            },
            "type": "histogram"
           }
          ],
          "histogram2d": [
           {
            "colorbar": {
             "outlinewidth": 0,
             "ticks": ""
            },
            "colorscale": [
             [
              0,
              "#0d0887"
             ],
             [
              0.1111111111111111,
              "#46039f"
             ],
             [
              0.2222222222222222,
              "#7201a8"
             ],
             [
              0.3333333333333333,
              "#9c179e"
             ],
             [
              0.4444444444444444,
              "#bd3786"
             ],
             [
              0.5555555555555556,
              "#d8576b"
             ],
             [
              0.6666666666666666,
              "#ed7953"
             ],
             [
              0.7777777777777778,
              "#fb9f3a"
             ],
             [
              0.8888888888888888,
              "#fdca26"
             ],
             [
              1,
              "#f0f921"
             ]
            ],
            "type": "histogram2d"
           }
          ],
          "histogram2dcontour": [
           {
            "colorbar": {
             "outlinewidth": 0,
             "ticks": ""
            },
            "colorscale": [
             [
              0,
              "#0d0887"
             ],
             [
              0.1111111111111111,
              "#46039f"
             ],
             [
              0.2222222222222222,
              "#7201a8"
             ],
             [
              0.3333333333333333,
              "#9c179e"
             ],
             [
              0.4444444444444444,
              "#bd3786"
             ],
             [
              0.5555555555555556,
              "#d8576b"
             ],
             [
              0.6666666666666666,
              "#ed7953"
             ],
             [
              0.7777777777777778,
              "#fb9f3a"
             ],
             [
              0.8888888888888888,
              "#fdca26"
             ],
             [
              1,
              "#f0f921"
             ]
            ],
            "type": "histogram2dcontour"
           }
          ],
          "mesh3d": [
           {
            "colorbar": {
             "outlinewidth": 0,
             "ticks": ""
            },
            "type": "mesh3d"
           }
          ],
          "parcoords": [
           {
            "line": {
             "colorbar": {
              "outlinewidth": 0,
              "ticks": ""
             }
            },
            "type": "parcoords"
           }
          ],
          "pie": [
           {
            "automargin": true,
            "type": "pie"
           }
          ],
          "scatter": [
           {
            "fillpattern": {
             "fillmode": "overlay",
             "size": 10,
             "solidity": 0.2
            },
            "type": "scatter"
           }
          ],
          "scatter3d": [
           {
            "line": {
             "colorbar": {
              "outlinewidth": 0,
              "ticks": ""
             }
            },
            "marker": {
             "colorbar": {
              "outlinewidth": 0,
              "ticks": ""
             }
            },
            "type": "scatter3d"
           }
          ],
          "scattercarpet": [
           {
            "marker": {
             "colorbar": {
              "outlinewidth": 0,
              "ticks": ""
             }
            },
            "type": "scattercarpet"
           }
          ],
          "scattergeo": [
           {
            "marker": {
             "colorbar": {
              "outlinewidth": 0,
              "ticks": ""
             }
            },
            "type": "scattergeo"
           }
          ],
          "scattergl": [
           {
            "marker": {
             "colorbar": {
              "outlinewidth": 0,
              "ticks": ""
             }
            },
            "type": "scattergl"
           }
          ],
          "scattermapbox": [
           {
            "marker": {
             "colorbar": {
              "outlinewidth": 0,
              "ticks": ""
             }
            },
            "type": "scattermapbox"
           }
          ],
          "scatterpolar": [
           {
            "marker": {
             "colorbar": {
              "outlinewidth": 0,
              "ticks": ""
             }
            },
            "type": "scatterpolar"
           }
          ],
          "scatterpolargl": [
           {
            "marker": {
             "colorbar": {
              "outlinewidth": 0,
              "ticks": ""
             }
            },
            "type": "scatterpolargl"
           }
          ],
          "scatterternary": [
           {
            "marker": {
             "colorbar": {
              "outlinewidth": 0,
              "ticks": ""
             }
            },
            "type": "scatterternary"
           }
          ],
          "surface": [
           {
            "colorbar": {
             "outlinewidth": 0,
             "ticks": ""
            },
            "colorscale": [
             [
              0,
              "#0d0887"
             ],
             [
              0.1111111111111111,
              "#46039f"
             ],
             [
              0.2222222222222222,
              "#7201a8"
             ],
             [
              0.3333333333333333,
              "#9c179e"
             ],
             [
              0.4444444444444444,
              "#bd3786"
             ],
             [
              0.5555555555555556,
              "#d8576b"
             ],
             [
              0.6666666666666666,
              "#ed7953"
             ],
             [
              0.7777777777777778,
              "#fb9f3a"
             ],
             [
              0.8888888888888888,
              "#fdca26"
             ],
             [
              1,
              "#f0f921"
             ]
            ],
            "type": "surface"
           }
          ],
          "table": [
           {
            "cells": {
             "fill": {
              "color": "#EBF0F8"
             },
             "line": {
              "color": "white"
             }
            },
            "header": {
             "fill": {
              "color": "#C8D4E3"
             },
             "line": {
              "color": "white"
             }
            },
            "type": "table"
           }
          ]
         },
         "layout": {
          "annotationdefaults": {
           "arrowcolor": "#2a3f5f",
           "arrowhead": 0,
           "arrowwidth": 1
          },
          "autotypenumbers": "strict",
          "coloraxis": {
           "colorbar": {
            "outlinewidth": 0,
            "ticks": ""
           }
          },
          "colorscale": {
           "diverging": [
            [
             0,
             "#8e0152"
            ],
            [
             0.1,
             "#c51b7d"
            ],
            [
             0.2,
             "#de77ae"
            ],
            [
             0.3,
             "#f1b6da"
            ],
            [
             0.4,
             "#fde0ef"
            ],
            [
             0.5,
             "#f7f7f7"
            ],
            [
             0.6,
             "#e6f5d0"
            ],
            [
             0.7,
             "#b8e186"
            ],
            [
             0.8,
             "#7fbc41"
            ],
            [
             0.9,
             "#4d9221"
            ],
            [
             1,
             "#276419"
            ]
           ],
           "sequential": [
            [
             0,
             "#0d0887"
            ],
            [
             0.1111111111111111,
             "#46039f"
            ],
            [
             0.2222222222222222,
             "#7201a8"
            ],
            [
             0.3333333333333333,
             "#9c179e"
            ],
            [
             0.4444444444444444,
             "#bd3786"
            ],
            [
             0.5555555555555556,
             "#d8576b"
            ],
            [
             0.6666666666666666,
             "#ed7953"
            ],
            [
             0.7777777777777778,
             "#fb9f3a"
            ],
            [
             0.8888888888888888,
             "#fdca26"
            ],
            [
             1,
             "#f0f921"
            ]
           ],
           "sequentialminus": [
            [
             0,
             "#0d0887"
            ],
            [
             0.1111111111111111,
             "#46039f"
            ],
            [
             0.2222222222222222,
             "#7201a8"
            ],
            [
             0.3333333333333333,
             "#9c179e"
            ],
            [
             0.4444444444444444,
             "#bd3786"
            ],
            [
             0.5555555555555556,
             "#d8576b"
            ],
            [
             0.6666666666666666,
             "#ed7953"
            ],
            [
             0.7777777777777778,
             "#fb9f3a"
            ],
            [
             0.8888888888888888,
             "#fdca26"
            ],
            [
             1,
             "#f0f921"
            ]
           ]
          },
          "colorway": [
           "#636efa",
           "#EF553B",
           "#00cc96",
           "#ab63fa",
           "#FFA15A",
           "#19d3f3",
           "#FF6692",
           "#B6E880",
           "#FF97FF",
           "#FECB52"
          ],
          "font": {
           "color": "#2a3f5f"
          },
          "geo": {
           "bgcolor": "white",
           "lakecolor": "white",
           "landcolor": "#E5ECF6",
           "showlakes": true,
           "showland": true,
           "subunitcolor": "white"
          },
          "hoverlabel": {
           "align": "left"
          },
          "hovermode": "closest",
          "mapbox": {
           "style": "light"
          },
          "paper_bgcolor": "white",
          "plot_bgcolor": "#E5ECF6",
          "polar": {
           "angularaxis": {
            "gridcolor": "white",
            "linecolor": "white",
            "ticks": ""
           },
           "bgcolor": "#E5ECF6",
           "radialaxis": {
            "gridcolor": "white",
            "linecolor": "white",
            "ticks": ""
           }
          },
          "scene": {
           "xaxis": {
            "backgroundcolor": "#E5ECF6",
            "gridcolor": "white",
            "gridwidth": 2,
            "linecolor": "white",
            "showbackground": true,
            "ticks": "",
            "zerolinecolor": "white"
           },
           "yaxis": {
            "backgroundcolor": "#E5ECF6",
            "gridcolor": "white",
            "gridwidth": 2,
            "linecolor": "white",
            "showbackground": true,
            "ticks": "",
            "zerolinecolor": "white"
           },
           "zaxis": {
            "backgroundcolor": "#E5ECF6",
            "gridcolor": "white",
            "gridwidth": 2,
            "linecolor": "white",
            "showbackground": true,
            "ticks": "",
            "zerolinecolor": "white"
           }
          },
          "shapedefaults": {
           "line": {
            "color": "#2a3f5f"
           }
          },
          "ternary": {
           "aaxis": {
            "gridcolor": "white",
            "linecolor": "white",
            "ticks": ""
           },
           "baxis": {
            "gridcolor": "white",
            "linecolor": "white",
            "ticks": ""
           },
           "bgcolor": "#E5ECF6",
           "caxis": {
            "gridcolor": "white",
            "linecolor": "white",
            "ticks": ""
           }
          },
          "title": {
           "x": 0.05
          },
          "xaxis": {
           "automargin": true,
           "gridcolor": "white",
           "linecolor": "white",
           "ticks": "",
           "title": {
            "standoff": 15
           },
           "zerolinecolor": "white",
           "zerolinewidth": 2
          },
          "yaxis": {
           "automargin": true,
           "gridcolor": "white",
           "linecolor": "white",
           "ticks": "",
           "title": {
            "standoff": 15
           },
           "zerolinecolor": "white",
           "zerolinewidth": 2
          }
         }
        }
       }
      },
      "text/html": [
       "<div>                            <div id=\"a7e11dba-1546-4930-8204-947d096dcbe3\" class=\"plotly-graph-div\" style=\"height:525px; width:100%;\"></div>            <script type=\"text/javascript\">                require([\"plotly\"], function(Plotly) {                    window.PLOTLYENV=window.PLOTLYENV || {};                                    if (document.getElementById(\"a7e11dba-1546-4930-8204-947d096dcbe3\")) {                    Plotly.newPlot(                        \"a7e11dba-1546-4930-8204-947d096dcbe3\",                        [{\"hoverinfo\":\"text\",\"lat\":[33.466771,33.512281,33.505666,33.410824,null,33.51083,33.509561,33.495116,33.738218,33.509521,33.381281,33.585802,33.592011,33.48239,33.585726,33.466097500000004,33.586374,33.670393,33.5650605,null,33.551212,33.664595,33.471022,33.63355614156423,33.509534,33.35168250929977,33.466038555486165,33.384189,33.540801,33.454812,33.418994,33.495102,33.299533,33.480156,33.494819,33.532669459955066,33.646595,33.490751921072835,33.5026053,33.321618375,33.406958743243244,33.585802,33.3750309,33.553177,33.476728,33.497371,33.694458,33.6402324277168,33.567621,33.487892,33.497635,33.465914,33.44235823232323,33.45353979185082,33.551212,33.464954,33.48701378880589,33.31237971218165,33.374347,33.439352,33.496482,33.669689325581395,33.4951347,null,33.4140901244532,33.63866181758633,33.5101893,33.5982102,33.446459,33.48409,null,null,33.592328958994685,33.587648,null,33.74022252884905,33.487837,33.411908,33.465841,33.651627,33.452183285714284,33.629572,33.508484,33.553218,33.389063,33.42487587028998,33.457851,33.480296,33.465974,33.391596818791946,33.469494,33.566094,33.466062,33.534338399999996,33.459044,33.639749,33.466055,33.477175,33.473305521739135,33.654774,33.652621,33.67238480729145,33.367737444444444,33.305291,33.409374,33.6402324277168,33.639401,33.387288,33.466037,33.476693505050505,33.449884,33.449302,33.490418,33.510049,33.363905628758324,33.640311,33.626989175879395,33.652501,33.625375,33.587125,33.409093,33.80203253583419,33.453298,33.43640710624165,33.458802,33.5392593559322,33.39016736981714,33.640238,33.516853,33.49645882828283,33.6402324277168,33.644184844827585,33.495071,33.378138,33.491409,33.51133110692751,33.409754,33.376098,33.55718141745305,33.31991431591687,33.471142,33.65277565991285,33.396297678420005,33.41904336363637,33.334886,33.495071,33.480532,33.481095,33.485844,33.451434,33.451367,33.578982,null,33.50583946063219,33.410753324324325,33.65951,33.617357,33.5250664,33.596505,33.441446,33.292984],\"lon\":[-112.054083,-112.050423,-112.051749,-112.209052,null,-112.279628,-112.126082,-112.175245,-112.109682,-112.140849,-112.157992,-112.095671,-111.98807,-112.006219,-112.134178,-111.9948820439732,-111.977742,-112.082301,-112.0946482,null,-112.112897,-112.066351,-112.141509,-112.08158906437909,-112.119695,-111.99323762450298,-112.1580992954471,-112.105216,-112.130481,-112.076561,-112.244455,-112.168974,-112.005896,-111.97395,-112.062709,-112.0453190486569,-112.065661,-112.22243885258327,-112.203214,-111.988956475,-112.03347666216216,-112.095671,-112.1614824,-112.117121,-112.036597,-112.056409,-112.124782,-112.09774094306228,-112.133308,-112.108509,-112.201235,-112.093939,-112.12815390909091,-112.14539245085619,-112.112897,-112.023604,-112.14899310064341,-112.02727497846989,-112.161702,-112.095793,-112.215514,-112.02410095348837,-112.2060645,null,-112.0720764120297,-111.97786595880538,-112.2737572,-111.9261226,-112.069784,-112.0436161,null,null,-111.9788783336768,-112.099763,null,-112.13459570362824,-112.117151,-112.28215,-112.045355,-111.93159153934097,-112.11996804761905,-112.021499,-112.078261,-112.113006,-112.112664,-112.02332813153286,-112.136811,-111.98472,-112.197211,-112.07340298657718,-112.220772,-112.105793,-112.117231,-112.07187257239625,-112.029226,-112.130112,-112.169254,-112.2179,-112.14550660869564,-112.115198,-112.134569,-112.08500473062854,-112.05843863636363,-111.99572,-112.068397,-112.09774094306228,-112.151941,-111.978447,-112.149559,-112.21606071717171,-112.147586,-112.098344,-112.056435,-112.012876,-112.0732977239317,-112.078628,-112.03080877386935,-112.147717,-112.11367,-112.14513,-112.00296,-112.13058163116442,-112.130501,-112.01334159230677,-112.047485,-112.08253977966102,-112.09268383869319,-112.0959,-112.134326,-112.21386831313131,-112.09774094306228,-112.099814,-112.171183,-112.000678,-112.151809,-112.14556849251726,-112.279977,-112.113485,-112.08110214329068,-111.98231778495514,-112.14406,-112.09983710163824,-112.012825643148,-112.24769981818181,-112.008359,-112.171183,-112.193478,-112.161735,-112.103625,-112.030009,-112.003975,-112.124261,null,-112.08469189302826,-112.07483441216216,-112.10381,-111.959701,-112.10216138369839,-112.113163,-112.098186,-111.992565],\"marker\":{\"size\":9},\"mode\":\"markers\",\"name\":\"2015-11-01\",\"text\":[\"Address: 1300 E ALMERIA RD\\u003cbr\\u003eLatitude: 33.466771, Longitude: -112.054083\\u003cbr\\u003eDate: 2015-11-01\\u003cbr\\u003eCrime Category: RAPE\",\"Address: 5100 N 15TH ST\\u003cbr\\u003eLatitude: 33.512281, Longitude: -112.050423\\u003cbr\\u003eDate: 2015-11-01\\u003cbr\\u003eCrime Category: LARCENY-THEFT\",\"Address: 1400 E HIGHLAND AVE\\u003cbr\\u003eLatitude: 33.505666, Longitude: -112.051749\\u003cbr\\u003eDate: 2015-11-01\\u003cbr\\u003eCrime Category: LARCENY-THEFT\",\"Address: 6900 W WOOD ST\\u003cbr\\u003eLatitude: 33.410824, Longitude: -112.209052\\u003cbr\\u003eDate: 2015-11-01\\u003cbr\\u003eCrime Category: MOTOR VEHICLE THEFT\",\"Address: N 43RD AVE & W CACTUS RD\\u003cbr\\u003eLatitude: nan, Longitude: nan\\u003cbr\\u003eDate: 2015-11-01\\u003cbr\\u003eCrime Category: MOTOR VEHICLE THEFT\",\"Address: 10200 W MEDLOCK AVE\\u003cbr\\u003eLatitude: 33.51083, Longitude: -112.279628\\u003cbr\\u003eDate: 2015-11-01\\u003cbr\\u003eCrime Category: MOTOR VEHICLE THEFT\",\"Address: 3300 W CAMELBACK RD\\u003cbr\\u003eLatitude: 33.509561, Longitude: -112.126082\\u003cbr\\u003eDate: 2015-11-01\\u003cbr\\u003eCrime Category: LARCENY-THEFT\",\"Address: 5400 W INDIAN SCHOOL RD\\u003cbr\\u003eLatitude: 33.495116, Longitude: -112.175245\\u003cbr\\u003eDate: 2015-11-01\\u003cbr\\u003eCrime Category: DRUG OFFENSE\",\"Address: 27900 N 23RD LN\\u003cbr\\u003eLatitude: 33.738218, Longitude: -112.109682\\u003cbr\\u003eDate: 2015-11-01\\u003cbr\\u003eCrime Category: LARCENY-THEFT\",\"Address: 3800 W CAMELBACK RD\\u003cbr\\u003eLatitude: 33.509521, Longitude: -112.140849\\u003cbr\\u003eDate: 2015-11-01\\u003cbr\\u003eCrime Category: RAPE\",\"Address: 4600 W FREMONT RD\\u003cbr\\u003eLatitude: 33.381281, Longitude: -112.157992\\u003cbr\\u003eDate: 2015-11-01\\u003cbr\\u003eCrime Category: LARCENY-THEFT\",\"Address: 1700 W DESERT COVE AVE\\u003cbr\\u003eLatitude: 33.585802, Longitude: -112.095671\\u003cbr\\u003eDate: 2015-11-01\\u003cbr\\u003eCrime Category: MOTOR VEHICLE THEFT\",\"Address: 4300 E CORTEZ ST\\u003cbr\\u003eLatitude: 33.592011, Longitude: -111.98807\\u003cbr\\u003eDate: 2015-11-01\\u003cbr\\u003eCrime Category: LARCENY-THEFT\",\"Address: 3500 E PINCHOT AVE\\u003cbr\\u003eLatitude: 33.48239, Longitude: -112.006219\\u003cbr\\u003eDate: 2015-11-01\\u003cbr\\u003eCrime Category: LARCENY-THEFT\",\"Address: 11000 N 35TH AVE\\u003cbr\\u003eLatitude: 33.585726, Longitude: -112.134178\\u003cbr\\u003eDate: 2015-11-01\\u003cbr\\u003eCrime Category: LARCENY-THEFT\",\"Address: 4000 E MCDOWELL RD\\u003cbr\\u003eLatitude: 33.466097500000004, Longitude: -111.9948820439732\\u003cbr\\u003eDate: 2015-11-01\\u003cbr\\u003eCrime Category: BURGLARY\",\"Address: 4800 E DESERT COVE AVE\\u003cbr\\u003eLatitude: 33.586374, Longitude: -111.977742\\u003cbr\\u003eDate: 2015-11-01\\u003cbr\\u003eCrime Category: MOTOR VEHICLE THEFT\",\"Address: 20200 N 6TH DR\\u003cbr\\u003eLatitude: 33.670393, Longitude: -112.082301\\u003cbr\\u003eDate: 2015-11-01\\u003cbr\\u003eCrime Category: LARCENY-THEFT\",\"Address: 6500 N 17TH AVE\\u003cbr\\u003eLatitude: 33.5650605, Longitude: -112.0946482\\u003cbr\\u003eDate: 2015-11-01\\u003cbr\\u003eCrime Category: LARCENY-THEFT\",\"Address: 8800 N BLACK CANYON FWY\\u003cbr\\u003eLatitude: nan, Longitude: nan\\u003cbr\\u003eDate: 2015-11-01\\u003cbr\\u003eCrime Category: LARCENY-THEFT\",\"Address: 2500 W AUGUSTA AVE\\u003cbr\\u003eLatitude: 33.551212, Longitude: -112.112897\\u003cbr\\u003eDate: 2015-11-01\\u003cbr\\u003eCrime Category: LARCENY-THEFT\",\"Address: 19600 N 6TH PL\\u003cbr\\u003eLatitude: 33.664595, Longitude: -112.066351\\u003cbr\\u003eDate: 2015-11-01\\u003cbr\\u003eCrime Category: LARCENY-THEFT\",\"Address: 3800 W HOLLY ST\\u003cbr\\u003eLatitude: 33.471022, Longitude: -112.141509\\u003cbr\\u003eDate: 2015-11-01\\u003cbr\\u003eCrime Category: BURGLARY\",\"Address: 600 W BEVERLY LN\\u003cbr\\u003eLatitude: 33.63355614156423, Longitude: -112.08158906437909\\u003cbr\\u003eDate: 2015-11-01\\u003cbr\\u003eCrime Category: BURGLARY\",\"Address: 2800 W CAMELBACK RD\\u003cbr\\u003eLatitude: 33.509534, Longitude: -112.119695\\u003cbr\\u003eDate: 2015-11-01\\u003cbr\\u003eCrime Category: MOTOR VEHICLE THEFT\",\"Address: 4200 E WESTERN STAR BLVD\\u003cbr\\u003eLatitude: 33.35168250929977, Longitude: -111.99323762450298\\u003cbr\\u003eDate: 2015-11-01\\u003cbr\\u003eCrime Category: LARCENY-THEFT\",\"Address: 4600 W MCDOWELL RD\\u003cbr\\u003eLatitude: 33.466038555486165, Longitude: -112.1580992954471\\u003cbr\\u003eDate: 2015-11-01\\u003cbr\\u003eCrime Category: LARCENY-THEFT\",\"Address: 2100 W DARREL RD\\u003cbr\\u003eLatitude: 33.384189, Longitude: -112.105216\\u003cbr\\u003eDate: 2015-11-01\\u003cbr\\u003eCrime Category: LARCENY-THEFT\",\"Address: 7100 N 33RD AVE\\u003cbr\\u003eLatitude: 33.540801, Longitude: -112.130481\\u003cbr\\u003eDate: 2015-11-01\\u003cbr\\u003eCrime Category: LARCENY-THEFT\",\"Address: 200 W FILLMORE ST\\u003cbr\\u003eLatitude: 33.454812, Longitude: -112.076561\\u003cbr\\u003eDate: 2015-11-01\\u003cbr\\u003eCrime Category: MOTOR VEHICLE THEFT\",\"Address: 8500 W MIAMI ST\\u003cbr\\u003eLatitude: 33.418994, Longitude: -112.244455\\u003cbr\\u003eDate: 2015-11-01\\u003cbr\\u003eCrime Category: MOTOR VEHICLE THEFT\",\"Address: 4100 N 51ST AVE\\u003cbr\\u003eLatitude: 33.495102, Longitude: -112.168974\\u003cbr\\u003eDate: 2015-11-01\\u003cbr\\u003eCrime Category: AGGRAVATED ASSAULT\",\"Address: 3500 E AMBERWOOD DR\\u003cbr\\u003eLatitude: 33.299533, Longitude: -112.005896\\u003cbr\\u003eDate: 2015-11-01\\u003cbr\\u003eCrime Category: MOTOR VEHICLE THEFT\",\"Address: 5000 E THOMAS RD\\u003cbr\\u003eLatitude: 33.480156, Longitude: -111.97395\\u003cbr\\u003eDate: 2015-11-01\\u003cbr\\u003eCrime Category: AGGRAVATED ASSAULT\",\"Address: 900 E INDIAN SCHOOL RD\\u003cbr\\u003eLatitude: 33.494819, Longitude: -112.062709\\u003cbr\\u003eDate: 2015-11-01\\u003cbr\\u003eCrime Category: BURGLARY\",\"Address: 1700 E MCLELLAN BLVD\\u003cbr\\u003eLatitude: 33.532669459955066, Longitude: -112.0453190486569\\u003cbr\\u003eDate: 2015-11-01\\u003cbr\\u003eCrime Category: MOTOR VEHICLE THEFT\",\"Address: 17600 N 7TH ST\\u003cbr\\u003eLatitude: 33.646595, Longitude: -112.065661\\u003cbr\\u003eDate: 2015-11-01\\u003cbr\\u003eCrime Category: LARCENY-THEFT\",\"Address: 7600 W WHITTON AVE\\u003cbr\\u003eLatitude: 33.490751921072835, Longitude: -112.22243885258327\\u003cbr\\u003eDate: 2015-11-01\\u003cbr\\u003eCrime Category: RAPE\",\"Address: 00 N 67TH AVE\\u003cbr\\u003eLatitude: 33.5026053, Longitude: -112.203214\\u003cbr\\u003eDate: 2015-11-01\\u003cbr\\u003eCrime Category: MURDER AND NON-NEGLIGENT MANSLAUGHTER\",\"Address: 13800 S 44TH ST\\u003cbr\\u003eLatitude: 33.321618375, Longitude: -111.988956475\\u003cbr\\u003eDate: 2015-11-01\\u003cbr\\u003eCrime Category: ROBBERY\",\"Address: 2200 E BROADWAY RD\\u003cbr\\u003eLatitude: 33.406958743243244, Longitude: -112.03347666216216\\u003cbr\\u003eDate: 2015-11-01\\u003cbr\\u003eCrime Category: BURGLARY\",\"Address: 1700 W DESERT COVE AVE\\u003cbr\\u003eLatitude: 33.585802, Longitude: -112.095671\\u003cbr\\u003eDate: 2015-11-01\\u003cbr\\u003eCrime Category: BURGLARY\",\"Address: 8700 S 47TH LN\\u003cbr\\u003eLatitude: 33.3750309, Longitude: -112.1614824\\u003cbr\\u003eDate: 2015-11-01\\u003cbr\\u003eCrime Category: MOTOR VEHICLE THEFT\",\"Address: 2700 W NORTHERN AVE\\u003cbr\\u003eLatitude: 33.553177, Longitude: -112.117121\\u003cbr\\u003eDate: 2015-11-01\\u003cbr\\u003eCrime Category: BURGLARY\",\"Address: 2100 E VIRGINIA AVE\\u003cbr\\u003eLatitude: 33.476728, Longitude: -112.036597\\u003cbr\\u003eDate: 2015-11-01\\u003cbr\\u003eCrime Category: LARCENY-THEFT\",\"Address: 4200 N 12TH ST\\u003cbr\\u003eLatitude: 33.497371, Longitude: -112.056409\\u003cbr\\u003eDate: 2015-11-01\\u003cbr\\u003eCrime Category: AGGRAVATED ASSAULT\",\"Address: 3000 W PARKSIDE LN\\u003cbr\\u003eLatitude: 33.694458, Longitude: -112.124782\\u003cbr\\u003eDate: 2015-11-01\\u003cbr\\u003eCrime Category: BURGLARY\",\"Address: 1800 W BELL RD\\u003cbr\\u003eLatitude: 33.6402324277168, Longitude: -112.09774094306228\\u003cbr\\u003eDate: 2015-11-01\\u003cbr\\u003eCrime Category: LARCENY-THEFT\",\"Address: 3400 W DUNLAP AVE\\u003cbr\\u003eLatitude: 33.567621, Longitude: -112.133308\\u003cbr\\u003eDate: 2015-11-01\\u003cbr\\u003eCrime Category: LARCENY-THEFT\",\"Address: 3400 N 23RD AVE\\u003cbr\\u003eLatitude: 33.487892, Longitude: -112.108509\\u003cbr\\u003eDate: 2015-11-01\\u003cbr\\u003eCrime Category: LARCENY-THEFT\",\"Address: 4300 N 66TH DR\\u003cbr\\u003eLatitude: 33.497635, Longitude: -112.201235\\u003cbr\\u003eDate: 2015-11-01\\u003cbr\\u003eCrime Category: BURGLARY\",\"Address: 1600 W MCDOWELL RD\\u003cbr\\u003eLatitude: 33.465914, Longitude: -112.093939\\u003cbr\\u003eDate: 2015-11-01\\u003cbr\\u003eCrime Category: MOTOR VEHICLE THEFT\",\"Address: 3200 W LINCOLN ST\\u003cbr\\u003eLatitude: 33.44235823232323, Longitude: -112.12815390909091\\u003cbr\\u003eDate: 2015-11-01\\u003cbr\\u003eCrime Category: LARCENY-THEFT\",\"Address: 500 N 40TH AVE\\u003cbr\\u003eLatitude: 33.45353979185082, Longitude: -112.14539245085619\\u003cbr\\u003eDate: 2015-11-01\\u003cbr\\u003eCrime Category: LARCENY-THEFT\",\"Address: 2500 W AUGUSTA AVE\\u003cbr\\u003eLatitude: 33.551212, Longitude: -112.112897\\u003cbr\\u003eDate: 2015-11-01\\u003cbr\\u003eCrime Category: MOTOR VEHICLE THEFT\",\"Address: 2700 E BRILL ST\\u003cbr\\u003eLatitude: 33.464954, Longitude: -112.023604\\u003cbr\\u003eDate: 2015-11-01\\u003cbr\\u003eCrime Category: BURGLARY\",\"Address: 4200 W MULBERRY DR\\u003cbr\\u003eLatitude: 33.48701378880589, Longitude: -112.14899310064341\\u003cbr\\u003eDate: 2015-11-01\\u003cbr\\u003eCrime Category: RAPE\",\"Address: 14800 S 25TH PL\\u003cbr\\u003eLatitude: 33.31237971218165, Longitude: -112.02727497846989\\u003cbr\\u003eDate: 2015-11-01\\u003cbr\\u003eCrime Category: BURGLARY\",\"Address: 4700 W HARWELL RD\\u003cbr\\u003eLatitude: 33.374347, Longitude: -112.161702\\u003cbr\\u003eDate: 2015-11-01\\u003cbr\\u003eCrime Category: BURGLARY\",\"Address: 900 S 17TH AVE\\u003cbr\\u003eLatitude: 33.439352, Longitude: -112.095793\\u003cbr\\u003eDate: 2015-11-01\\u003cbr\\u003eCrime Category: DRUG OFFENSE\",\"Address: 4200 N 72ND LN\\u003cbr\\u003eLatitude: 33.496482, Longitude: -112.215514\\u003cbr\\u003eDate: 2015-11-01\\u003cbr\\u003eCrime Category: DRUG OFFENSE\",\"Address: 2700 E BEARDSLEY RD\\u003cbr\\u003eLatitude: 33.669689325581395, Longitude: -112.02410095348837\\u003cbr\\u003eDate: 2015-11-01\\u003cbr\\u003eCrime Category: LARCENY-THEFT\",\"Address: 6800 W INDIAN SCHOOL RD\\u003cbr\\u003eLatitude: 33.4951347, Longitude: -112.2060645\\u003cbr\\u003eDate: 2015-11-01\\u003cbr\\u003eCrime Category: RAPE\",\"Address: 9400 N BLACK CANYON AC\\u003cbr\\u003eLatitude: nan, Longitude: nan\\u003cbr\\u003eDate: 2015-11-01\\u003cbr\\u003eCrime Category: LARCENY-THEFT\",\"Address: 100 E ELWOOD ST\\u003cbr\\u003eLatitude: 33.4140901244532, Longitude: -112.0720764120297\\u003cbr\\u003eDate: 2015-11-01\\u003cbr\\u003eCrime Category: LARCENY-THEFT\",\"Address: 16800 N TATUM BLVD\\u003cbr\\u003eLatitude: 33.63866181758633, Longitude: -111.97786595880538\\u003cbr\\u003eDate: 2015-11-01\\u003cbr\\u003eCrime Category: LARCENY-THEFT\",\"Address: 5100 N 99TH AVE\\u003cbr\\u003eLatitude: 33.5101893, Longitude: -112.2737572\\u003cbr\\u003eDate: 2015-11-01\\u003cbr\\u003eCrime Category: BURGLARY\",\"Address: 13600 N SCOTTSDALE RD\\u003cbr\\u003eLatitude: 33.5982102, Longitude: -111.9261226\\u003cbr\\u003eDate: 2015-11-01\\u003cbr\\u003eCrime Category: LARCENY-THEFT\",\"Address: 300 E JEFFERSON ST\\u003cbr\\u003eLatitude: 33.446459, Longitude: -112.069784\\u003cbr\\u003eDate: 2015-11-01\\u003cbr\\u003eCrime Category: LARCENY-THEFT\",\"Address: 1800 E EARLL DR\\u003cbr\\u003eLatitude: 33.48409, Longitude: -112.0436161\\u003cbr\\u003eDate: 2015-11-01\\u003cbr\\u003eCrime Category: BURGLARY\",\"Address: 4700 N BLACK CANYON AC\\u003cbr\\u003eLatitude: nan, Longitude: nan\\u003cbr\\u003eDate: 2015-11-01\\u003cbr\\u003eCrime Category: MOTOR VEHICLE THEFT\",\"Address: 2300 W GRAND AVE\\u003cbr\\u003eLatitude: nan, Longitude: nan\\u003cbr\\u003eDate: 2015-11-01\\u003cbr\\u003eCrime Category: RAPE\",\"Address: 11600 N TATUM BLVD\\u003cbr\\u003eLatitude: 33.592328958994685, Longitude: -111.9788783336768\\u003cbr\\u003eDate: 2015-11-01\\u003cbr\\u003eCrime Category: BURGLARY\",\"Address: 11200 N 19TH AVE\\u003cbr\\u003eLatitude: 33.587648, Longitude: -112.099763\\u003cbr\\u003eDate: 2015-11-01\\u003cbr\\u003eCrime Category: BURGLARY\",\"Address: 5400 E DEER VALLEY DR\\u003cbr\\u003eLatitude: nan, Longitude: nan\\u003cbr\\u003eDate: 2015-11-01\\u003cbr\\u003eCrime Category: LARCENY-THEFT\",\"Address: 3600 N 35TH AVE\\u003cbr\\u003eLatitude: 33.74022252884905, Longitude: -112.13459570362824\\u003cbr\\u003eDate: 2015-11-01\\u003cbr\\u003eCrime Category: MOTOR VEHICLE THEFT\",\"Address: 3400 N 27TH AVE\\u003cbr\\u003eLatitude: 33.487837, Longitude: -112.117151\\u003cbr\\u003eDate: 2015-11-01\\u003cbr\\u003eCrime Category: MOTOR VEHICLE THEFT\",\"Address: 3800 S 103RD LN\\u003cbr\\u003eLatitude: 33.411908, Longitude: -112.28215\\u003cbr\\u003eDate: 2015-11-01\\u003cbr\\u003eCrime Category: LARCENY-THEFT\",\"Address: 1700 E MCDOWELL RD\\u003cbr\\u003eLatitude: 33.465841, Longitude: -112.045355\\u003cbr\\u003eDate: 2015-11-01\\u003cbr\\u003eCrime Category: LARCENY-THEFT\",\"Address: 6900 E CHAUNCEY LN\\u003cbr\\u003eLatitude: 33.651627, Longitude: -111.93159153934097\\u003cbr\\u003eDate: 2015-11-01\\u003cbr\\u003eCrime Category: AGGRAVATED ASSAULT\",\"Address: 2800 W MELVIN ST\\u003cbr\\u003eLatitude: 33.452183285714284, Longitude: -112.11996804761905\\u003cbr\\u003eDate: 2015-11-01\\u003cbr\\u003eCrime Category: LARCENY-THEFT\",\"Address: 2800 E TRACY LN\\u003cbr\\u003eLatitude: 33.629572, Longitude: -112.021499\\u003cbr\\u003eDate: 2015-11-01\\u003cbr\\u003eCrime Category: MOTOR VEHICLE THEFT\",\"Address: 300 W MARIPOSA ST\\u003cbr\\u003eLatitude: 33.508484, Longitude: -112.078261\\u003cbr\\u003eDate: 2015-11-01\\u003cbr\\u003eCrime Category: LARCENY-THEFT\",\"Address: 2500 W NORTHERN AVE\\u003cbr\\u003eLatitude: 33.553218, Longitude: -112.113006\\u003cbr\\u003eDate: 2015-11-01\\u003cbr\\u003eCrime Category: LARCENY-THEFT\",\"Address: 2500 W NOVAK WAY\\u003cbr\\u003eLatitude: 33.389063, Longitude: -112.112664\\u003cbr\\u003eDate: 2015-11-01\\u003cbr\\u003eCrime Category: LARCENY-THEFT\",\"Address: 2700 E OLD TOWER RD\\u003cbr\\u003eLatitude: 33.42487587028998, Longitude: -112.02332813153286\\u003cbr\\u003eDate: 2015-11-01\\u003cbr\\u003eCrime Category: MOTOR VEHICLE THEFT\",\"Address: 3600 W GARFIELD ST\\u003cbr\\u003eLatitude: 33.457851, Longitude: -112.136811\\u003cbr\\u003eDate: 2015-11-01\\u003cbr\\u003eCrime Category: AGGRAVATED ASSAULT\",\"Address: 4500 E THOMAS RD\\u003cbr\\u003eLatitude: 33.480296, Longitude: -111.98472\\u003cbr\\u003eDate: 2015-11-01\\u003cbr\\u003eCrime Category: LARCENY-THEFT\",\"Address: 6400 W MCDOWELL RD\\u003cbr\\u003eLatitude: 33.465974, Longitude: -112.197211\\u003cbr\\u003eDate: 2015-11-01\\u003cbr\\u003eCrime Category: BURGLARY\",\"Address: 6000 S CENTRAL AVE\\u003cbr\\u003eLatitude: 33.391596818791946, Longitude: -112.07340298657718\\u003cbr\\u003eDate: 2015-11-01\\u003cbr\\u003eCrime Category: ROBBERY\",\"Address: 2000 N 75TH AVE\\u003cbr\\u003eLatitude: 33.469494, Longitude: -112.220772\\u003cbr\\u003eDate: 2015-11-01\\u003cbr\\u003eCrime Category: LARCENY-THEFT\",\"Address: 8900 N 22ND AVE\\u003cbr\\u003eLatitude: 33.566094, Longitude: -112.105793\\u003cbr\\u003eDate: 2015-11-01\\u003cbr\\u003eCrime Category: LARCENY-THEFT\",\"Address: 1600 N 27TH AVE\\u003cbr\\u003eLatitude: 33.466062, Longitude: -112.117231\\u003cbr\\u003eDate: 2015-11-01\\u003cbr\\u003eCrime Category: AGGRAVATED ASSAULT\",\"Address: 100 E OCOTILLO RD\\u003cbr\\u003eLatitude: 33.534338399999996, Longitude: -112.07187257239625\\u003cbr\\u003eDate: 2015-11-01\\u003cbr\\u003eCrime Category: LARCENY-THEFT\",\"Address: 1000 N 24TH PL\\u003cbr\\u003eLatitude: 33.459044, Longitude: -112.029226\\u003cbr\\u003eDate: 2015-11-01\\u003cbr\\u003eCrime Category: MOTOR VEHICLE THEFT\",\"Address: 3400 W BELL RD\\u003cbr\\u003eLatitude: 33.639749, Longitude: -112.130112\\u003cbr\\u003eDate: 2015-11-01\\u003cbr\\u003eCrime Category: LARCENY-THEFT\",\"Address: 5100 W MCDOWELL RD\\u003cbr\\u003eLatitude: 33.466055, Longitude: -112.169254\\u003cbr\\u003eDate: 2015-11-01\\u003cbr\\u003eCrime Category: LARCENY-THEFT\",\"Address: 2600 N 73RD GLN\\u003cbr\\u003eLatitude: 33.477175, Longitude: -112.2179\\u003cbr\\u003eDate: 2015-11-01\\u003cbr\\u003eCrime Category: AGGRAVATED ASSAULT\",\"Address: 4000 W ENCANTO BLVD\\u003cbr\\u003eLatitude: 33.473305521739135, Longitude: -112.14550660869564\\u003cbr\\u003eDate: 2015-11-01\\u003cbr\\u003eCrime Category: AGGRAVATED ASSAULT\",\"Address: 2600 W UNION HILLS DR\\u003cbr\\u003eLatitude: 33.654774, Longitude: -112.115198\\u003cbr\\u003eDate: 2015-11-01\\u003cbr\\u003eCrime Category: LARCENY-THEFT\",\"Address: 18400 N 35TH AVE\\u003cbr\\u003eLatitude: 33.652621, Longitude: -112.134569\\u003cbr\\u003eDate: 2015-11-01\\u003cbr\\u003eCrime Category: BURGLARY\",\"Address: 1000 W TONOPAH DR\\u003cbr\\u003eLatitude: 33.67238480729145, Longitude: -112.08500473062854\\u003cbr\\u003eDate: 2015-11-01\\u003cbr\\u003eCrime Category: MOTOR VEHICLE THEFT\",\"Address: 1100 E DESERT DR\\u003cbr\\u003eLatitude: 33.367737444444444, Longitude: -112.05843863636363\\u003cbr\\u003eDate: 2015-11-01\\u003cbr\\u003eCrime Category: LARCENY-THEFT\",\"Address: 4000 E CHANDLER BLVD\\u003cbr\\u003eLatitude: 33.305291, Longitude: -111.99572\\u003cbr\\u003eDate: 2015-11-01\\u003cbr\\u003eCrime Category: LARCENY-THEFT\",\"Address: 4100 S 4TH ST\\u003cbr\\u003eLatitude: 33.409374, Longitude: -112.068397\\u003cbr\\u003eDate: 2015-11-01\\u003cbr\\u003eCrime Category: MOTOR VEHICLE THEFT\",\"Address: 1800 W BELL RD\\u003cbr\\u003eLatitude: 33.6402324277168, Longitude: -112.09774094306228\\u003cbr\\u003eDate: 2015-11-01\\u003cbr\\u003eCrime Category: LARCENY-THEFT\",\"Address: 4300 W BELL RD\\u003cbr\\u003eLatitude: 33.639401, Longitude: -112.151941\\u003cbr\\u003eDate: 2015-11-01\\u003cbr\\u003eCrime Category: AGGRAVATED ASSAULT\",\"Address: 4200 S 48TH ST\\u003cbr\\u003eLatitude: 33.387288, Longitude: -111.978447\\u003cbr\\u003eDate: 2015-11-01\\u003cbr\\u003eCrime Category: LARCENY-THEFT\",\"Address: 4200 W MCDOWELL RD\\u003cbr\\u003eLatitude: 33.466037, Longitude: -112.149559\\u003cbr\\u003eDate: 2015-11-01\\u003cbr\\u003eCrime Category: LARCENY-THEFT\",\"Address: 7400 W VIRGINIA AVE\\u003cbr\\u003eLatitude: 33.476693505050505, Longitude: -112.21606071717171\\u003cbr\\u003eDate: 2015-11-01\\u003cbr\\u003eCrime Category: LARCENY-THEFT\",\"Address: 4100 W ADAMS ST\\u003cbr\\u003eLatitude: 33.449884, Longitude: -112.147586\\u003cbr\\u003eDate: 2015-11-01\\u003cbr\\u003eCrime Category: LARCENY-THEFT\",\"Address: 1800 W ADAMS ST\\u003cbr\\u003eLatitude: 33.449302, Longitude: -112.098344\\u003cbr\\u003eDate: 2015-11-01\\u003cbr\\u003eCrime Category: DRUG OFFENSE\",\"Address: 3700 N 12TH ST\\u003cbr\\u003eLatitude: 33.490418, Longitude: -112.056435\\u003cbr\\u003eDate: 2015-11-01\\u003cbr\\u003eCrime Category: MOTOR VEHICLE THEFT\",\"Address: 3200 E CAMELBACK RD\\u003cbr\\u003eLatitude: 33.510049, Longitude: -112.012876\\u003cbr\\u003eDate: 2015-11-01\\u003cbr\\u003eCrime Category: LARCENY-THEFT\",\"Address: 9000 S CENTRAL AVE\\u003cbr\\u003eLatitude: 33.363905628758324, Longitude: -112.0732977239317\\u003cbr\\u003eDate: 2015-11-01\\u003cbr\\u003eCrime Category: LARCENY-THEFT\",\"Address: 300 W BELL RD\\u003cbr\\u003eLatitude: 33.640311, Longitude: -112.078628\\u003cbr\\u003eDate: 2015-11-01\\u003cbr\\u003eCrime Category: DRUG OFFENSE\",\"Address: 15400 N CAVE CREEK RD\\u003cbr\\u003eLatitude: 33.626989175879395, Longitude: -112.03080877386935\\u003cbr\\u003eDate: 2015-11-01\\u003cbr\\u003eCrime Category: LARCENY-THEFT\",\"Address: 4100 W BLUEFIELD AVE\\u003cbr\\u003eLatitude: 33.652501, Longitude: -112.147717\\u003cbr\\u003eDate: 2015-11-01\\u003cbr\\u003eCrime Category: LARCENY-THEFT\",\"Address: 2500 W GREENWAY RD\\u003cbr\\u003eLatitude: 33.625375, Longitude: -112.11367\\u003cbr\\u003eDate: 2015-11-01\\u003cbr\\u003eCrime Category: LARCENY-THEFT\",\"Address: 4000 W SHANGRI LA RD\\u003cbr\\u003eLatitude: 33.587125, Longitude: -112.14513\\u003cbr\\u003eDate: 2015-11-01\\u003cbr\\u003eCrime Category: BURGLARY\",\"Address: 4200 S 36TH PL\\u003cbr\\u003eLatitude: 33.409093, Longitude: -112.00296\\u003cbr\\u003eDate: 2015-11-01\\u003cbr\\u003eCrime Category: LARCENY-THEFT\",\"Address: 35000 N NORTH VALLEY PKWY\\u003cbr\\u003eLatitude: 33.80203253583419, Longitude: -112.13058163116442\\u003cbr\\u003eDate: 2015-11-01\\u003cbr\\u003eCrime Category: ROBBERY\",\"Address: 3300 W POLK ST\\u003cbr\\u003eLatitude: 33.453298, Longitude: -112.130501\\u003cbr\\u003eDate: 2015-11-01\\u003cbr\\u003eCrime Category: AGGRAVATED ASSAULT\",\"Address: 3800 E SKY HARBOR BLVD\\u003cbr\\u003eLatitude: 33.43640710624165, Longitude: -112.01334159230677\\u003cbr\\u003eDate: 2015-11-01\\u003cbr\\u003eCrime Category: LARCENY-THEFT\",\"Address: 1600 E ROOSEVELT ST\\u003cbr\\u003eLatitude: 33.458802, Longitude: -112.047485\\u003cbr\\u003eDate: 2015-11-01\\u003cbr\\u003eCrime Category: LARCENY-THEFT\",\"Address: 7000 N 7TH AVE\\u003cbr\\u003eLatitude: 33.5392593559322, Longitude: -112.08253977966102\\u003cbr\\u003eDate: 2015-11-01\\u003cbr\\u003eCrime Category: BURGLARY\",\"Address: 1600 W BURGESS LN\\u003cbr\\u003eLatitude: 33.39016736981714, Longitude: -112.09268383869319\\u003cbr\\u003eDate: 2015-11-01\\u003cbr\\u003eCrime Category: LARCENY-THEFT\",\"Address: 1700 W BELL RD\\u003cbr\\u003eLatitude: 33.640238, Longitude: -112.0959\\u003cbr\\u003eDate: 2015-11-01\\u003cbr\\u003eCrime Category: LARCENY-THEFT\",\"Address: 5500 N 35TH AVE\\u003cbr\\u003eLatitude: 33.516853, Longitude: -112.134326\\u003cbr\\u003eDate: 2015-11-01\\u003cbr\\u003eCrime Category: LARCENY-THEFT\",\"Address: 7200 W DEVONSHIRE AVE\\u003cbr\\u003eLatitude: 33.49645882828283, Longitude: -112.21386831313131\\u003cbr\\u003eDate: 2015-11-01\\u003cbr\\u003eCrime Category: LARCENY-THEFT\",\"Address: 1800 W BELL RD\\u003cbr\\u003eLatitude: 33.6402324277168, Longitude: -112.09774094306228\\u003cbr\\u003eDate: 2015-11-01\\u003cbr\\u003eCrime Category: LARCENY-THEFT\",\"Address: 17400 N 19TH AVE\\u003cbr\\u003eLatitude: 33.644184844827585, Longitude: -112.099814\\u003cbr\\u003eDate: 2015-11-01\\u003cbr\\u003eCrime Category: LARCENY-THEFT\",\"Address: 5200 W INDIAN SCHOOL RD\\u003cbr\\u003eLatitude: 33.495071, Longitude: -112.171183\\u003cbr\\u003eDate: 2015-11-01\\u003cbr\\u003eCrime Category: LARCENY-THEFT\",\"Address: 3800 E BASELINE RD\\u003cbr\\u003eLatitude: 33.378138, Longitude: -112.000678\\u003cbr\\u003eDate: 2015-11-01\\u003cbr\\u003eCrime Category: LARCENY-THEFT\",\"Address: 4300 W CLARENDON AVE\\u003cbr\\u003eLatitude: 33.491409, Longitude: -112.151809\\u003cbr\\u003eDate: 2015-11-01\\u003cbr\\u003eCrime Category: AGGRAVATED ASSAULT\",\"Address: 4000 W WONDERVIEW RD\\u003cbr\\u003eLatitude: 33.51133110692751, Longitude: -112.14556849251726\\u003cbr\\u003eDate: 2015-11-01\\u003cbr\\u003eCrime Category: LARCENY-THEFT\",\"Address: 10300 W ATLANTIS WAY\\u003cbr\\u003eLatitude: 33.409754, Longitude: -112.279977\\u003cbr\\u003eDate: 2015-11-01\\u003cbr\\u003eCrime Category: LARCENY-THEFT\",\"Address: 2500 W BEAUTIFUL LN\\u003cbr\\u003eLatitude: 33.376098, Longitude: -112.113485\\u003cbr\\u003eDate: 2015-11-01\\u003cbr\\u003eCrime Category: MOTOR VEHICLE THEFT\",\"Address: 500 W EL CAMINO DR\\u003cbr\\u003eLatitude: 33.55718141745305, Longitude: -112.08110214329068\\u003cbr\\u003eDate: 2015-11-01\\u003cbr\\u003eCrime Category: LARCENY-THEFT\",\"Address: 4700 E RAY RD\\u003cbr\\u003eLatitude: 33.31991431591687, Longitude: -111.98231778495514\\u003cbr\\u003eDate: 2015-11-01\\u003cbr\\u003eCrime Category: LARCENY-THEFT\",\"Address: 2100 N 39TH DR\\u003cbr\\u003eLatitude: 33.471142, Longitude: -112.14406\\u003cbr\\u003eDate: 2015-11-01\\u003cbr\\u003eCrime Category: LARCENY-THEFT\",\"Address: 18400 N 19TH AVE\\u003cbr\\u003eLatitude: 33.65277565991285, Longitude: -112.09983710163824\\u003cbr\\u003eDate: 2015-11-01\\u003cbr\\u003eCrime Category: LARCENY-THEFT\",\"Address: 5600 S 32ND ST\\u003cbr\\u003eLatitude: 33.396297678420005, Longitude: -112.012825643148\\u003cbr\\u003eDate: 2015-11-01\\u003cbr\\u003eCrime Category: LARCENY-THEFT\",\"Address: 3100 S 87TH DR\\u003cbr\\u003eLatitude: 33.41904336363637, Longitude: -112.24769981818181\\u003cbr\\u003eDate: 2015-11-01\\u003cbr\\u003eCrime Category: AGGRAVATED ASSAULT\",\"Address: 12200 S 35TH ST\\u003cbr\\u003eLatitude: 33.334886, Longitude: -112.008359\\u003cbr\\u003eDate: 2015-11-01\\u003cbr\\u003eCrime Category: BURGLARY\",\"Address: 5200 W INDIAN SCHOOL RD\\u003cbr\\u003eLatitude: 33.495071, Longitude: -112.171183\\u003cbr\\u003eDate: 2015-11-01\\u003cbr\\u003eCrime Category: LARCENY-THEFT\",\"Address: 6200 W THOMAS RD\\u003cbr\\u003eLatitude: 33.480532, Longitude: -112.193478\\u003cbr\\u003eDate: 2015-11-01\\u003cbr\\u003eCrime Category: MOTOR VEHICLE THEFT\",\"Address: 4800 W VERDE LN\\u003cbr\\u003eLatitude: 33.481095, Longitude: -112.161735\\u003cbr\\u003eDate: 2015-11-01\\u003cbr\\u003eCrime Category: AGGRAVATED ASSAULT\",\"Address: 2100 W FLOWER ST\\u003cbr\\u003eLatitude: 33.485844, Longitude: -112.103625\\u003cbr\\u003eDate: 2015-11-01\\u003cbr\\u003eCrime Category: MOTOR VEHICLE THEFT\",\"Address: 2400 E VAN BUREN ST\\u003cbr\\u003eLatitude: 33.451434, Longitude: -112.030009\\u003cbr\\u003eDate: 2015-11-01\\u003cbr\\u003eCrime Category: ROBBERY\",\"Address: 3600 E VAN BUREN ST\\u003cbr\\u003eLatitude: 33.451367, Longitude: -112.003975\\u003cbr\\u003eDate: 2015-11-01\\u003cbr\\u003eCrime Category: AGGRAVATED ASSAULT\",\"Address: 10200 N METRO PKWY W\\u003cbr\\u003eLatitude: 33.578982, Longitude: -112.124261\\u003cbr\\u003eDate: 2015-11-01\\u003cbr\\u003eCrime Category: DRUG OFFENSE\",\"Address: N 47TH AVE & W GLENROSA AVE\\u003cbr\\u003eLatitude: nan, Longitude: nan\\u003cbr\\u003eDate: 2015-11-01\\u003cbr\\u003eCrime Category: ROBBERY\",\"Address: 900 W HIGHLAND AVE\\u003cbr\\u003eLatitude: 33.50583946063219, Longitude: -112.08469189302826\\u003cbr\\u003eDate: 2015-11-01\\u003cbr\\u003eCrime Category: MOTOR VEHICLE THEFT\",\"Address: 100 W JONES AVE\\u003cbr\\u003eLatitude: 33.410753324324325, Longitude: -112.07483441216216\\u003cbr\\u003eDate: 2015-11-01\\u003cbr\\u003eCrime Category: BURGLARY\",\"Address: 19200 N 20TH DR\\u003cbr\\u003eLatitude: 33.65951, Longitude: -112.10381\\u003cbr\\u003eDate: 2015-11-01\\u003cbr\\u003eCrime Category: LARCENY-THEFT\",\"Address: 5600 E GELDING DR\\u003cbr\\u003eLatitude: 33.617357, Longitude: -111.959701\\u003cbr\\u003eDate: 2015-11-01\\u003cbr\\u003eCrime Category: LARCENY-THEFT\",\"Address: 2000 W BETHANY HOME RD\\u003cbr\\u003eLatitude: 33.5250664, Longitude: -112.10216138369839\\u003cbr\\u003eDate: 2015-11-01\\u003cbr\\u003eCrime Category: RAPE\",\"Address: 2500 W CACTUS RD\\u003cbr\\u003eLatitude: 33.596505, Longitude: -112.113163\\u003cbr\\u003eDate: 2015-11-01\\u003cbr\\u003eCrime Category: MOTOR VEHICLE THEFT\",\"Address: 1800 W GRANT ST\\u003cbr\\u003eLatitude: 33.441446, Longitude: -112.098186\\u003cbr\\u003eDate: 2015-11-01\\u003cbr\\u003eCrime Category: LARCENY-THEFT\",\"Address: 4200 E CEDARWOOD LN\\u003cbr\\u003eLatitude: 33.292984, Longitude: -111.992565\\u003cbr\\u003eDate: 2015-11-01\\u003cbr\\u003eCrime Category: BURGLARY\"],\"visible\":true,\"type\":\"scattermapbox\"}],                        {\"template\":{\"data\":{\"histogram2dcontour\":[{\"type\":\"histogram2dcontour\",\"colorbar\":{\"outlinewidth\":0,\"ticks\":\"\"},\"colorscale\":[[0.0,\"#0d0887\"],[0.1111111111111111,\"#46039f\"],[0.2222222222222222,\"#7201a8\"],[0.3333333333333333,\"#9c179e\"],[0.4444444444444444,\"#bd3786\"],[0.5555555555555556,\"#d8576b\"],[0.6666666666666666,\"#ed7953\"],[0.7777777777777778,\"#fb9f3a\"],[0.8888888888888888,\"#fdca26\"],[1.0,\"#f0f921\"]]}],\"choropleth\":[{\"type\":\"choropleth\",\"colorbar\":{\"outlinewidth\":0,\"ticks\":\"\"}}],\"histogram2d\":[{\"type\":\"histogram2d\",\"colorbar\":{\"outlinewidth\":0,\"ticks\":\"\"},\"colorscale\":[[0.0,\"#0d0887\"],[0.1111111111111111,\"#46039f\"],[0.2222222222222222,\"#7201a8\"],[0.3333333333333333,\"#9c179e\"],[0.4444444444444444,\"#bd3786\"],[0.5555555555555556,\"#d8576b\"],[0.6666666666666666,\"#ed7953\"],[0.7777777777777778,\"#fb9f3a\"],[0.8888888888888888,\"#fdca26\"],[1.0,\"#f0f921\"]]}],\"heatmap\":[{\"type\":\"heatmap\",\"colorbar\":{\"outlinewidth\":0,\"ticks\":\"\"},\"colorscale\":[[0.0,\"#0d0887\"],[0.1111111111111111,\"#46039f\"],[0.2222222222222222,\"#7201a8\"],[0.3333333333333333,\"#9c179e\"],[0.4444444444444444,\"#bd3786\"],[0.5555555555555556,\"#d8576b\"],[0.6666666666666666,\"#ed7953\"],[0.7777777777777778,\"#fb9f3a\"],[0.8888888888888888,\"#fdca26\"],[1.0,\"#f0f921\"]]}],\"heatmapgl\":[{\"type\":\"heatmapgl\",\"colorbar\":{\"outlinewidth\":0,\"ticks\":\"\"},\"colorscale\":[[0.0,\"#0d0887\"],[0.1111111111111111,\"#46039f\"],[0.2222222222222222,\"#7201a8\"],[0.3333333333333333,\"#9c179e\"],[0.4444444444444444,\"#bd3786\"],[0.5555555555555556,\"#d8576b\"],[0.6666666666666666,\"#ed7953\"],[0.7777777777777778,\"#fb9f3a\"],[0.8888888888888888,\"#fdca26\"],[1.0,\"#f0f921\"]]}],\"contourcarpet\":[{\"type\":\"contourcarpet\",\"colorbar\":{\"outlinewidth\":0,\"ticks\":\"\"}}],\"contour\":[{\"type\":\"contour\",\"colorbar\":{\"outlinewidth\":0,\"ticks\":\"\"},\"colorscale\":[[0.0,\"#0d0887\"],[0.1111111111111111,\"#46039f\"],[0.2222222222222222,\"#7201a8\"],[0.3333333333333333,\"#9c179e\"],[0.4444444444444444,\"#bd3786\"],[0.5555555555555556,\"#d8576b\"],[0.6666666666666666,\"#ed7953\"],[0.7777777777777778,\"#fb9f3a\"],[0.8888888888888888,\"#fdca26\"],[1.0,\"#f0f921\"]]}],\"surface\":[{\"type\":\"surface\",\"colorbar\":{\"outlinewidth\":0,\"ticks\":\"\"},\"colorscale\":[[0.0,\"#0d0887\"],[0.1111111111111111,\"#46039f\"],[0.2222222222222222,\"#7201a8\"],[0.3333333333333333,\"#9c179e\"],[0.4444444444444444,\"#bd3786\"],[0.5555555555555556,\"#d8576b\"],[0.6666666666666666,\"#ed7953\"],[0.7777777777777778,\"#fb9f3a\"],[0.8888888888888888,\"#fdca26\"],[1.0,\"#f0f921\"]]}],\"mesh3d\":[{\"type\":\"mesh3d\",\"colorbar\":{\"outlinewidth\":0,\"ticks\":\"\"}}],\"scatter\":[{\"fillpattern\":{\"fillmode\":\"overlay\",\"size\":10,\"solidity\":0.2},\"type\":\"scatter\"}],\"parcoords\":[{\"type\":\"parcoords\",\"line\":{\"colorbar\":{\"outlinewidth\":0,\"ticks\":\"\"}}}],\"scatterpolargl\":[{\"type\":\"scatterpolargl\",\"marker\":{\"colorbar\":{\"outlinewidth\":0,\"ticks\":\"\"}}}],\"bar\":[{\"error_x\":{\"color\":\"#2a3f5f\"},\"error_y\":{\"color\":\"#2a3f5f\"},\"marker\":{\"line\":{\"color\":\"#E5ECF6\",\"width\":0.5},\"pattern\":{\"fillmode\":\"overlay\",\"size\":10,\"solidity\":0.2}},\"type\":\"bar\"}],\"scattergeo\":[{\"type\":\"scattergeo\",\"marker\":{\"colorbar\":{\"outlinewidth\":0,\"ticks\":\"\"}}}],\"scatterpolar\":[{\"type\":\"scatterpolar\",\"marker\":{\"colorbar\":{\"outlinewidth\":0,\"ticks\":\"\"}}}],\"histogram\":[{\"marker\":{\"pattern\":{\"fillmode\":\"overlay\",\"size\":10,\"solidity\":0.2}},\"type\":\"histogram\"}],\"scattergl\":[{\"type\":\"scattergl\",\"marker\":{\"colorbar\":{\"outlinewidth\":0,\"ticks\":\"\"}}}],\"scatter3d\":[{\"type\":\"scatter3d\",\"line\":{\"colorbar\":{\"outlinewidth\":0,\"ticks\":\"\"}},\"marker\":{\"colorbar\":{\"outlinewidth\":0,\"ticks\":\"\"}}}],\"scattermapbox\":[{\"type\":\"scattermapbox\",\"marker\":{\"colorbar\":{\"outlinewidth\":0,\"ticks\":\"\"}}}],\"scatterternary\":[{\"type\":\"scatterternary\",\"marker\":{\"colorbar\":{\"outlinewidth\":0,\"ticks\":\"\"}}}],\"scattercarpet\":[{\"type\":\"scattercarpet\",\"marker\":{\"colorbar\":{\"outlinewidth\":0,\"ticks\":\"\"}}}],\"carpet\":[{\"aaxis\":{\"endlinecolor\":\"#2a3f5f\",\"gridcolor\":\"white\",\"linecolor\":\"white\",\"minorgridcolor\":\"white\",\"startlinecolor\":\"#2a3f5f\"},\"baxis\":{\"endlinecolor\":\"#2a3f5f\",\"gridcolor\":\"white\",\"linecolor\":\"white\",\"minorgridcolor\":\"white\",\"startlinecolor\":\"#2a3f5f\"},\"type\":\"carpet\"}],\"table\":[{\"cells\":{\"fill\":{\"color\":\"#EBF0F8\"},\"line\":{\"color\":\"white\"}},\"header\":{\"fill\":{\"color\":\"#C8D4E3\"},\"line\":{\"color\":\"white\"}},\"type\":\"table\"}],\"barpolar\":[{\"marker\":{\"line\":{\"color\":\"#E5ECF6\",\"width\":0.5},\"pattern\":{\"fillmode\":\"overlay\",\"size\":10,\"solidity\":0.2}},\"type\":\"barpolar\"}],\"pie\":[{\"automargin\":true,\"type\":\"pie\"}]},\"layout\":{\"autotypenumbers\":\"strict\",\"colorway\":[\"#636efa\",\"#EF553B\",\"#00cc96\",\"#ab63fa\",\"#FFA15A\",\"#19d3f3\",\"#FF6692\",\"#B6E880\",\"#FF97FF\",\"#FECB52\"],\"font\":{\"color\":\"#2a3f5f\"},\"hovermode\":\"closest\",\"hoverlabel\":{\"align\":\"left\"},\"paper_bgcolor\":\"white\",\"plot_bgcolor\":\"#E5ECF6\",\"polar\":{\"bgcolor\":\"#E5ECF6\",\"angularaxis\":{\"gridcolor\":\"white\",\"linecolor\":\"white\",\"ticks\":\"\"},\"radialaxis\":{\"gridcolor\":\"white\",\"linecolor\":\"white\",\"ticks\":\"\"}},\"ternary\":{\"bgcolor\":\"#E5ECF6\",\"aaxis\":{\"gridcolor\":\"white\",\"linecolor\":\"white\",\"ticks\":\"\"},\"baxis\":{\"gridcolor\":\"white\",\"linecolor\":\"white\",\"ticks\":\"\"},\"caxis\":{\"gridcolor\":\"white\",\"linecolor\":\"white\",\"ticks\":\"\"}},\"coloraxis\":{\"colorbar\":{\"outlinewidth\":0,\"ticks\":\"\"}},\"colorscale\":{\"sequential\":[[0.0,\"#0d0887\"],[0.1111111111111111,\"#46039f\"],[0.2222222222222222,\"#7201a8\"],[0.3333333333333333,\"#9c179e\"],[0.4444444444444444,\"#bd3786\"],[0.5555555555555556,\"#d8576b\"],[0.6666666666666666,\"#ed7953\"],[0.7777777777777778,\"#fb9f3a\"],[0.8888888888888888,\"#fdca26\"],[1.0,\"#f0f921\"]],\"sequentialminus\":[[0.0,\"#0d0887\"],[0.1111111111111111,\"#46039f\"],[0.2222222222222222,\"#7201a8\"],[0.3333333333333333,\"#9c179e\"],[0.4444444444444444,\"#bd3786\"],[0.5555555555555556,\"#d8576b\"],[0.6666666666666666,\"#ed7953\"],[0.7777777777777778,\"#fb9f3a\"],[0.8888888888888888,\"#fdca26\"],[1.0,\"#f0f921\"]],\"diverging\":[[0,\"#8e0152\"],[0.1,\"#c51b7d\"],[0.2,\"#de77ae\"],[0.3,\"#f1b6da\"],[0.4,\"#fde0ef\"],[0.5,\"#f7f7f7\"],[0.6,\"#e6f5d0\"],[0.7,\"#b8e186\"],[0.8,\"#7fbc41\"],[0.9,\"#4d9221\"],[1,\"#276419\"]]},\"xaxis\":{\"gridcolor\":\"white\",\"linecolor\":\"white\",\"ticks\":\"\",\"title\":{\"standoff\":15},\"zerolinecolor\":\"white\",\"automargin\":true,\"zerolinewidth\":2},\"yaxis\":{\"gridcolor\":\"white\",\"linecolor\":\"white\",\"ticks\":\"\",\"title\":{\"standoff\":15},\"zerolinecolor\":\"white\",\"automargin\":true,\"zerolinewidth\":2},\"scene\":{\"xaxis\":{\"backgroundcolor\":\"#E5ECF6\",\"gridcolor\":\"white\",\"linecolor\":\"white\",\"showbackground\":true,\"ticks\":\"\",\"zerolinecolor\":\"white\",\"gridwidth\":2},\"yaxis\":{\"backgroundcolor\":\"#E5ECF6\",\"gridcolor\":\"white\",\"linecolor\":\"white\",\"showbackground\":true,\"ticks\":\"\",\"zerolinecolor\":\"white\",\"gridwidth\":2},\"zaxis\":{\"backgroundcolor\":\"#E5ECF6\",\"gridcolor\":\"white\",\"linecolor\":\"white\",\"showbackground\":true,\"ticks\":\"\",\"zerolinecolor\":\"white\",\"gridwidth\":2}},\"shapedefaults\":{\"line\":{\"color\":\"#2a3f5f\"}},\"annotationdefaults\":{\"arrowcolor\":\"#2a3f5f\",\"arrowhead\":0,\"arrowwidth\":1},\"geo\":{\"bgcolor\":\"white\",\"landcolor\":\"#E5ECF6\",\"subunitcolor\":\"white\",\"showland\":true,\"showlakes\":true,\"lakecolor\":\"white\"},\"title\":{\"x\":0.05},\"mapbox\":{\"style\":\"light\"}}},\"mapbox\":{\"style\":\"open-street-map\",\"zoom\":4},\"sliders\":[{\"active\":0,\"steps\":[{\"args\":[{\"visible\":[true]},{\"title\":\"Date: 2015-11-01\"}],\"method\":\"update\"}]}]},                        {\"responsive\": true}                    ).then(function(){\n",
       "                            \n",
       "var gd = document.getElementById('a7e11dba-1546-4930-8204-947d096dcbe3');\n",
       "var x = new MutationObserver(function (mutations, observer) {{\n",
       "        var display = window.getComputedStyle(gd).display;\n",
       "        if (!display || display === 'none') {{\n",
       "            console.log([gd, 'removed!']);\n",
       "            Plotly.purge(gd);\n",
       "            observer.disconnect();\n",
       "        }}\n",
       "}});\n",
       "\n",
       "// Listen for the removal of the full notebook cells\n",
       "var notebookContainer = gd.closest('#notebook-container');\n",
       "if (notebookContainer) {{\n",
       "    x.observe(notebookContainer, {childList: true});\n",
       "}}\n",
       "\n",
       "// Listen for the clearing of the current output cell\n",
       "var outputEl = gd.closest('.output');\n",
       "if (outputEl) {{\n",
       "    x.observe(outputEl, {childList: true});\n",
       "}}\n",
       "\n",
       "                        })                };                });            </script>        </div>"
      ]
     },
     "metadata": {},
     "output_type": "display_data"
    }
   ],
   "source": [
    "fig.show()"
   ]
  },
  {
   "cell_type": "code",
   "execution_count": null,
   "id": "1a745b1b",
   "metadata": {},
   "outputs": [],
   "source": []
  }
 ],
 "metadata": {
  "kernelspec": {
   "display_name": "Python 3 (ipykernel)",
   "language": "python",
   "name": "python3"
  },
  "language_info": {
   "codemirror_mode": {
    "name": "ipython",
    "version": 3
   },
   "file_extension": ".py",
   "mimetype": "text/x-python",
   "name": "python",
   "nbconvert_exporter": "python",
   "pygments_lexer": "ipython3",
   "version": "3.9.7"
  }
 },
 "nbformat": 4,
 "nbformat_minor": 5
}
